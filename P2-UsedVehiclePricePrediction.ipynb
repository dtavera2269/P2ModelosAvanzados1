{
 "cells": [
  {
   "cell_type": "markdown",
   "metadata": {},
   "source": [
    "# Project 2\n",
    "\n",
    "# Used Vehicle Price Prediction"
   ]
  },
  {
   "cell_type": "markdown",
   "metadata": {},
   "source": [
    "#### Angie Paola Chacon Pinzon: 201012536\n",
    "#### Jahir Stevens Rodriguez Riveros: 201819361\n",
    "#### Juan Andres Cabal Jaramillo: 200620778\n",
    "#### David Tavera Sánchez: 201016123"
   ]
  },
  {
   "cell_type": "markdown",
   "metadata": {},
   "source": [
    "## Introduction\n",
    "\n",
    "- 1.2 Million listings scraped from TrueCar.com - Price, Mileage, Make, Model dataset from Kaggle: [data](https://www.kaggle.com/jpayne/852k-used-car-listings)\n",
    "- Each observation represents the price of an used car"
   ]
  },
  {
   "cell_type": "code",

   "execution_count": 2,

   "metadata": {},
   "outputs": [],
   "source": [
    "%matplotlib inline\n",
    "import pandas as pd"
   ]
  },
  {
   "cell_type": "code",
   "execution_count": 2,
   "metadata": {},
   "outputs": [],
   "source": [
    "data = pd.read_csv('datasets/dataTrain_carListings.zip')"
   ]
  },
  {
   "cell_type": "code",

   "execution_count": 21,

   "metadata": {
    "scrolled": true
   },
   "outputs": [
    {
     "data": {
      "text/html": [
       "<div>\n",
       "<style scoped>\n",
       "    .dataframe tbody tr th:only-of-type {\n",
       "        vertical-align: middle;\n",
       "    }\n",
       "\n",
       "    .dataframe tbody tr th {\n",
       "        vertical-align: top;\n",
       "    }\n",
       "\n",
       "    .dataframe thead th {\n",
       "        text-align: right;\n",
       "    }\n",
       "</style>\n",
       "<table border=\"1\" class=\"dataframe\">\n",
       "  <thead>\n",
       "    <tr style=\"text-align: right;\">\n",
       "      <th></th>\n",
       "      <th>Price</th>\n",
       "      <th>Year</th>\n",
       "      <th>Mileage</th>\n",
       "      <th>State</th>\n",
       "      <th>Make</th>\n",
       "      <th>Model</th>\n",
       "    </tr>\n",
       "  </thead>\n",
       "  <tbody>\n",
       "    <tr>\n",
       "      <th>0</th>\n",
       "      <td>21490</td>\n",
       "      <td>2014</td>\n",
       "      <td>31909</td>\n",
       "      <td>MD</td>\n",
       "      <td>Nissan</td>\n",
       "      <td>MuranoAWD</td>\n",
       "    </tr>\n",
       "    <tr>\n",
       "      <th>1</th>\n",
       "      <td>21250</td>\n",
       "      <td>2016</td>\n",
       "      <td>25741</td>\n",
       "      <td>KY</td>\n",
       "      <td>Chevrolet</td>\n",
       "      <td>CamaroCoupe</td>\n",
       "    </tr>\n",
       "    <tr>\n",
       "      <th>2</th>\n",
       "      <td>20925</td>\n",
       "      <td>2016</td>\n",
       "      <td>24633</td>\n",
       "      <td>SC</td>\n",
       "      <td>Hyundai</td>\n",
       "      <td>Santa</td>\n",
       "    </tr>\n",
       "    <tr>\n",
       "      <th>3</th>\n",
       "      <td>14500</td>\n",
       "      <td>2012</td>\n",
       "      <td>84026</td>\n",
       "      <td>OK</td>\n",
       "      <td>Jeep</td>\n",
       "      <td>Grand</td>\n",
       "    </tr>\n",
       "    <tr>\n",
       "      <th>4</th>\n",
       "      <td>32488</td>\n",
       "      <td>2013</td>\n",
       "      <td>22816</td>\n",
       "      <td>TN</td>\n",
       "      <td>Jeep</td>\n",
       "      <td>Wrangler</td>\n",
       "    </tr>\n",
       "  </tbody>\n",
       "</table>\n",
       "</div>"
      ],
      "text/plain": [
       "   Price  Year  Mileage State       Make        Model\n",
       "0  21490  2014    31909    MD     Nissan    MuranoAWD\n",
       "1  21250  2016    25741    KY  Chevrolet  CamaroCoupe\n",
       "2  20925  2016    24633    SC    Hyundai        Santa\n",
       "3  14500  2012    84026    OK       Jeep        Grand\n",
       "4  32488  2013    22816    TN       Jeep     Wrangler"
      ]
     },

     "execution_count": 21,

     "metadata": {},
     "output_type": "execute_result"
    }
   ],
   "source": [
    "data.head()"
   ]
  },
  {
   "cell_type": "code",
   "execution_count": 22,
   "metadata": {
    "scrolled": true
   },
   "outputs": [
    {
     "name": "stdout",
     "output_type": "stream",
     "text": [
      "<class 'pandas.core.frame.DataFrame'>\n",
      "RangeIndex: 500000 entries, 0 to 499999\n",
      "Data columns (total 6 columns):\n",
      " #   Column   Non-Null Count   Dtype \n",
      "---  ------   --------------   ----- \n",
      " 0   Price    500000 non-null  int64 \n",
      " 1   Year     500000 non-null  int64 \n",
      " 2   Mileage  500000 non-null  int64 \n",
      " 3   State    500000 non-null  object\n",
      " 4   Make     500000 non-null  object\n",
      " 5   Model    500000 non-null  object\n",
      "dtypes: int64(3), object(3)\n",
      "memory usage: 22.9+ MB\n"
     ]
    }
   ],
   "source": [
    "data.info()"
   ]
  },
  {
   "cell_type": "code",
   "execution_count": 23,
   "metadata": {},
   "outputs": [
    {
     "data": {
      "text/plain": [
       "count    500000.000000\n",
       "mean      21144.186304\n",
       "std       10753.259704\n",
       "min        5001.000000\n",
       "25%       13499.000000\n",
       "50%       18450.000000\n",
       "75%       26998.000000\n",
       "max       79999.000000\n",
       "Name: Price, dtype: float64"
      ]
     },
     "execution_count": 23,
     "metadata": {},
     "output_type": "execute_result"
    }
   ],
   "source": [
    "data.Price.describe()"
   ]
  },
  {
   "cell_type": "code",
   "execution_count": 24,
   "metadata": {},
   "outputs": [
    {
     "data": {
      "text/plain": [
       "<matplotlib.axes._subplots.AxesSubplot at 0x12bc2dd50>"
      ]
     },
     "execution_count": 24,
     "metadata": {},
     "output_type": "execute_result"
    },
    {
     "data": {
      "image/png": "[encoded data removed]",
      "text/plain": [
       "<Figure size 432x288 with 1 Axes>"
      ]
     },
     "metadata": {
      "needs_background": "light"
     },
     "output_type": "display_data"
    }
   ],
   "source": [
    "data.plot(kind='scatter', y='Price', x='Year')"
   ]
  },
  {
   "cell_type": "code",
   "execution_count": 25,
   "metadata": {},
   "outputs": [
    {
     "data": {
      "text/plain": [
       "<matplotlib.axes._subplots.AxesSubplot at 0x12bd95910>"
      ]
     },
     "execution_count": 25,
     "metadata": {},
     "output_type": "execute_result"
    },
    {
     "data": {
      "image/png": "[encoded data removed]",
      "text/plain": [
       "<Figure size 432x288 with 1 Axes>"
      ]
     },
     "metadata": {
      "needs_background": "light"
     },
     "output_type": "display_data"
    }
   ],
   "source": [
    "data.plot(kind='scatter', y='Price', x='Mileage')"
   ]
  },
  {
   "cell_type": "code",
   "execution_count": 26,
   "metadata": {},
   "outputs": [
    {
     "data": {
      "text/plain": [
       "Index(['Price', 'Year', 'Mileage', 'State', 'Make', 'Model'], dtype='object')"
      ]
     },
     "execution_count": 26,
     "metadata": {},
     "output_type": "execute_result"
    }
   ],
   "source": [
    "data.columns"
   ]
  },
  {
   "cell_type": "markdown",
   "metadata": {},
   "source": [
    "# Exercise P2.1 (50%)\n",
    "\n",
    "Develop a machine learning model that predicts the price of the of car using as an input ['Year', 'Mileage', 'State', 'Make', 'Model']\n",
    "\n",
    "#### Evaluation:\n",
    "- 25% - Performance of the models using a manually implemented K-Fold (K=10) cross-validation\n",
    "- 25% - Notebook explaining the process for selecting the best model. You must specify how the calibration of each of the parameters is done and how these change the performance of the model. It is expected that a clear comparison will be made of all implemented models.. Present the most relevant conslusions about the whole process. \n"
   ]
  },
  {
   "cell_type": "markdown",
   "metadata": {},
   "source": [
    "### Boosting"
   ]
  },
  {
   "cell_type": "code",
   "execution_count": 49,
   "metadata": {},
   "outputs": [],
   "source": [
    "#%matplotlib inline\n",
    "#import pandas as pd\n",
    "import numpy as np\n",
    "from sklearn import metrics\n",
    "from sklearn.model_selection import train_test_split\n",
    "from sklearn.ensemble import RandomForestClassifier\n",
    "from sklearn.ensemble import RandomForestRegressor\n",
    "from sklearn.model_selection import cross_val_score\n",
    "from xgboost import XGBClassifier\n",
    "from sklearn.ensemble import GradientBoostingRegressor\n",
    "from datetime import datetime"
   ]
  },
  {
   "cell_type": "code",
   "execution_count": 50,
   "metadata": {},
   "outputs": [],
   "source": [
    "def now():\n",
    "    now = datetime.now()\n",
    "    current_time = now.strftime(\"%H:%M:%S\")\n",
    "    print(\"Current Time =\", current_time)"
   ]
  },
  {
   "cell_type": "code",
   "execution_count": 28,
   "metadata": {},
   "outputs": [
    {
     "data": {
      "text/html": [
       "<div>\n",
       "<style scoped>\n",
       "    .dataframe tbody tr th:only-of-type {\n",
       "        vertical-align: middle;\n",
       "    }\n",
       "\n",
       "    .dataframe tbody tr th {\n",
       "        vertical-align: top;\n",
       "    }\n",
       "\n",
       "    .dataframe thead th {\n",
       "        text-align: right;\n",
       "    }\n",
       "</style>\n",
       "<table border=\"1\" class=\"dataframe\">\n",
       "  <thead>\n",
       "    <tr style=\"text-align: right;\">\n",
       "      <th></th>\n",
       "      <th></th>\n",
       "      <th>Price</th>\n",
       "      <th>Year</th>\n",
       "      <th>Mileage</th>\n",
       "    </tr>\n",
       "    <tr>\n",
       "      <th>Make</th>\n",
       "      <th>Model</th>\n",
       "      <th></th>\n",
       "      <th></th>\n",
       "      <th></th>\n",
       "    </tr>\n",
       "  </thead>\n",
       "  <tbody>\n",
       "    <tr>\n",
       "      <th rowspan=\"5\" valign=\"top\">Acura</th>\n",
       "      <th>MDX4WD</th>\n",
       "      <td>11265.890490</td>\n",
       "      <td>2006.501441</td>\n",
       "      <td>124254.394813</td>\n",
       "    </tr>\n",
       "    <tr>\n",
       "      <th>MDXAWD</th>\n",
       "      <td>26546.670020</td>\n",
       "      <td>2012.955734</td>\n",
       "      <td>62650.574447</td>\n",
       "    </tr>\n",
       "    <tr>\n",
       "      <th>RDXAWD</th>\n",
       "      <td>26516.121019</td>\n",
       "      <td>2014.558917</td>\n",
       "      <td>40717.030255</td>\n",
       "    </tr>\n",
       "    <tr>\n",
       "      <th>RDXFWD</th>\n",
       "      <td>26667.457447</td>\n",
       "      <td>2015.007979</td>\n",
       "      <td>33343.989362</td>\n",
       "    </tr>\n",
       "    <tr>\n",
       "      <th>TL4dr</th>\n",
       "      <td>11733.715493</td>\n",
       "      <td>2008.754930</td>\n",
       "      <td>103567.515493</td>\n",
       "    </tr>\n",
       "    <tr>\n",
       "      <th>...</th>\n",
       "      <th>...</th>\n",
       "      <td>...</td>\n",
       "      <td>...</td>\n",
       "      <td>...</td>\n",
       "    </tr>\n",
       "    <tr>\n",
       "      <th rowspan=\"5\" valign=\"top\">Volvo</th>\n",
       "      <th>XC60T6</th>\n",
       "      <td>29072.636646</td>\n",
       "      <td>2014.500000</td>\n",
       "      <td>39991.375776</td>\n",
       "    </tr>\n",
       "    <tr>\n",
       "      <th>XC704dr</th>\n",
       "      <td>12274.263158</td>\n",
       "      <td>2009.063158</td>\n",
       "      <td>95738.505263</td>\n",
       "    </tr>\n",
       "    <tr>\n",
       "      <th>XC90AWD</th>\n",
       "      <td>30444.651111</td>\n",
       "      <td>2013.106667</td>\n",
       "      <td>59612.491111</td>\n",
       "    </tr>\n",
       "    <tr>\n",
       "      <th>XC90FWD</th>\n",
       "      <td>15158.863248</td>\n",
       "      <td>2010.589744</td>\n",
       "      <td>89933.709402</td>\n",
       "    </tr>\n",
       "    <tr>\n",
       "      <th>XC90T6</th>\n",
       "      <td>53176.666667</td>\n",
       "      <td>2017.023810</td>\n",
       "      <td>11986.166667</td>\n",
       "    </tr>\n",
       "  </tbody>\n",
       "</table>\n",
       "<p>536 rows × 3 columns</p>\n",
       "</div>"
      ],
      "text/plain": [
       "                      Price         Year        Mileage\n",
       "Make  Model                                            \n",
       "Acura MDX4WD   11265.890490  2006.501441  124254.394813\n",
       "      MDXAWD   26546.670020  2012.955734   62650.574447\n",
       "      RDXAWD   26516.121019  2014.558917   40717.030255\n",
       "      RDXFWD   26667.457447  2015.007979   33343.989362\n",
       "      TL4dr    11733.715493  2008.754930  103567.515493\n",
       "...                     ...          ...            ...\n",
       "Volvo XC60T6   29072.636646  2014.500000   39991.375776\n",
       "      XC704dr  12274.263158  2009.063158   95738.505263\n",
       "      XC90AWD  30444.651111  2013.106667   59612.491111\n",
       "      XC90FWD  15158.863248  2010.589744   89933.709402\n",
       "      XC90T6   53176.666667  2017.023810   11986.166667\n",
       "\n",
       "[536 rows x 3 columns]"
      ]
     },
     "execution_count": 28,
     "metadata": {},
     "output_type": "execute_result"
    }
   ],
   "source": [
    "data.groupby(['Make', 'Model']).mean()"
   ]
  },
  {
   "cell_type": "code",
   "execution_count": 4,
   "metadata": {},
   "outputs": [
    {
     "data": {
      "text/plain": [
       "(500000, 617)"
      ]
     },
     "execution_count": 4,
     "metadata": {},
     "output_type": "execute_result"
    }
   ],
   "source": [
    "states = pd.get_dummies(data['State'])\n",
    "makes = pd.get_dummies(data['Make'])\n",
    "models = pd.get_dummies(data['Model'])\n",
    "df = pd.concat([data[['Price', 'Year', 'Mileage']], states, makes, models], axis = 1)\n",
    "#df = pd.concat([data[['Price']], makes], axis = 1)\n",
    "df.shape"
   ]
  },
  {
   "cell_type": "code",
   "execution_count": 36,
   "metadata": {},
   "outputs": [
    {
     "data": {
      "text/html": [
       "<div>\n",
       "<style scoped>\n",
       "    .dataframe tbody tr th:only-of-type {\n",
       "        vertical-align: middle;\n",
       "    }\n",
       "\n",
       "    .dataframe tbody tr th {\n",
       "        vertical-align: top;\n",
       "    }\n",
       "\n",
       "    .dataframe thead th {\n",
       "        text-align: right;\n",
       "    }\n",
       "</style>\n",
       "<table border=\"1\" class=\"dataframe\">\n",
       "  <thead>\n",
       "    <tr style=\"text-align: right;\">\n",
       "      <th></th>\n",
       "      <th>Price</th>\n",
       "      <th>Year</th>\n",
       "      <th>Mileage</th>\n",
       "      <th>AK</th>\n",
       "      <th>AL</th>\n",
       "      <th>AR</th>\n",
       "      <th>AZ</th>\n",
       "      <th>CA</th>\n",
       "      <th>CO</th>\n",
       "      <th>CT</th>\n",
       "      <th>...</th>\n",
       "      <th>Yaris4dr</th>\n",
       "      <th>YarisBase</th>\n",
       "      <th>YarisLE</th>\n",
       "      <th>Yukon</th>\n",
       "      <th>Yukon2WD</th>\n",
       "      <th>Yukon4WD</th>\n",
       "      <th>Yukon4dr</th>\n",
       "      <th>tC2dr</th>\n",
       "      <th>xB5dr</th>\n",
       "      <th>xD5dr</th>\n",
       "    </tr>\n",
       "  </thead>\n",
       "  <tbody>\n",
       "    <tr>\n",
       "      <th>0</th>\n",
       "      <td>21490</td>\n",
       "      <td>2014</td>\n",
       "      <td>31909</td>\n",
       "      <td>0</td>\n",
       "      <td>0</td>\n",
       "      <td>0</td>\n",
       "      <td>0</td>\n",
       "      <td>0</td>\n",
       "      <td>0</td>\n",
       "      <td>0</td>\n",
       "      <td>...</td>\n",
       "      <td>0</td>\n",
       "      <td>0</td>\n",
       "      <td>0</td>\n",
       "      <td>0</td>\n",
       "      <td>0</td>\n",
       "      <td>0</td>\n",
       "      <td>0</td>\n",
       "      <td>0</td>\n",
       "      <td>0</td>\n",
       "      <td>0</td>\n",
       "    </tr>\n",
       "    <tr>\n",
       "      <th>1</th>\n",
       "      <td>21250</td>\n",
       "      <td>2016</td>\n",
       "      <td>25741</td>\n",
       "      <td>0</td>\n",
       "      <td>0</td>\n",
       "      <td>0</td>\n",
       "      <td>0</td>\n",
       "      <td>0</td>\n",
       "      <td>0</td>\n",
       "      <td>0</td>\n",
       "      <td>...</td>\n",
       "      <td>0</td>\n",
       "      <td>0</td>\n",
       "      <td>0</td>\n",
       "      <td>0</td>\n",
       "      <td>0</td>\n",
       "      <td>0</td>\n",
       "      <td>0</td>\n",
       "      <td>0</td>\n",
       "      <td>0</td>\n",
       "      <td>0</td>\n",
       "    </tr>\n",
       "    <tr>\n",
       "      <th>2</th>\n",
       "      <td>20925</td>\n",
       "      <td>2016</td>\n",
       "      <td>24633</td>\n",
       "      <td>0</td>\n",
       "      <td>0</td>\n",
       "      <td>0</td>\n",
       "      <td>0</td>\n",
       "      <td>0</td>\n",
       "      <td>0</td>\n",
       "      <td>0</td>\n",
       "      <td>...</td>\n",
       "      <td>0</td>\n",
       "      <td>0</td>\n",
       "      <td>0</td>\n",
       "      <td>0</td>\n",
       "      <td>0</td>\n",
       "      <td>0</td>\n",
       "      <td>0</td>\n",
       "      <td>0</td>\n",
       "      <td>0</td>\n",
       "      <td>0</td>\n",
       "    </tr>\n",
       "    <tr>\n",
       "      <th>3</th>\n",
       "      <td>14500</td>\n",
       "      <td>2012</td>\n",
       "      <td>84026</td>\n",
       "      <td>0</td>\n",
       "      <td>0</td>\n",
       "      <td>0</td>\n",
       "      <td>0</td>\n",
       "      <td>0</td>\n",
       "      <td>0</td>\n",
       "      <td>0</td>\n",
       "      <td>...</td>\n",
       "      <td>0</td>\n",
       "      <td>0</td>\n",
       "      <td>0</td>\n",
       "      <td>0</td>\n",
       "      <td>0</td>\n",
       "      <td>0</td>\n",
       "      <td>0</td>\n",
       "      <td>0</td>\n",
       "      <td>0</td>\n",
       "      <td>0</td>\n",
       "    </tr>\n",
       "    <tr>\n",
       "      <th>4</th>\n",
       "      <td>32488</td>\n",
       "      <td>2013</td>\n",
       "      <td>22816</td>\n",
       "      <td>0</td>\n",
       "      <td>0</td>\n",
       "      <td>0</td>\n",
       "      <td>0</td>\n",
       "      <td>0</td>\n",
       "      <td>0</td>\n",
       "      <td>0</td>\n",
       "      <td>...</td>\n",
       "      <td>0</td>\n",
       "      <td>0</td>\n",
       "      <td>0</td>\n",
       "      <td>0</td>\n",
       "      <td>0</td>\n",
       "      <td>0</td>\n",
       "      <td>0</td>\n",
       "      <td>0</td>\n",
       "      <td>0</td>\n",
       "      <td>0</td>\n",
       "    </tr>\n",
       "  </tbody>\n",
       "</table>\n",
       "<p>5 rows × 617 columns</p>\n",
       "</div>"
      ],
      "text/plain": [
       "   Price  Year  Mileage   AK   AL   AR   AZ   CA   CO   CT  ...  Yaris4dr  \\\n",
       "0  21490  2014    31909    0    0    0    0    0    0    0  ...         0   \n",
       "1  21250  2016    25741    0    0    0    0    0    0    0  ...         0   \n",
       "2  20925  2016    24633    0    0    0    0    0    0    0  ...         0   \n",
       "3  14500  2012    84026    0    0    0    0    0    0    0  ...         0   \n",
       "4  32488  2013    22816    0    0    0    0    0    0    0  ...         0   \n",
       "\n",
       "   YarisBase  YarisLE  Yukon  Yukon2WD  Yukon4WD  Yukon4dr  tC2dr  xB5dr  \\\n",
       "0          0        0      0         0         0         0      0      0   \n",
       "1          0        0      0         0         0         0      0      0   \n",
       "2          0        0      0         0         0         0      0      0   \n",
       "3          0        0      0         0         0         0      0      0   \n",
       "4          0        0      0         0         0         0      0      0   \n",
       "\n",
       "   xD5dr  \n",
       "0      0  \n",
       "1      0  \n",
       "2      0  \n",
       "3      0  \n",
       "4      0  \n",
       "\n",
       "[5 rows x 617 columns]"
      ]
     },
     "execution_count": 36,
     "metadata": {},
     "output_type": "execute_result"
    }
   ],
   "source": [
    "df.head()"
   ]
  },
  {
   "cell_type": "code",
   "execution_count": 7,
   "metadata": {},
   "outputs": [
    {
     "name": "stdout",
     "output_type": "stream",
     "text": [
      "['Price', 'Year', 'Mileage', ' AK', ' AL', ' AR', ' AZ', ' CA', ' CO', ' CT', ' DC', ' DE', ' FL', ' GA', ' HI', ' IA', ' ID', ' IL', ' IN', ' KS', ' KY', ' LA', ' MA', ' MD', ' ME', ' MI', ' MN', ' MO', ' MS', ' MT', ' NC', ' ND', ' NE', ' NH', ' NJ', ' NM', ' NV', ' NY', ' OH', ' OK', ' OR', ' PA', ' RI', ' SC', ' SD', ' TN', ' TX', ' UT', ' VA', ' VT', ' WA', ' WI', ' WV', ' WY', 'Acura', 'Audi', 'BMW', 'Bentley', 'Buick', 'Cadillac', 'Chevrolet', 'Chrysler', 'Dodge', 'FIAT', 'Ford', 'Freightliner', 'GMC', 'Honda', 'Hyundai', 'INFINITI', 'Jaguar', 'Jeep', 'Kia', 'Land', 'Lexus', 'Lincoln', 'MINI', 'Mazda', 'Mercedes-Benz', 'Mercury', 'Mitsubishi', 'Nissan', 'Pontiac', 'Porsche', 'Ram', 'Scion', 'Subaru', 'Suzuki', 'Tesla', 'Toyota', 'Volkswagen', 'Volvo', '1', '15002WD', '15004WD', '1500Laramie', '1500Tradesman', '200LX', '200Limited', '200S', '200Touring', '25002WD', '25004WD', '3', '300300C', '300300S', '3004dr', '300Base', '300Limited', '300Touring', '35004WD', '350Z2dr', '4Runner2WD', '4Runner4WD', '4Runner4dr', '4RunnerLimited', '4RunnerRWD', '4RunnerSR5', '4RunnerTrail', '5', '500Pop', '6', '7', '911', '9112dr', 'A34dr', 'A44dr', 'A64dr', 'A8', 'AcadiaAWD', 'AcadiaFWD', 'Accent4dr', 'Accord', 'AccordEX', 'AccordEX-L', 'AccordLX', 'AccordLX-S', 'AccordSE', 'Altima4dr', 'Armada2WD', 'Armada4WD', 'Avalanche2WD', 'Avalanche4WD', 'Avalon4dr', 'AvalonLimited', 'AvalonTouring', 'AvalonXLE', 'Azera4dr', 'Boxster2dr', 'C-Class4dr', 'C-ClassC', 'C-ClassC300', 'C-ClassC350', 'C702dr', 'CC4dr', 'CR-V2WD', 'CR-V4WD', 'CR-VEX', 'CR-VEX-L', 'CR-VLX', 'CR-VSE', 'CR-ZEX', 'CT', 'CTCT', 'CTS', 'CTS-V', 'CTS4dr', 'CX-7FWD', 'CX-9AWD', 'CX-9FWD', 'CX-9Grand', 'CX-9Touring', 'Caliber4dr', 'Camaro2dr', 'CamaroConvertible', 'CamaroCoupe', 'Camry', 'Camry4dr', 'CamryBase', 'CamryL', 'CamryLE', 'CamrySE', 'CamryXLE', 'Canyon2WD', 'Canyon4WD', 'CanyonCrew', 'CanyonExtended', 'CayenneAWD', 'Cayman2dr', 'Challenger2dr', 'ChallengerR/T', 'Charger4dr', 'ChargerSE', 'ChargerSXT', 'CherokeeLimited', 'CherokeeSport', 'Civic', 'CivicEX', 'CivicEX-L', 'CivicLX', 'CivicSi', 'Cobalt2dr', 'Cobalt4dr', 'Colorado2WD', 'Colorado4WD', 'ColoradoCrew', 'ColoradoExtended', 'Compass4WD', 'CompassLatitude', 'CompassLimited', 'CompassSport', 'Continental', 'Cooper', 'Corolla4dr', 'CorollaL', 'CorollaLE', 'CorollaS', 'Corvette2dr', 'CorvetteConvertible', 'CorvetteCoupe', 'CruzeLT', 'CruzeSedan', 'DTS4dr', 'Dakota2WD', 'Dakota4WD', 'Durango2WD', 'Durango4dr', 'DurangoAWD', 'DurangoSXT', 'E-ClassE', 'E-ClassE320', 'E-ClassE350', 'ES', 'ESES', 'Eclipse3dr', 'Econoline', 'EdgeLimited', 'EdgeSE', 'EdgeSEL', 'EdgeSport', 'Elantra', 'Elantra4dr', 'ElantraLimited', 'Element2WD', 'Element4WD', 'EnclaveConvenience', 'EnclaveLeather', 'EnclavePremium', 'Eos2dr', 'EquinoxAWD', 'EquinoxFWD', 'Escalade', 'Escalade2WD', 'Escalade4dr', 'EscaladeAWD', 'Escape4WD', 'Escape4dr', 'EscapeFWD', 'EscapeLImited', 'EscapeLimited', 'EscapeS', 'EscapeSE', 'EscapeXLT', 'Excursion137\"', 'Expedition', 'Expedition2WD', 'Expedition4WD', 'ExpeditionLimited', 'ExpeditionXLT', 'Explorer', 'Explorer4WD', 'Explorer4dr', 'ExplorerBase', 'ExplorerEddie', 'ExplorerFWD', 'ExplorerLimited', 'ExplorerXLT', 'Express', 'F-1502WD', 'F-1504WD', 'F-150FX2', 'F-150FX4', 'F-150King', 'F-150Lariat', 'F-150Limited', 'F-150Platinum', 'F-150STX', 'F-150SuperCrew', 'F-150XL', 'F-150XLT', 'F-250King', 'F-250Lariat', 'F-250XL', 'F-250XLT', 'F-350King', 'F-350Lariat', 'F-350XL', 'F-350XLT', 'FJ', 'FX35AWD', 'FiestaS', 'FiestaSE', 'FitSport', 'FlexLimited', 'FlexSE', 'FlexSEL', 'Focus4dr', 'Focus5dr', 'FocusS', 'FocusSE', 'FocusSEL', 'FocusST', 'FocusTitanium', 'Forester2.5X', 'Forester4dr', 'Forte', 'ForteEX', 'ForteLX', 'ForteSX', 'Frontier', 'Frontier2WD', 'Frontier4WD', 'Fusion4dr', 'FusionHybrid', 'FusionS', 'FusionSE', 'FusionSEL', 'G35', 'G37', 'G64dr', 'GLI4dr', 'GS', 'GSGS', 'GTI2dr', 'GTI4dr', 'GX', 'GXGX', 'Galant4dr', 'Genesis', 'Golf', 'Grand', 'Highlander', 'Highlander4WD', 'Highlander4dr', 'HighlanderBase', 'HighlanderFWD', 'HighlanderLimited', 'HighlanderSE', 'IS', 'ISIS', 'Impala4dr', 'ImpalaLS', 'ImpalaLT', 'Impreza', 'Impreza2.0i', 'ImprezaSport', 'Jetta', 'JourneyAWD', 'JourneyFWD', 'JourneySXT', 'LS', 'LSLS', 'LX', 'LXLX', 'LaCrosse4dr', 'LaCrosseAWD', 'LaCrosseFWD', 'Lancer4dr', 'Land', 'Legacy', 'Legacy2.5i', 'Legacy3.6R', 'Liberty4WD', 'LibertyLimited', 'LibertySport', 'Lucerne4dr', 'M-ClassML350', 'MDX4WD', 'MDXAWD', 'MKXAWD', 'MKXFWD', 'MKZ4dr', 'MX5', 'Malibu', 'Malibu1LT', 'Malibu4dr', 'MalibuLS', 'MalibuLT', 'Matrix5dr', 'Maxima4dr', 'Mazda34dr', 'Mazda35dr', 'Mazda64dr', 'Milan4dr', 'Model', 'Monte', 'Murano2WD', 'MuranoAWD', 'MuranoS', 'Mustang2dr', 'MustangBase', 'MustangDeluxe', 'MustangGT', 'MustangPremium', 'MustangShelby', 'Navigator', 'Navigator2WD', 'Navigator4WD', 'Navigator4dr', 'New', 'OdysseyEX', 'OdysseyEX-L', 'OdysseyLX', 'OdysseyTouring', 'Optima4dr', 'OptimaEX', 'OptimaLX', 'OptimaSX', 'Outback2.5i', 'Outback3.6R', 'Outlander', 'Outlander2WD', 'Outlander4WD', 'PT', 'PacificaLimited', 'PacificaTouring', 'Passat', 'Passat4dr', 'Pathfinder2WD', 'Pathfinder4WD', 'PathfinderS', 'PathfinderSE', 'Patriot4WD', 'PatriotLatitude', 'PatriotLimited', 'PatriotSport', 'Pilot2WD', 'Pilot4WD', 'PilotEX', 'PilotEX-L', 'PilotLX', 'PilotSE', 'PilotTouring', 'Prius', 'Prius5dr', 'PriusBase', 'PriusFive', 'PriusFour', 'PriusOne', 'PriusThree', 'PriusTwo', 'Q5quattro', 'Q7quattro', 'QX562WD', 'QX564WD', 'Quest4dr', 'RAV4', 'RAV44WD', 'RAV44dr', 'RAV4Base', 'RAV4FWD', 'RAV4LE', 'RAV4Limited', 'RAV4Sport', 'RAV4XLE', 'RDXAWD', 'RDXFWD', 'RX', 'RX-84dr', 'RXRX', 'Ram', 'Ranger2WD', 'Ranger4WD', 'RangerSuperCab', 'Regal4dr', 'RegalGS', 'RegalPremium', 'RegalTurbo', 'RidgelineRTL', 'RidgelineSport', 'RioLX', 'RogueFWD', 'Rover', 'S2000Manual', 'S44dr', 'S60T5', 'S804dr', 'SC', 'SL-ClassSL500', 'SLK-ClassSLK350', 'SRXLuxury', 'STS4dr', 'Santa', 'Savana', 'Sedona4dr', 'SedonaEX', 'SedonaLX', 'Sentra4dr', 'Sequoia4WD', 'Sequoia4dr', 'SequoiaLimited', 'SequoiaPlatinum', 'SequoiaSR5', 'Sienna5dr', 'SiennaLE', 'SiennaLimited', 'SiennaSE', 'SiennaXLE', 'Sierra', 'Silverado', 'Sonata4dr', 'SonataLimited', 'SonataSE', 'SonicHatch', 'SonicSedan', 'Sorento2WD', 'SorentoEX', 'SorentoLX', 'SorentoSX', 'Soul+', 'SoulBase', 'Sportage2WD', 'SportageAWD', 'SportageEX', 'SportageLX', 'SportageSX', 'Sprinter', 'Suburban2WD', 'Suburban4WD', 'Suburban4dr', 'Super', 'TL4dr', 'TLAutomatic', 'TSXAutomatic', 'TT2dr', 'Tacoma2WD', 'Tacoma4WD', 'TacomaBase', 'TacomaPreRunner', 'Tahoe2WD', 'Tahoe4WD', 'Tahoe4dr', 'TahoeLS', 'TahoeLT', 'Taurus4dr', 'TaurusLimited', 'TaurusSE', 'TaurusSEL', 'TaurusSHO', 'TerrainAWD', 'TerrainFWD', 'Tiguan2WD', 'TiguanS', 'TiguanSE', 'TiguanSEL', 'Titan', 'Titan2WD', 'Titan4WD', 'Touareg4dr', 'Town', 'Transit', 'TraverseAWD', 'TraverseFWD', 'TucsonAWD', 'TucsonFWD', 'TucsonLimited', 'Tundra', 'Tundra2WD', 'Tundra4WD', 'TundraBase', 'TundraLimited', 'TundraSR5', 'VeracruzAWD', 'VeracruzFWD', 'Versa4dr', 'Versa5dr', 'Vibe4dr', 'WRXBase', 'WRXLimited', 'WRXPremium', 'WRXSTI', 'Wrangler', 'Wrangler2dr', 'Wrangler4WD', 'WranglerRubicon', 'WranglerSahara', 'WranglerSport', 'WranglerX', 'X1xDrive28i', 'X3AWD', 'X3xDrive28i', 'X5AWD', 'X5xDrive35i', 'XC60AWD', 'XC60FWD', 'XC60T6', 'XC704dr', 'XC90AWD', 'XC90FWD', 'XC90T6', 'XF4dr', 'XJ4dr', 'XK2dr', 'Xterra2WD', 'Xterra4WD', 'Xterra4dr', 'Yaris', 'Yaris4dr', 'YarisBase', 'YarisLE', 'Yukon', 'Yukon2WD', 'Yukon4WD', 'Yukon4dr', 'tC2dr', 'xB5dr', 'xD5dr']\n"
     ]
    }
   ],
   "source": [
    "print(df.columns.to_list())"
   ]
  },
  {
   "cell_type": "code",
   "execution_count": 32,
   "metadata": {
    "scrolled": true
   },
   "outputs": [],
   "source": [
    "#df = df[['Price','Acura']] #, 'Audi', 'BMW']]\n",
    "#y = 'Acura'"
   ]
  },
  {
   "cell_type": "code",
   "execution_count": 33,
   "metadata": {},
   "outputs": [],
   "source": [
    "from sklearn.linear_model import LogisticRegression"
   ]
  },
  {
   "cell_type": "code",
   "execution_count": null,
   "metadata": {},
   "outputs": [
    {
     "name": "stderr",
     "output_type": "stream",
     "text": [
      "/Users/jahirrodriguez/opt/anaconda3/lib/python3.7/site-packages/sklearn/ensemble/forest.py:245: FutureWarning: The default value of n_estimators will change from 10 in version 0.20 to 100 in 0.22.\n",
      "  \"10 in version 0.20 to 100 in 0.22.\", FutureWarning)\n"
     ]
    }
   ],
   "source": [
    "clf = RandomForestClassifier(max_depth=2, random_state=0)\n",
    "#clf = XGBClassifier(eta=0, gamma=1,colsample_bytree=0.8)\n",
    "clf.fit(df[['Acura', 'Audi', 'BMW']], df['Price'])\n",
    "y_hat = clf.predict(df[['Acura', 'Audi', 'BMW']])\n",
    "y_hat"
   ]
  },
  {
   "cell_type": "code",
   "execution_count": 53,
   "metadata": {},
   "outputs": [
    {
     "name": "stdout",
     "output_type": "stream",
     "text": [
      "10 500000\n",
      "Current Time = 06:15:37\n"
     ]
    },
    {
     "name": "stderr",
     "output_type": "stream",
     "text": [
      "/Users/jahirrodriguez/opt/anaconda3/lib/python3.7/site-packages/sklearn/ensemble/forest.py:245: FutureWarning: The default value of n_estimators will change from 10 in version 0.20 to 100 in 0.22.\n",
      "  \"10 in version 0.20 to 100 in 0.22.\", FutureWarning)\n"
     ]
    },
    {
     "name": "stdout",
     "output_type": "stream",
     "text": [
      "RF iteracion 0 mse 85823013.50302985\n",
      "Current Time = 06:16:04\n",
      "GBR iteracion 0 mse 45326267.721012354\n",
      "Current Time = 06:23:34\n"
     ]
    },
    {
     "name": "stderr",
     "output_type": "stream",
     "text": [
      "/Users/jahirrodriguez/opt/anaconda3/lib/python3.7/site-packages/sklearn/ensemble/forest.py:245: FutureWarning: The default value of n_estimators will change from 10 in version 0.20 to 100 in 0.22.\n",
      "  \"10 in version 0.20 to 100 in 0.22.\", FutureWarning)\n"
     ]
    },
    {
     "name": "stdout",
     "output_type": "stream",
     "text": [
      "RF iteracion 1 mse 84814861.9526495\n",
      "Current Time = 06:24:00\n",
      "GBR iteracion 1 mse 44610261.89370184\n",
      "Current Time = 06:31:26\n"
     ]
    },
    {
     "name": "stderr",
     "output_type": "stream",
     "text": [
      "/Users/jahirrodriguez/opt/anaconda3/lib/python3.7/site-packages/sklearn/ensemble/forest.py:245: FutureWarning: The default value of n_estimators will change from 10 in version 0.20 to 100 in 0.22.\n",
      "  \"10 in version 0.20 to 100 in 0.22.\", FutureWarning)\n"
     ]
    },
    {
     "name": "stdout",
     "output_type": "stream",
     "text": [
      "RF iteracion 2 mse 84982767.09874262\n",
      "Current Time = 06:31:51\n",
      "GBR iteracion 2 mse 44789318.27111257\n",
      "Current Time = 06:39:21\n"
     ]
    },
    {
     "name": "stderr",
     "output_type": "stream",
     "text": [
      "/Users/jahirrodriguez/opt/anaconda3/lib/python3.7/site-packages/sklearn/ensemble/forest.py:245: FutureWarning: The default value of n_estimators will change from 10 in version 0.20 to 100 in 0.22.\n",
      "  \"10 in version 0.20 to 100 in 0.22.\", FutureWarning)\n"
     ]
    },
    {
     "name": "stdout",
     "output_type": "stream",
     "text": [
      "RF iteracion 3 mse 85647190.1034572\n",
      "Current Time = 06:39:46\n",
      "GBR iteracion 3 mse 44569924.15771531\n",
      "Current Time = 06:47:18\n"
     ]
    },
    {
     "name": "stderr",
     "output_type": "stream",
     "text": [
      "/Users/jahirrodriguez/opt/anaconda3/lib/python3.7/site-packages/sklearn/ensemble/forest.py:245: FutureWarning: The default value of n_estimators will change from 10 in version 0.20 to 100 in 0.22.\n",
      "  \"10 in version 0.20 to 100 in 0.22.\", FutureWarning)\n"
     ]
    },
    {
     "name": "stdout",
     "output_type": "stream",
     "text": [
      "RF iteracion 4 mse 85042591.84645845\n",
      "Current Time = 06:47:43\n",
      "GBR iteracion 4 mse 44487800.986202054\n",
      "Current Time = 06:55:18\n"
     ]
    },
    {
     "name": "stderr",
     "output_type": "stream",
     "text": [
      "/Users/jahirrodriguez/opt/anaconda3/lib/python3.7/site-packages/sklearn/ensemble/forest.py:245: FutureWarning: The default value of n_estimators will change from 10 in version 0.20 to 100 in 0.22.\n",
      "  \"10 in version 0.20 to 100 in 0.22.\", FutureWarning)\n"
     ]
    },
    {
     "name": "stdout",
     "output_type": "stream",
     "text": [
      "RF iteracion 5 mse 86975118.97593524\n",
      "Current Time = 06:55:44\n",
      "GBR iteracion 5 mse 45666476.33959722\n",
      "Current Time = 07:03:09\n"
     ]
    },
    {
     "name": "stderr",
     "output_type": "stream",
     "text": [
      "/Users/jahirrodriguez/opt/anaconda3/lib/python3.7/site-packages/sklearn/ensemble/forest.py:245: FutureWarning: The default value of n_estimators will change from 10 in version 0.20 to 100 in 0.22.\n",
      "  \"10 in version 0.20 to 100 in 0.22.\", FutureWarning)\n"
     ]
    },
    {
     "name": "stdout",
     "output_type": "stream",
     "text": [
      "RF iteracion 6 mse 86183291.8851788\n",
      "Current Time = 07:03:34\n",
      "GBR iteracion 6 mse 45305694.17641939\n",
      "Current Time = 07:11:06\n"
     ]
    },
    {
     "name": "stderr",
     "output_type": "stream",
     "text": [
      "/Users/jahirrodriguez/opt/anaconda3/lib/python3.7/site-packages/sklearn/ensemble/forest.py:245: FutureWarning: The default value of n_estimators will change from 10 in version 0.20 to 100 in 0.22.\n",
      "  \"10 in version 0.20 to 100 in 0.22.\", FutureWarning)\n"
     ]
    },
    {
     "name": "stdout",
     "output_type": "stream",
     "text": [
      "RF iteracion 7 mse 85477779.16790934\n",
      "Current Time = 07:11:31\n",
      "GBR iteracion 7 mse 44230094.20035584\n",
      "Current Time = 07:18:58\n"
     ]
    },
    {
     "name": "stderr",
     "output_type": "stream",
     "text": [
      "/Users/jahirrodriguez/opt/anaconda3/lib/python3.7/site-packages/sklearn/ensemble/forest.py:245: FutureWarning: The default value of n_estimators will change from 10 in version 0.20 to 100 in 0.22.\n",
      "  \"10 in version 0.20 to 100 in 0.22.\", FutureWarning)\n"
     ]
    },
    {
     "name": "stdout",
     "output_type": "stream",
     "text": [
      "RF iteracion 8 mse 86471182.12914099\n",
      "Current Time = 07:19:23\n",
      "GBR iteracion 8 mse 45208360.61340874\n",
      "Current Time = 07:26:48\n"
     ]
    },
    {
     "name": "stderr",
     "output_type": "stream",
     "text": [
      "/Users/jahirrodriguez/opt/anaconda3/lib/python3.7/site-packages/sklearn/ensemble/forest.py:245: FutureWarning: The default value of n_estimators will change from 10 in version 0.20 to 100 in 0.22.\n",
      "  \"10 in version 0.20 to 100 in 0.22.\", FutureWarning)\n"
     ]
    },
    {
     "name": "stdout",
     "output_type": "stream",
     "text": [
      "RF iteracion 9 mse 84518357.36465992\n",
      "Current Time = 07:27:13\n",
      "GBR iteracion 9 mse 44559666.402399026\n"
     ]
    }
   ],
   "source": [
    "# K-Fold (K=10) cross-validation\n",
    "\n",
    "K = 10\n",
    "N = data.shape[0]\n",
    "print(K, N)\n",
    "acc = []\n",
    "\n",
    "y = 'Price'\n",
    "\n",
    "for i in range(0,K):\n",
    "    X_test = df.loc[i*(N/K):(i+1)*(N/K)-1,]\n",
    "    y_test = X_test[y]\n",
    "    X_train = df.loc[set(data.index) - set(X_test.index),]\n",
    "    y_train = X_train[y]\n",
    "    X_test = X_test.drop(columns = y)\n",
    "    X_train = X_train.drop(columns = y)\n",
    "    now()\n",
    "    clf = RandomForestRegressor(max_depth=2, random_state=0)\n",
    "    clf.fit(X_train, y_train)\n",
    "    y_hat = clf.predict(X_test)\n",
    "    acc.append(['RF',i, metrics.mean_squared_error(y_hat,y_test)])\n",
    "    print ('RF iteracion {} mse {}'.format(i, metrics.mean_squared_error(y_hat,y_test)))\n",
    "    now()\n",
    "    clf = GradientBoostingRegressor(random_state=0)\n",
    "    clf.fit(X_train, y_train)\n",
    "    y_hat = clf.predict(X_test)\n",
    "    acc.append(['GBR',i, metrics.mean_squared_error(y_hat,y_test)])\n",
    "    print ('GBR iteracion {} mse {}'.format(i, metrics.mean_squared_error(y_hat,y_test)))"
   ]
  },
  {
   "cell_type": "code",
   "execution_count": null,
   "metadata": {},
   "outputs": [
    {
     "name": "stdout",
     "output_type": "stream",
     "text": [
      "Current Time = 08:28:57\n",
      "learning_range 0.1,n_estimators 50, max_depth 1, mse 75230206.1236172\n",
      "Current Time = 08:30:03\n",
      "learning_range 0.1,n_estimators 50, max_depth 2, mse 63862130.65263713\n",
      "Current Time = 08:32:46\n",
      "learning_range 0.1,n_estimators 50, max_depth 3, mse 55679530.58052121\n",
      "Current Time = 08:37:33\n",
      "learning_range 0.1,n_estimators 50, max_depth 4, mse 49330189.46672898\n",
      "Current Time = 08:44:41\n",
      "learning_range 0.1,n_estimators 50, max_depth 5, mse 43909866.89225197\n",
      "Current Time = 08:54:34\n",
      "learning_range 0.1,n_estimators 50, max_depth 6, mse 40128544.43770137\n",
      "Current Time = 09:07:20\n",
      "learning_range 0.1,n_estimators 50, max_depth 7, mse 36699278.88626893\n",
      "Current Time = 09:22:52\n",
      "learning_range 0.1,n_estimators 50, max_depth 8, mse 34265379.6500807\n",
      "Current Time = 09:42:26\n",
      "learning_range 0.1,n_estimators 50, max_depth 9, mse 32154287.39635317\n",
      "Current Time = 10:06:37\n",
      "learning_range 0.1,n_estimators 100, max_depth 1, mse 66317968.88067939\n",
      "Current Time = 10:08:27\n",
      "learning_range 0.1,n_estimators 100, max_depth 2, mse 53070787.88370496\n",
      "Current Time = 10:13:03\n",
      "learning_range 0.1,n_estimators 100, max_depth 3, mse 44559666.402399026\n",
      "Current Time = 10:20:42\n",
      "learning_range 0.1,n_estimators 100, max_depth 4, mse 38867890.7957576\n",
      "Current Time = 10:31:48\n",
      "learning_range 0.1,n_estimators 100, max_depth 5, mse 34133244.23271303\n",
      "Current Time = 10:46:45\n",
      "learning_range 0.1,n_estimators 100, max_depth 6, mse 31007841.301641624\n",
      "Current Time = 11:05:55\n",
      "learning_range 0.1,n_estimators 100, max_depth 7, mse 28175232.2955419\n",
      "Current Time = 11:29:44\n",
      "learning_range 0.1,n_estimators 100, max_depth 8, mse 25902556.274462618\n",
      "Current Time = 11:59:17\n",
      "learning_range 0.1,n_estimators 100, max_depth 9, mse 24117831.436557516\n",
      "Current Time = 12:35:17\n",
      "learning_range 0.1,n_estimators 150, max_depth 1, mse 60469922.09906697\n",
      "Current Time = 12:37:50\n",
      "learning_range 0.1,n_estimators 150, max_depth 2, mse 46707914.34881127\n",
      "Current Time = 12:44:07\n",
      "learning_range 0.1,n_estimators 150, max_depth 3, mse 38650408.558456965\n",
      "Current Time = 12:54:38\n",
      "learning_range 0.1,n_estimators 150, max_depth 4, mse 33307723.218099542\n",
      "Current Time = 13:09:41\n",
      "learning_range 0.1,n_estimators 150, max_depth 5, mse 29010678.49987153\n",
      "Current Time = 13:29:52\n",
      "learning_range 0.1,n_estimators 150, max_depth 6, mse 26222295.502543807\n",
      "Current Time = 13:55:21\n",
      "learning_range 0.1,n_estimators 150, max_depth 7, mse 23574674.86188904\n",
      "Current Time = 14:27:14\n",
      "learning_range 0.1,n_estimators 150, max_depth 8, mse 21728102.475642364\n",
      "Current Time = 15:06:50\n"
     ]
    }
   ],
   "source": [
    "# list of values to try for max_features\n",
    "learning_range = np.arange(0.2, 1, 0.2)\n",
    "n_estimator_range = range(200, 600, 100)\n",
    "max_depth_range = range(9, 15, 3)\n",
    "\n",
    "# list to store the average Accuracy for each value of max_features\n",
    "#accuracy_scores = []\n",
    "\n",
    "for lr in learning_range:\n",
    "    for n in n_estimator_range:\n",
    "        for m in max_depth_range:\n",
    "            now()\n",
    "            clf = GradientBoostingRegressor(random_state=0, learning_rate = lr, n_estimators=n,max_depth=m)\n",
    "            clf.fit(X_train,y_train)\n",
    "            y_pred=clf.predict(X_test)\n",
    "            mse=metrics.mean_squared_error(y_pred,y_test)\n",
    "            print('learning_range {}, n_estimators {}, max_depth {}, mse {}'.format(lr,n, m, mse))\n",
    "            accuracy_scores.append([lr,n, m, mse])"
   ]
  },
  {
   "cell_type": "code",
   "execution_count": null,
   "metadata": {},
   "outputs": [],
   "source": [
    "# y = data['Price']\n",
    "X = data.drop(['Price'], axis=1)\n",
    "\n",
    "X_train, X_test, y_train, y_test = train_test_split(X, y, test_size=0.33, random_state=42)"
   ]
  },
  {
   "cell_type": "markdown",
   "metadata": {},
   "source": [
    "- Learning rate:  0<𝜂≤1. Fracción de los componentes de un árbol que serán usadas para la estimación del siguiente árbol. Es usado para mejorar la generalización del árbol. Cuando más pequeño es el parámetro es mejor la generalización que hace. Cuándo el valor es 1, significa que se usan todos los componentes del árbol actual para crear el siguiente árbol\n",
    "- gamma: Ganancia mínima que debe superar una partición para ser incluida en el árbol. Es un número entre [0,inf] y a medida que es más grande el árbol final es más simple.\n",
    "- colsample_bytree: Fracción de las columnas que serán tomadas para la construcción de cada árbol. tiene un valor entre 0 y 1 siendo 1:\"tomar todas las columnas\""
   ]
  },
  {
   "cell_type": "code",
   "execution_count": 26,
   "metadata": {},
   "outputs": [
    {
     "name": "stdout",
     "output_type": "stream",
     "text": [
      "0.0 3 0.8\n"
     ]
    }
   ],
   "source": [
    "print(lr,g,cs)"
   ]
  },
  {
   "cell_type": "code",
   "execution_count": null,
   "metadata": {},
   "outputs": [],
   "source": [
    "# list of values to try for max_features\n",
    "learning_range = np.arange(0, 1, 0.1)\n",
    "gamma_range = range(1, 10)\n",
    "colsample_range =np.arange(0, 1, 0.1)\n",
    "\n",
    "# list to store the average Accuracy for each value of max_features\n",
    "accuracy_scores = []\n",
    "\n",
    "for lr in learning_range:\n",
    "    for g in gamma_range:\n",
    "        for cs in colsample_range:\n",
    "            clf = XGBClassifier(eta=lr, gamma=g,colsample_bytree=cs)\n",
    "            clf.fit(X_train,y_train)\n",
    "            y_pred=clf.predict(X_test)\n",
    "            acc=metrics.accuracy_score(y_pred,y_test)\n",
    "            print(acc)\n",
    "            accuracy_scores.append([lr,g,cs,acc])"
   ]
  },
  {
   "cell_type": "code",
   "execution_count": 25,
   "metadata": {},
   "outputs": [
    {
     "name": "stdout",
     "output_type": "stream",
     "text": [
      "0.9979\n",
      "0.9979\n",
      "0.9979\n",
      "0.9979\n",
      "0.9979\n",
      "0.9979\n",
      "0.9979\n",
      "0.9979\n",
      "0.9979\n",
      "0.9979\n",
      "0.9979\n",
      "0.9979\n",
      "0.9979\n",
      "0.9979\n",
      "0.9979\n",
      "0.9979\n",
      "0.9979\n",
      "0.9979\n",
      "0.9979\n",
      "0.9979\n",
      "0.9979\n",
      "0.9979\n",
      "0.9979\n",
      "0.9979\n",
      "0.9979\n",
      "0.9979\n",
      "0.9979\n",
      "0.9979\n"
     ]
    },
    {
     "ename": "KeyboardInterrupt",
     "evalue": "",
     "output_type": "error",
     "traceback": [
      "\u001b[0;31m---------------------------------------------------------------------------\u001b[0m",
      "\u001b[0;31mKeyboardInterrupt\u001b[0m                         Traceback (most recent call last)",
      "\u001b[0;32m<ipython-input-25-e18e4c4b9917>\u001b[0m in \u001b[0;36m<module>\u001b[0;34m\u001b[0m\n\u001b[1;32m     11\u001b[0m         \u001b[0;32mfor\u001b[0m \u001b[0mcs\u001b[0m \u001b[0;32min\u001b[0m \u001b[0mcolsample_range\u001b[0m\u001b[0;34m:\u001b[0m\u001b[0;34m\u001b[0m\u001b[0;34m\u001b[0m\u001b[0m\n\u001b[1;32m     12\u001b[0m             \u001b[0mclf\u001b[0m \u001b[0;34m=\u001b[0m \u001b[0mXGBClassifier\u001b[0m\u001b[0;34m(\u001b[0m\u001b[0meta\u001b[0m\u001b[0;34m=\u001b[0m\u001b[0mlr\u001b[0m\u001b[0;34m,\u001b[0m \u001b[0mgamma\u001b[0m\u001b[0;34m=\u001b[0m\u001b[0mg\u001b[0m\u001b[0;34m,\u001b[0m\u001b[0mcolsample_bytree\u001b[0m\u001b[0;34m=\u001b[0m\u001b[0mcs\u001b[0m\u001b[0;34m)\u001b[0m\u001b[0;34m\u001b[0m\u001b[0;34m\u001b[0m\u001b[0m\n\u001b[0;32m---> 13\u001b[0;31m             \u001b[0mclf\u001b[0m\u001b[0;34m.\u001b[0m\u001b[0mfit\u001b[0m\u001b[0;34m(\u001b[0m\u001b[0mX_train\u001b[0m\u001b[0;34m,\u001b[0m\u001b[0my_train\u001b[0m\u001b[0;34m)\u001b[0m\u001b[0;34m\u001b[0m\u001b[0;34m\u001b[0m\u001b[0m\n\u001b[0m\u001b[1;32m     14\u001b[0m             \u001b[0my_pred\u001b[0m\u001b[0;34m=\u001b[0m\u001b[0mclf\u001b[0m\u001b[0;34m.\u001b[0m\u001b[0mpredict\u001b[0m\u001b[0;34m(\u001b[0m\u001b[0mX_test\u001b[0m\u001b[0;34m)\u001b[0m\u001b[0;34m\u001b[0m\u001b[0;34m\u001b[0m\u001b[0m\n\u001b[1;32m     15\u001b[0m             \u001b[0macc\u001b[0m\u001b[0;34m=\u001b[0m\u001b[0mmetrics\u001b[0m\u001b[0;34m.\u001b[0m\u001b[0maccuracy_score\u001b[0m\u001b[0;34m(\u001b[0m\u001b[0my_pred\u001b[0m\u001b[0;34m,\u001b[0m\u001b[0my_test\u001b[0m\u001b[0;34m)\u001b[0m\u001b[0;34m\u001b[0m\u001b[0;34m\u001b[0m\u001b[0m\n",
      "\u001b[0;32m~/opt/anaconda3/lib/python3.7/site-packages/xgboost/sklearn.py\u001b[0m in \u001b[0;36mfit\u001b[0;34m(self, X, y, sample_weight, eval_set, eval_metric, early_stopping_rounds, verbose, xgb_model, sample_weight_eval_set, callbacks)\u001b[0m\n\u001b[1;32m    698\u001b[0m                               \u001b[0mevals_result\u001b[0m\u001b[0;34m=\u001b[0m\u001b[0mevals_result\u001b[0m\u001b[0;34m,\u001b[0m \u001b[0mobj\u001b[0m\u001b[0;34m=\u001b[0m\u001b[0mobj\u001b[0m\u001b[0;34m,\u001b[0m \u001b[0mfeval\u001b[0m\u001b[0;34m=\u001b[0m\u001b[0mfeval\u001b[0m\u001b[0;34m,\u001b[0m\u001b[0;34m\u001b[0m\u001b[0;34m\u001b[0m\u001b[0m\n\u001b[1;32m    699\u001b[0m                               \u001b[0mverbose_eval\u001b[0m\u001b[0;34m=\u001b[0m\u001b[0mverbose\u001b[0m\u001b[0;34m,\u001b[0m \u001b[0mxgb_model\u001b[0m\u001b[0;34m=\u001b[0m\u001b[0;32mNone\u001b[0m\u001b[0;34m,\u001b[0m\u001b[0;34m\u001b[0m\u001b[0;34m\u001b[0m\u001b[0m\n\u001b[0;32m--> 700\u001b[0;31m                               callbacks=callbacks)\n\u001b[0m\u001b[1;32m    701\u001b[0m \u001b[0;34m\u001b[0m\u001b[0m\n\u001b[1;32m    702\u001b[0m         \u001b[0mself\u001b[0m\u001b[0;34m.\u001b[0m\u001b[0mobjective\u001b[0m \u001b[0;34m=\u001b[0m \u001b[0mxgb_options\u001b[0m\u001b[0;34m[\u001b[0m\u001b[0;34m\"objective\"\u001b[0m\u001b[0;34m]\u001b[0m\u001b[0;34m\u001b[0m\u001b[0;34m\u001b[0m\u001b[0m\n",
      "\u001b[0;32m~/opt/anaconda3/lib/python3.7/site-packages/xgboost/training.py\u001b[0m in \u001b[0;36mtrain\u001b[0;34m(params, dtrain, num_boost_round, evals, obj, feval, maximize, early_stopping_rounds, evals_result, verbose_eval, xgb_model, callbacks, learning_rates)\u001b[0m\n\u001b[1;32m    214\u001b[0m                            \u001b[0mevals\u001b[0m\u001b[0;34m=\u001b[0m\u001b[0mevals\u001b[0m\u001b[0;34m,\u001b[0m\u001b[0;34m\u001b[0m\u001b[0;34m\u001b[0m\u001b[0m\n\u001b[1;32m    215\u001b[0m                            \u001b[0mobj\u001b[0m\u001b[0;34m=\u001b[0m\u001b[0mobj\u001b[0m\u001b[0;34m,\u001b[0m \u001b[0mfeval\u001b[0m\u001b[0;34m=\u001b[0m\u001b[0mfeval\u001b[0m\u001b[0;34m,\u001b[0m\u001b[0;34m\u001b[0m\u001b[0;34m\u001b[0m\u001b[0m\n\u001b[0;32m--> 216\u001b[0;31m                            xgb_model=xgb_model, callbacks=callbacks)\n\u001b[0m\u001b[1;32m    217\u001b[0m \u001b[0;34m\u001b[0m\u001b[0m\n\u001b[1;32m    218\u001b[0m \u001b[0;34m\u001b[0m\u001b[0m\n",
      "\u001b[0;32m~/opt/anaconda3/lib/python3.7/site-packages/xgboost/training.py\u001b[0m in \u001b[0;36m_train_internal\u001b[0;34m(params, dtrain, num_boost_round, evals, obj, feval, xgb_model, callbacks)\u001b[0m\n\u001b[1;32m     72\u001b[0m         \u001b[0;31m# Skip the first update if it is a recovery step.\u001b[0m\u001b[0;34m\u001b[0m\u001b[0;34m\u001b[0m\u001b[0;34m\u001b[0m\u001b[0m\n\u001b[1;32m     73\u001b[0m         \u001b[0;32mif\u001b[0m \u001b[0mversion\u001b[0m \u001b[0;34m%\u001b[0m \u001b[0;36m2\u001b[0m \u001b[0;34m==\u001b[0m \u001b[0;36m0\u001b[0m\u001b[0;34m:\u001b[0m\u001b[0;34m\u001b[0m\u001b[0;34m\u001b[0m\u001b[0m\n\u001b[0;32m---> 74\u001b[0;31m             \u001b[0mbst\u001b[0m\u001b[0;34m.\u001b[0m\u001b[0mupdate\u001b[0m\u001b[0;34m(\u001b[0m\u001b[0mdtrain\u001b[0m\u001b[0;34m,\u001b[0m \u001b[0mi\u001b[0m\u001b[0;34m,\u001b[0m \u001b[0mobj\u001b[0m\u001b[0;34m)\u001b[0m\u001b[0;34m\u001b[0m\u001b[0;34m\u001b[0m\u001b[0m\n\u001b[0m\u001b[1;32m     75\u001b[0m             \u001b[0mbst\u001b[0m\u001b[0;34m.\u001b[0m\u001b[0msave_rabit_checkpoint\u001b[0m\u001b[0;34m(\u001b[0m\u001b[0;34m)\u001b[0m\u001b[0;34m\u001b[0m\u001b[0;34m\u001b[0m\u001b[0m\n\u001b[1;32m     76\u001b[0m             \u001b[0mversion\u001b[0m \u001b[0;34m+=\u001b[0m \u001b[0;36m1\u001b[0m\u001b[0;34m\u001b[0m\u001b[0;34m\u001b[0m\u001b[0m\n",
      "\u001b[0;32m~/opt/anaconda3/lib/python3.7/site-packages/xgboost/core.py\u001b[0m in \u001b[0;36mupdate\u001b[0;34m(self, dtrain, iteration, fobj)\u001b[0m\n\u001b[1;32m   1043\u001b[0m         \u001b[0;32mif\u001b[0m \u001b[0mfobj\u001b[0m \u001b[0;32mis\u001b[0m \u001b[0;32mNone\u001b[0m\u001b[0;34m:\u001b[0m\u001b[0;34m\u001b[0m\u001b[0;34m\u001b[0m\u001b[0m\n\u001b[1;32m   1044\u001b[0m             _check_call(_LIB.XGBoosterUpdateOneIter(self.handle, ctypes.c_int(iteration),\n\u001b[0;32m-> 1045\u001b[0;31m                                                     dtrain.handle))\n\u001b[0m\u001b[1;32m   1046\u001b[0m         \u001b[0;32melse\u001b[0m\u001b[0;34m:\u001b[0m\u001b[0;34m\u001b[0m\u001b[0;34m\u001b[0m\u001b[0m\n\u001b[1;32m   1047\u001b[0m             \u001b[0mpred\u001b[0m \u001b[0;34m=\u001b[0m \u001b[0mself\u001b[0m\u001b[0;34m.\u001b[0m\u001b[0mpredict\u001b[0m\u001b[0;34m(\u001b[0m\u001b[0mdtrain\u001b[0m\u001b[0;34m)\u001b[0m\u001b[0;34m\u001b[0m\u001b[0;34m\u001b[0m\u001b[0m\n",
      "\u001b[0;31mKeyboardInterrupt\u001b[0m: "
     ]
    }
   ],
   "source": [
    "# list of values to try for max_features\n",
    "learning_range = np.arange(0, 1, 0.1)\n",
    "gamma_range = range(1, 10)\n",
    "colsample_range =np.arange(0, 1, 0.1)\n",
    "\n",
    "# list to store the average Accuracy for each value of max_features\n",
    "accuracy_scores = []\n",
    "\n",
    "for lr in learning_range:\n",
    "    for g in gamma_range:\n",
    "        for cs in colsample_range:\n",
    "            clf = XGBClassifier(eta=lr, gamma=g,colsample_bytree=cs)\n",
    "            clf.fit(X_train,y_train)\n",
    "            y_pred=clf.predict(X_test)\n",
    "            acc=metrics.accuracy_score(y_pred,y_test)\n",
    "            print(acc)\n",
    "            accuracy_scores.append([lr,g,cs,acc])"
   ]
  },
  {
   "cell_type": "markdown",
   "metadata": {},
   "source": [
    "# Exercise P2.2 (50%)\n",
    "\n",
    "Create an API of the model.\n",
    "\n",
    "Example:\n",
    "![](https://raw.githubusercontent.com/albahnsen/PracticalMachineLearningClass/master/notebooks/images/img015.PNG)\n",
    "\n",
    "#### Evaluation:\n",
    "- 40% - API hosted on a cloud service\n",
    "- 10% - Show screenshots of the model doing the predictions on the local machine\n"
   ]
  },
  {
   "cell_type": "markdown",
   "metadata": {},
   "source": [
    "#### On the local machine"
   ]
  },
  {
   "cell_type": "code",
   "execution_count": 51,
   "metadata": {},
   "outputs": [],
   "source": [
    "from model_deployment.p2model_deployment import predict_price\n",
    "year=2020\n",
    "mileage=550\n",
    "state='AL'\n",
    "make ='Audi'\n",
    "model='1'\n"
   ]
  },
  {
   "cell_type": "code",
   "execution_count": 52,
   "metadata": {},
   "outputs": [
    {
     "data": {
      "text/plain": [
       "1000"
      ]
     },
     "execution_count": 52,
     "metadata": {},
     "output_type": "execute_result"
    }
   ],
   "source": [
    " predict_price(year,mileage,state,make,model)"
   ]
  },
  {
   "cell_type": "code",
   "execution_count": 64,
   "metadata": {},
   "outputs": [],
   "source": [
    "from flask import Flask\n",
    "from flask_restplus import Api, Resource, fields\n",
    "from sklearn.externals import joblib\n",
    "from model_deployment.p2model_deployment import predict_price\n",
    "\n",
    "app = Flask(__name__)\n",
    "\n",
    "api = Api(\n",
    "    app, \n",
    "    version='1.0', \n",
    "    title='Price Prediction API G7',\n",
    "    description='Angie Paola Chacon Pinzon: 201012536\\nJahir Stevens Rodriguez Riveros: 201819361\\nJuan Andres Cabal Jaramillo: 200620778\\nDavid Tavera Sánchez: 201016123')\n",
    "\n",
    "ns = api.namespace('predict', \n",
    "     description='Price Regressor')\n",
    "   \n",
    "parser = api.parser()\n",
    "\n",
    "parser.add_argument(\n",
    "    'Year', \n",
    "    type=int, \n",
    "    required=True, \n",
    "    help='Year of the car to be analyzed', \n",
    "    location='args')\n",
    "\n",
    "parser.add_argument(\n",
    "    'Mileage', \n",
    "    type=int, \n",
    "    required=True, \n",
    "    help='Mileage of the car to be analyzed', \n",
    "    location='args')\n",
    "\n",
    "parser.add_argument(\n",
    "    'State', \n",
    "    type=str, \n",
    "    required=True, \n",
    "    help='State of the car to be analyzed', \n",
    "    location='args')\n",
    "\n",
    "parser.add_argument(\n",
    "    'Make', \n",
    "    type=str, \n",
    "    required=True, \n",
    "    help='Maker of the car to be analyzed', \n",
    "    location='args')\n",
    "\n",
    "parser.add_argument(\n",
    "    'Model', \n",
    "    type=str, \n",
    "    required=True, \n",
    "    help='Model of the car to be analyzed', \n",
    "    location='args')\n",
    "\n",
    "\n",
    "resource_fields = api.model('Resource', {\n",
    "    'price': fields.String,\n",
    "})\n",
    "\n",
    "@ns.route('/')\n",
    "class PriceApi(Resource):\n",
    "\n",
    "    @api.doc(parser=parser)\n",
    "    @api.marshal_with(resource_fields)\n",
    "    def get(self):\n",
    "        args = parser.parse_args()\n",
    "        \n",
    "        return {\n",
    "         \"price\": predict_price(args['Year'],args['Mileage'],args['State'],args['Make'],args['Model'])\n",
    "        }, 200\n",
    "    "
   ]
  },
  {
   "cell_type": "code",
   "execution_count": 65,
   "metadata": {},
   "outputs": [
    {
     "name": "stdout",
     "output_type": "stream",
     "text": [
      " * Serving Flask app \"__main__\" (lazy loading)\n",
      " * Environment: production\n",
      "   WARNING: This is a development server. Do not use it in a production deployment.\n",
      "   Use a production WSGI server instead.\n",
      " * Debug mode: on\n"
     ]
    },
    {
     "name": "stderr",
     "output_type": "stream",
     "text": [
      " * Running on http://0.0.0.0:5000/ (Press CTRL+C to quit)\n",
      "127.0.0.1 - - [29/Jun/2020 10:59:05] \"GET / HTTP/1.1\" 200 -\n",
      "127.0.0.1 - - [29/Jun/2020 10:59:05] \"GET /swagger.json HTTP/1.1\" 200 -\n",
      "127.0.0.1 - - [29/Jun/2020 10:59:26] \"GET /predict/?Year=2020&Mileage=1234&State=AL&Make=AUDI&Model=CX HTTP/1.1\" 200 -\n"
     ]
    }
   ],
   "source": [
    "app.run(debug=True, use_reloader=False, host='0.0.0.0', port=5000)"
   ]
  },
  {
   "attachments": {
    "API_Local1.PNG": {
     "image/png": "[encoded data removed]"
    }
   },
   "cell_type": "markdown",
   "metadata": {},
   "source": [
    "![API_Local1.PNG](attachment:API_Local1.PNG)"
   ]
  },
  {
   "cell_type": "code",
   "execution_count": null,
   "metadata": {},
   "outputs": [],
   "source": []
  }
 ],
 "metadata": {
  "kernelspec": {
   "display_name": "Python 3",
   "language": "python",
   "name": "python3"
  },
  "language_info": {
   "codemirror_mode": {
    "name": "ipython",
    "version": 3
   },
   "file_extension": ".py",
   "mimetype": "text/x-python",
   "name": "python",
   "nbconvert_exporter": "python",
   "pygments_lexer": "ipython3",

   "version": "3.7.4"

  }
 },
 "nbformat": 4,
 "nbformat_minor": 4
}
