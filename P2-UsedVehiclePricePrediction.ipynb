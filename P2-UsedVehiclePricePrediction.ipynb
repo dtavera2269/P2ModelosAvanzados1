{
 "cells": [
  {
   "cell_type": "markdown",
   "metadata": {},
   "source": [
    "# Project 2\n",
    "\n",
    "# Used Vehicle Price Prediction"
   ]
  },
  {
   "cell_type": "markdown",
   "metadata": {},
   "source": [
    "#### Angie Paola Chacon Pinzon: 201012536\n",
    "#### Jahir Stevens Rodriguez Riveros: 201819361\n",
    "#### Juan Andres Cabal Jaramillo: 200620778\n",
    "#### David Tavera Sánchez: 201016123"
   ]
  },
  {
   "cell_type": "code",
   "execution_count": 1,
   "metadata": {},
   "outputs": [],
   "source": [
    "# Manipulación de los datos\n",
    "import pandas as pd; pd.set_option('display.max_columns', None)\n",
    "import numpy as np\n",
    "\n",
    "# Estadísticas\n",
    "from scipy import stats\n",
    "import statistics\n",
    "\n",
    "# Modelaje\n",
    "from sklearn.preprocessing import scale \n",
    "from sklearn.decomposition import PCA\n",
    "from sklearn.linear_model import LinearRegression\n",
    "from sklearn.tree import DecisionTreeRegressor\n",
    "from sklearn.model_selection import train_test_split\n",
    "from sklearn.linear_model import LinearRegression\n",
    "from sklearn.tree import DecisionTreeRegressor\n",
    "from sklearn.naive_bayes import GaussianNB\n",
    "from sklearn.neighbors import KNeighborsRegressor\n",
    "from sklearn.metrics import mean_squared_error\n",
    "from sklearn.ensemble import RandomForestRegressor\n",
    "from sklearn.model_selection import cross_val_score\n",
    "from xgboost import XGBClassifier\n",
    "\n",
    "# Visualización\n",
    "%matplotlib inline\n",
    "import matplotlib.pyplot as plt\n",
    "import seaborn as sns\n",
    "\n",
    "# Progreso\n",
    "from tqdm.notebook import trange, tqdm_notebook"
   ]
  },
  {

   "cell_type": "markdown",

   "metadata": {},
   "source": [
    "## Introduction\n",
    "\n",
    "- 1.2 Million listings scraped from TrueCar.com - Price, Mileage, Make, Model dataset from Kaggle: [data](https://www.kaggle.com/jpayne/852k-used-car-listings)\n",
    "- Each observation represents the price of an used car"
   ]
  },
  {
   "cell_type": "code",
   "execution_count": 2,
   "metadata": {},
   "outputs": [],
   "source": [
    "data = pd.read_csv('../P2ModelosAvanzados1/datasets/dataTrain_carListings.zip')"
   ]
  },
  {
   "cell_type": "code",

   "execution_count": 21,

   "metadata": {
    "scrolled": true
   },
   "outputs": [
    {
     "data": {
      "text/html": [
       "<div>\n",
       "<style scoped>\n",
       "    .dataframe tbody tr th:only-of-type {\n",
       "        vertical-align: middle;\n",
       "    }\n",
       "\n",
       "    .dataframe tbody tr th {\n",
       "        vertical-align: top;\n",
       "    }\n",
       "\n",
       "    .dataframe thead th {\n",
       "        text-align: right;\n",
       "    }\n",
       "</style>\n",
       "<table border=\"1\" class=\"dataframe\">\n",
       "  <thead>\n",
       "    <tr style=\"text-align: right;\">\n",
       "      <th></th>\n",
       "      <th>Price</th>\n",
       "      <th>Year</th>\n",
       "      <th>Mileage</th>\n",
       "      <th>State</th>\n",
       "      <th>Make</th>\n",
       "      <th>Model</th>\n",
       "    </tr>\n",
       "  </thead>\n",
       "  <tbody>\n",
       "    <tr>\n",
       "      <th>0</th>\n",
       "      <td>21490</td>\n",
       "      <td>2014</td>\n",
       "      <td>31909</td>\n",
       "      <td>MD</td>\n",
       "      <td>Nissan</td>\n",
       "      <td>MuranoAWD</td>\n",
       "    </tr>\n",
       "    <tr>\n",
       "      <th>1</th>\n",
       "      <td>21250</td>\n",
       "      <td>2016</td>\n",
       "      <td>25741</td>\n",
       "      <td>KY</td>\n",
       "      <td>Chevrolet</td>\n",
       "      <td>CamaroCoupe</td>\n",
       "    </tr>\n",
       "    <tr>\n",
       "      <th>2</th>\n",
       "      <td>20925</td>\n",
       "      <td>2016</td>\n",
       "      <td>24633</td>\n",
       "      <td>SC</td>\n",
       "      <td>Hyundai</td>\n",
       "      <td>Santa</td>\n",
       "    </tr>\n",
       "    <tr>\n",
       "      <th>3</th>\n",
       "      <td>14500</td>\n",
       "      <td>2012</td>\n",
       "      <td>84026</td>\n",
       "      <td>OK</td>\n",
       "      <td>Jeep</td>\n",
       "      <td>Grand</td>\n",
       "    </tr>\n",
       "    <tr>\n",
       "      <th>4</th>\n",
       "      <td>32488</td>\n",
       "      <td>2013</td>\n",
       "      <td>22816</td>\n",
       "      <td>TN</td>\n",
       "      <td>Jeep</td>\n",
       "      <td>Wrangler</td>\n",
       "    </tr>\n",
       "  </tbody>\n",
       "</table>\n",
       "</div>"
      ],
      "text/plain": [
       "   Price  Year  Mileage State       Make        Model\n",
       "0  21490  2014    31909    MD     Nissan    MuranoAWD\n",
       "1  21250  2016    25741    KY  Chevrolet  CamaroCoupe\n",
       "2  20925  2016    24633    SC    Hyundai        Santa\n",
       "3  14500  2012    84026    OK       Jeep        Grand\n",
       "4  32488  2013    22816    TN       Jeep     Wrangler"
      ]
     },

     "execution_count": 21,

     "metadata": {},
     "output_type": "execute_result"
    }
   ],
   "source": [
    "data.head()"
   ]
  },
  {
   "cell_type": "code",
   "execution_count": 4,
   "metadata": {},
   "outputs": [
    {
     "data": {
      "text/plain": [
       "count    500000.000000\n",
       "mean      21144.186304\n",
       "std       10753.259704\n",
       "min        5001.000000\n",
       "25%       13499.000000\n",
       "50%       18450.000000\n",
       "75%       26998.000000\n",
       "max       79999.000000\n",
       "Name: Price, dtype: float64"
      ]
     },
     "execution_count": 4,
     "metadata": {},
     "output_type": "execute_result"
    }
   ],
   "source": [
    "data.Price.describe()"
   ]
  },
  {
   "cell_type": "code",
   "execution_count": 5,
   "metadata": {},
   "outputs": [
    {
     "data": {
      "text/plain": [
       "<matplotlib.axes._subplots.AxesSubplot at 0x1ac2dcb7e08>"
      ]
     },
     "execution_count": 5,
     "metadata": {},
     "output_type": "execute_result"
    },
    {
     "data": {
      "image/png": "[encoded data removed]",
      "text/plain": [
       "<Figure size 432x288 with 1 Axes>"
      ]
     },
     "metadata": {
      "needs_background": "light"
     },
     "output_type": "display_data"
    }
   ],
   "source": [
    "data.plot(kind='scatter', y='Price', x='Year')"
   ]
  },
  {
   "cell_type": "code",
   "execution_count": 6,
   "metadata": {},
   "outputs": [
    {
     "data": {
      "text/plain": [
       "<matplotlib.axes._subplots.AxesSubplot at 0x1ac2e40b348>"
      ]
     },
     "execution_count": 6,
     "metadata": {},
     "output_type": "execute_result"
    },
    {
     "data": {
      "image/png": "[encoded data removed]",
      "text/plain": [
       "<Figure size 432x288 with 1 Axes>"
      ]
     },
     "metadata": {
      "needs_background": "light"
     },
     "output_type": "display_data"
    }
   ],
   "source": [
    "data.plot(kind='scatter', y='Price', x='Mileage')"
   ]
  },
  {
   "cell_type": "code",
   "execution_count": 7,
   "metadata": {},
   "outputs": [
    {
     "data": {
      "text/plain": [
       "Index(['Price', 'Year', 'Mileage', 'State', 'Make', 'Model'], dtype='object')"
      ]
     },
     "execution_count": 7,
     "metadata": {},
     "output_type": "execute_result"
    }
   ],
   "source": [
    "data.columns"
   ]
  },
  {
   "cell_type": "code",
   "execution_count": 8,
   "metadata": {},
   "outputs": [
    {
     "name": "stdout",
     "output_type": "stream",
     "text": [
      "<class 'pandas.core.frame.DataFrame'>\n",
      "RangeIndex: 500000 entries, 0 to 499999\n",
      "Data columns (total 6 columns):\n",
      " #   Column   Non-Null Count   Dtype \n",
      "---  ------   --------------   ----- \n",
      " 0   Price    500000 non-null  int64 \n",
      " 1   Year     500000 non-null  int64 \n",
      " 2   Mileage  500000 non-null  int64 \n",
      " 3   State    500000 non-null  object\n",
      " 4   Make     500000 non-null  object\n",
      " 5   Model    500000 non-null  object\n",
      "dtypes: int64(3), object(3)\n",
      "memory usage: 22.9+ MB\n"
     ]
    }
   ],
   "source": [
    "data.info()"
   ]
  },
  {
   "cell_type": "code",
   "execution_count": 60,
   "metadata": {},
   "outputs": [
    {
     "name": "stdout",
     "output_type": "stream",
     "text": [
      "Dimensión de los predictores: (500000, 613)\n",
      "Dimensión objetivo: (500000, 1)\n"
     ]
    }
   ],
   "source": [
    "# Construimos las base de datos con las variables predictoras y la variable de respuesta.\n",
    "\n",
    "# Conjunto de predictores\n",
    "X_cat = data[['State', 'Make', 'Model']]\n",
    "X_num = data[['Year', 'Mileage']]\n",
    "\n",
    "X = pd.get_dummies(X_cat, drop_first = True)\n",
    "X = pd.concat([X_num, X], axis=1, sort = False)\n",
    "\n",
    "# Variable a predecir\n",
    "y = data[['Price']]\n",
    "\n",
    "print(\"Dimensión de los predictores:\", X.shape)\n",
    "print(\"Dimensión objetivo:\", y.shape)"
   ]
  },
  {
   "cell_type": "markdown",
   "metadata": {},
   "source": [
    "# Exercise P2.1 (50%)\n",
    "\n",
    "Develop a machine learning model that predicts the price of the of car using as an input ['Year', 'Mileage', 'State', 'Make', 'Model']\n",
    "\n",
    "#### Evaluation:\n",
    "- 25% - Performance of the models using a manually implemented K-Fold (K=10) cross-validation\n",
    "- 25% - Notebook explaining the process for selecting the best model. You must specify how the calibration of each of the parameters is done and how these change the performance of the model. It is expected that a clear comparison will be made of all implemented models.. Present the most relevant conslusions about the whole process. \n"
   ]
  },
  {
   "cell_type": "markdown",
   "metadata": {},
   "source": [
    "### Bagging"
   ]
  },
  {
   "cell_type": "markdown",
   "metadata": {},
   "source": [
    "#### Decision Tree Regressor"
   ]
  },
  {
   "cell_type": "code",
   "execution_count": 70,
   "metadata": {},
   "outputs": [
    {
     "data": {
      "text/plain": [
       "(500000, 617)"
      ]
     },
     "execution_count": 70,
     "metadata": {},
     "output_type": "execute_result"
    }
   ],
   "source": [
    "states = pd.get_dummies(data['State'])\n",
    "makes = pd.get_dummies(data['Make'])\n",
    "models = pd.get_dummies(data['Model'])\n",
    "df = pd.concat([data[['Price', 'Year', 'Mileage']], states, makes, models], axis = 1)\n",
    "df.shape"
   ]
  },
  {
   "cell_type": "code",
   "execution_count": 73,
   "metadata": {},
   "outputs": [
    {
     "data": {
      "application/vnd.jupyter.widget-view+json": {
       "model_id": "8028256e14c54e6891636efb9cfb80da",
       "version_major": 2,
       "version_minor": 0
      },
      "text/plain": [
       "HBox(children=(FloatProgress(value=0.0, max=10.0), HTML(value='')))"
      ]
     },
     "metadata": {},
     "output_type": "display_data"
    },
    {
     "name": "stdout",
     "output_type": "stream",
     "text": [
      "RF iteración 0 mse 4801.540622245261\n",
      "RF iteración 1 mse 4712.8234246468255\n",
      "RF iteración 2 mse 4701.985255471404\n",
      "RF iteración 3 mse 4688.74915663998\n",
      "RF iteración 4 mse 4687.069639958375\n",
      "RF iteración 5 mse 4748.64683493769\n",
      "RF iteración 6 mse 4780.043565118961\n",
      "RF iteración 7 mse 4746.493734082468\n",
      "RF iteración 8 mse 4787.364199674261\n",
      "RF iteración 9 mse 4748.01220089719\n",
      "\n"
     ]
    }
   ],
   "source": [
    "K = 10\n",
    "N = data.shape[0]\n",
    "acc = []\n",
    "\n",
    "y = 'Price'\n",
    "\n",
    "for i in tqdm_notebook(range(0,K)):\n",
    "    X_test = df.loc[i*(N/K):(i+1)*(N/K)-1,]\n",
    "    y_test = X_test[y]\n",
    "    X_train = df.loc[set(data.index) - set(X_test.index),]\n",
    "    y_train = X_train[y]\n",
    "    X_test = X_test.drop(columns = y)\n",
    "    X_train = X_train.drop(columns = y)\n",
    "    clf = DecisionTreeRegressor(max_depth = None, random_state = 42)\n",
    "    clf.fit(X_train, y_train)\n",
    "    y_hat = clf.predict(X_test)\n",
    "    acc.append(['RF',i, mean_squared_error(y_hat,y_test)])\n",
    "    print ('RF iteración {} mse {}'.format(i, np.sqrt(mean_squared_error(y_hat,y_test))))"
   ]
  },
  {
   "cell_type": "code",
   "execution_count": 61,
   "metadata": {
    "scrolled": false
   },
   "outputs": [
    {
     "name": "stdout",
     "output_type": "stream",
     "text": [
      "Dimensión Train: (350000, 613)\n",
      "Dimensión Test: (150000, 1)\n"
     ]
    }
   ],
   "source": [
    "X_train, X_test, y_train, y_test = train_test_split(X, y, test_size=0.3, random_state=42)\n",
    "\n",
    "print(\"Dimensión Train:\", X_train.shape)\n",
    "print(\"Dimensión Test:\", y_test.shape)\n",
    "\n",
    "# set a seed for reproducibility\n",
    "np.random.seed(42)\n",
    "\n",
    "n_samples = X_train.shape[0]\n",
    "n_B = 10\n",
    "\n",
    "# create ten bootstrap samples (will be used to select rows from the DataFrame)\n",
    "samples = [np.random.choice(a = n_samples, size = n_samples, replace = True) for _ in range(1, n_B + 1)]"
   ]
  },
  {
   "cell_type": "code",
   "execution_count": 54,
   "metadata": {},
   "outputs": [
    {
     "data": {
      "application/vnd.jupyter.widget-view+json": {
       "model_id": "c6fcbfacbb5b4ba2b7a8cad7a5eecc14",
       "version_major": 2,
       "version_minor": 0
      },
      "text/plain": [
       "HBox(children=(FloatProgress(value=0.0, max=10.0), HTML(value='')))"
      ]
     },
     "metadata": {},
     "output_type": "display_data"
    },
    {
     "name": "stdout",
     "output_type": "stream",
     "text": [
      "\n"
     ]
    }
   ],
   "source": [
    "RMSE = []\n",
    "for t in tqdm_notebook(range(25, 35)):\n",
    "    # grow each tree deep\n",
    "    treereg = DecisionTreeRegressor(max_depth = t, random_state = 42)\n",
    "\n",
    "    # DataFrame for storing predicted price from each tree\n",
    "    y_pred = pd.DataFrame(index=y_test.index, columns=[list(range(n_B))])\n",
    "\n",
    "    # grow one tree for each bootstrap sample and make predictions on testing data\n",
    "    for i, sample in enumerate(samples):\n",
    "        X = X_train.iloc[sample, 0:]\n",
    "        y = y_train.iloc[sample]\n",
    "        treereg.fit(X, y)\n",
    "        y_pred[[i]] = treereg.predict(X_test)\n",
    "        \n",
    "    y_pred.mean(axis=1)\n",
    "    RMSE.append(np.sqrt(mean_squared_error(y_test, y_pred.mean(axis=1))))"
   ]
  },
  {
   "cell_type": "code",
   "execution_count": 55,
   "metadata": {},
   "outputs": [
    {
     "data": {
      "text/plain": [
       "Text(0, 0.5, 'RMSE (lower is better)')"
      ]
     },
     "execution_count": 55,
     "metadata": {},
     "output_type": "execute_result"
    },
    {
     "data": {
      "image/png": "[encoded data removed]",
      "text/plain": [
       "<Figure size 432x288 with 1 Axes>"
      ]
     },
     "metadata": {
      "needs_background": "light"
     },
     "output_type": "display_data"
    }
   ],
   "source": [
    "# Gráfica del RMSE\n",
    "plt.plot(RMSE)\n",
    "plt.xlabel('max_depth')\n",
    "plt.ylabel('RMSE (lower is better)')"
   ]
  },
  {

   "cell_type": "markdown",
   "metadata": {},
   "source": [
    "Como primer modelo de predicción implementamos un  árbol de decisión con 10 Fold Cross Validation. Para calibrar el modelo, escogemos, como primera opción, que la profundidad máxima del árbol sea igual a todos los nodos expandidos, en cuyo caso el RMSE es igual a 4,800. Luego de esto, iteramos para ver si reduciendo la profundidad del árbol el RMSE es menor, lo que permite concluir que utilizando una profundidad entre 25 y 35 el RMSE sigue siendo mayor a cuando la profundidad es máxima."
   ]
  },
  {
   "cell_type": "markdown",
   "metadata": {},

   "source": [
    "#### Rotation Forest"
   ]
  },
  {
   "cell_type": "code",
   "execution_count": 56,
   "metadata": {},
   "outputs": [],
   "source": [
    "x_train, x_test_all, y_train, y_test_all = train_test_split(X, y, test_size = 0.3, random_state = 42)\n",
    "x_dev, x_test, y_dev, y_test = train_test_split(x_test_all, y_test_all, test_size = 0.3, random_state = 9)"
   ]
  },
  {
   "cell_type": "code",
   "execution_count": 57,
   "metadata": {},
   "outputs": [],
   "source": [
    "np.random.seed(42)\n",
    "def get_random_subset(iterable, k):\n",
    "    \n",
    "    subsets = []\n",
    "    iteration = 0\n",
    "    np.random.shuffle(iterable)\n",
    "    subset = 0\n",
    "    limit = len(iterable)/k\n",
    "    \n",
    "    while iteration < limit:\n",
    "        if k <= len(iterable):\n",
    "            subset = k\n",
    "        else:\n",
    "            subset = len(iterable)\n",
    "        subsets.append(iterable[-subset:])\n",
    "        del iterable[-subset:]\n",
    "        iteration+=1\n",
    "        return subsets\n",
    "\n",
    "def build_rotationtree_model(x_train, y_train, d, k):\n",
    "    \n",
    "    models = []\n",
    "    r_matrices = []\n",
    "    feature_subsets = []\n",
    "    \n",
    "    for i in tqdm_notebook(range(d)):\n",
    "        x,_,_,_ = train_test_split(x_train, y_train, test_size = 0.3, random_state = 7)\n",
    "        # Features ids\n",
    "        feature_index = list(range(x.shape[1]))\n",
    "        # Get subsets of features\n",
    "        random_k_subset = get_random_subset(feature_index,k)\n",
    "        feature_subsets.append(random_k_subset)\n",
    "        # Rotation matrix\n",
    "        R_matrix = np.zeros((x.shape[1],x.shape[1]),dtype=float)\n",
    "        for each_subset in random_k_subset:\n",
    "            pca = PCA()\n",
    "            x_subset = x.iloc[:,each_subset]\n",
    "            pca.fit(x_subset)\n",
    "            for ii in range(0,len(pca.components_)):\n",
    "                for jj in range(0,len(pca.components_)):\n",
    "                    R_matrix[each_subset[ii],each_subset[jj]] = pca.components_[ii,jj]\n",
    "                \n",
    "        x_transformed = x_train.dot(R_matrix)\n",
    "        \n",
    "        model = DecisionTreeRegressor()\n",
    "        model.fit(x_transformed,y_train)\n",
    "        models.append(model)\n",
    "        r_matrices.append(R_matrix)\n",
    "    return models, r_matrices, feature_subsets\n",
    "    \n",
    "def model_worth(models, r_matrices, x, y):\n",
    "    \n",
    "    predicted_ys = []\n",
    "    mses = []\n",
    "    for i,model in tqdm_notebook(enumerate(models)):\n",
    "        x_mod =  x.dot(r_matrices[i])\n",
    "        predicted_y = model.predict(x_mod)\n",
    "        predicted_ys.append(predicted_y)\n",
    "        \n",
    "        mse = np.sqrt(mean_squared_error(y, predicted_y))\n",
    "        mses.append(mse)\n",
    "        \n",
    "        mse_avg = statistics.mean(mses) \n",
    "    \n",
    "    print(mse_avg)"
   ]
  },
  {
   "cell_type": "code",
   "execution_count": 58,
   "metadata": {},
   "outputs": [
    {
     "data": {
      "application/vnd.jupyter.widget-view+json": {
       "model_id": "069e3f3b207747cf88db8d92cebb785f",
       "version_major": 2,
       "version_minor": 0
      },
      "text/plain": [
       "HBox(children=(FloatProgress(value=0.0, max=10.0), HTML(value='')))"
      ]
     },
     "metadata": {},
     "output_type": "display_data"
    },
    {
     "name": "stdout",
     "output_type": "stream",
     "text": [
      "\n"
     ]
    }
   ],
   "source": [
    "models, r_matrices, features = build_rotationtree_model(x_train, y_train, 10, 200)"
   ]
  },
  {
   "cell_type": "code",
   "execution_count": 59,
   "metadata": {
    "scrolled": true
   },
   "outputs": [
    {
     "data": {
      "application/vnd.jupyter.widget-view+json": {
       "model_id": "8ee7236843bb49488b9c1a378428a9eb",
       "version_major": 2,
       "version_minor": 0
      },
      "text/plain": [
       "HBox(children=(FloatProgress(value=1.0, bar_style='info', max=1.0), HTML(value='')))"
      ]
     },
     "metadata": {},
     "output_type": "display_data"
    },
    {
     "name": "stdout",
     "output_type": "stream",
     "text": [
      "Current Time = 08:28:57\n",
      "learning_range 0.1,n_estimators 50, max_depth 1, mse 75230206.1236172\n",
      "Current Time = 08:30:03\n",
      "learning_range 0.1,n_estimators 50, max_depth 2, mse 63862130.65263713\n",
      "Current Time = 08:32:46\n",
      "learning_range 0.1,n_estimators 50, max_depth 3, mse 55679530.58052121\n",
      "Current Time = 08:37:33\n",
      "learning_range 0.1,n_estimators 50, max_depth 4, mse 49330189.46672898\n",
      "Current Time = 08:44:41\n",
      "learning_range 0.1,n_estimators 50, max_depth 5, mse 43909866.89225197\n",
      "Current Time = 08:54:34\n",
      "learning_range 0.1,n_estimators 50, max_depth 6, mse 40128544.43770137\n",
      "Current Time = 09:07:20\n",
      "learning_range 0.1,n_estimators 50, max_depth 7, mse 36699278.88626893\n",
      "Current Time = 09:22:52\n",
      "learning_range 0.1,n_estimators 50, max_depth 8, mse 34265379.6500807\n",
      "Current Time = 09:42:26\n",
      "learning_range 0.1,n_estimators 50, max_depth 9, mse 32154287.39635317\n",
      "Current Time = 10:06:37\n",
      "learning_range 0.1,n_estimators 100, max_depth 1, mse 66317968.88067939\n",
      "Current Time = 10:08:27\n",
      "learning_range 0.1,n_estimators 100, max_depth 2, mse 53070787.88370496\n",
      "Current Time = 10:13:03\n",
      "learning_range 0.1,n_estimators 100, max_depth 3, mse 44559666.402399026\n",
      "Current Time = 10:20:42\n",
      "learning_range 0.1,n_estimators 100, max_depth 4, mse 38867890.7957576\n",
      "Current Time = 10:31:48\n",
      "learning_range 0.1,n_estimators 100, max_depth 5, mse 34133244.23271303\n",
      "Current Time = 10:46:45\n",
      "learning_range 0.1,n_estimators 100, max_depth 6, mse 31007841.301641624\n",
      "Current Time = 11:05:55\n",
      "learning_range 0.1,n_estimators 100, max_depth 7, mse 28175232.2955419\n",
      "Current Time = 11:29:44\n",
      "learning_range 0.1,n_estimators 100, max_depth 8, mse 25902556.274462618\n",
      "Current Time = 11:59:17\n",
      "learning_range 0.1,n_estimators 100, max_depth 9, mse 24117831.436557516\n",
      "Current Time = 12:35:17\n",
      "learning_range 0.1,n_estimators 150, max_depth 1, mse 60469922.09906697\n",
      "Current Time = 12:37:50\n",
      "learning_range 0.1,n_estimators 150, max_depth 2, mse 46707914.34881127\n",
      "Current Time = 12:44:07\n",
      "learning_range 0.1,n_estimators 150, max_depth 3, mse 38650408.558456965\n",
      "Current Time = 12:54:38\n",
      "learning_range 0.1,n_estimators 150, max_depth 4, mse 33307723.218099542\n",
      "Current Time = 13:09:41\n",
      "learning_range 0.1,n_estimators 150, max_depth 5, mse 29010678.49987153\n",
      "Current Time = 13:29:52\n",
      "learning_range 0.1,n_estimators 150, max_depth 6, mse 26222295.502543807\n",
      "Current Time = 13:55:21\n",
      "learning_range 0.1,n_estimators 150, max_depth 7, mse 23574674.86188904\n",
      "Current Time = 14:27:14\n",
      "learning_range 0.1,n_estimators 150, max_depth 8, mse 21728102.475642364\n",
      "Current Time = 15:06:50\n"
     ]
    }
   ],
   "source": [

    "# list of values to try for max_features\n",
    "learning_range = np.arange(0.2, 1, 0.2)\n",
    "n_estimator_range = range(200, 600, 100)\n",
    "max_depth_range = range(9, 15, 3)\n",
    "\n",
    "# list to store the average Accuracy for each value of max_features\n",
    "#accuracy_scores = []\n",
    "\n",
    "for lr in learning_range:\n",
    "    for n in n_estimator_range:\n",
    "        for m in max_depth_range:\n",
    "            now()\n",
    "            clf = GradientBoostingRegressor(random_state=0, learning_rate = lr, n_estimators=n,max_depth=m)\n",
    "            clf.fit(X_train,y_train)\n",
    "            y_pred=clf.predict(X_test)\n",
    "            mse=metrics.mean_squared_error(y_pred,y_test)\n",
    "            print('learning_range {}, n_estimators {}, max_depth {}, mse {}'.format(lr,n, m, mse))\n",
    "            accuracy_scores.append([lr,n, m, mse])"

   ]
  },
  {
   "cell_type": "markdown",
   "metadata": {},
   "source": [
    "Adicional al modelo de Random Forest, intentamos aplicar un Rotatio Forest en donde se se combina un Random Forest junto con componentes principales. Lo anterior con el fin de ver si al reducir la dimensionalidad de la base la predicción mejora. Sin embargo, al correr el modelo con 10 árboles y utilizando 200 variables el RSME sigue siendo superior al árbol de decisión."
   ]
  },
  {
   "cell_type": "markdown",
   "metadata": {},
   "source": [
    "### Boosting"
   ]
  },
  {
   "cell_type": "code",
   "execution_count": null,
   "metadata": {},
   "outputs": [],
   "source": [
    "y = data['Price']\n",
    "X = data.drop(['Price'], axis=1)\n",
    "\n",
    "X_train, X_test, y_train, y_test = train_test_split(X, y, test_size=0.33, random_state=42)"
   ]
  },
  {
   "cell_type": "markdown",
   "metadata": {},
   "source": [
    "- Learning rate:  0<𝜂≤1. Fracción de los componentes de un árbol que serán usadas para la estimación del siguiente árbol. Es usado para mejorar la generalización del árbol. Cuando más pequeño es el parámetro es mejor la generalización que hace. Cuándo el valor es 1, significa que se usan todos los componentes del árbol actual para crear el siguiente árbol\n",
    "- gamma: Ganancia mínima que debe superar una partición para ser incluida en el árbol. Es un número entre [0,inf] y a medida que es más grande el árbol final es más simple.\n",
    "- colsample_bytree: Fracción de las columnas que serán tomadas para la construcción de cada árbol. tiene un valor entre 0 y 1 siendo 1:\"tomar todas las columnas\""
   ]
  },
  {
   "cell_type": "code",
   "execution_count": null,
   "metadata": {},
   "outputs": [],
   "source": [
    "# list of values to try for max_features\n",
    "learning_range = np.arange(0, 1, 0.1)\n",
    "gamma_range = range(1, 10)\n",
    "colsample_range =np.arange(0, 1, 0.1)\n",
    "\n",
    "# list to store the average Accuracy for each value of max_features\n",
    "accuracy_scores = []\n",
    "\n",
    "for lr in learning_range:\n",
    "    for g in gamma_range:\n",
    "        for cs in colsample_range:\n",
    "            clf = XGBClassifier(eta=lr, gamma=g,colsample_bytree=cs)\n",
    "            clf.fit(X_train,y_train)\n",
    "            y_pred=clf.predict(X_test)\n",
    "            acc=metrics.accuracy_score(y_pred,y_test)\n",
    "            accuracy_scores.append([lr,g,cs,acc])"
   ]
  },
  {
   "cell_type": "markdown",
   "metadata": {},
   "source": [
    "# Exercise P2.2 (50%)\n",
    "\n",
    "Create an API of the model.\n",
    "\n",
    "Example:\n",
    "![](https://raw.githubusercontent.com/albahnsen/PracticalMachineLearningClass/master/notebooks/images/img015.PNG)\n",
    "\n",
    "#### Evaluation:\n",
    "- 40% - API hosted on a cloud service\n",
    "- 10% - Show screenshots of the model doing the predictions on the local machine\n"
   ]
  },
  {
   "cell_type": "markdown",
   "metadata": {},
   "source": [
    "Create Model"
   ]
  },
  {
   "cell_type": "code",
   "execution_count": 44,
   "metadata": {},
   "outputs": [
    {
     "data": {
      "text/plain": [
       "(500000, 617)"
      ]
     },
     "execution_count": 44,
     "metadata": {},
     "output_type": "execute_result"
    }
   ],
   "source": [
    "states = pd.get_dummies(data['State'])\n",
    "makes = pd.get_dummies(data['Make'])\n",
    "models = pd.get_dummies(data['Model'])\n",
    "df = pd.concat([data[['Price', 'Year', 'Mileage']], states, makes, models], axis = 1)\n",
    "df.shape"
   ]
  },
  {
   "cell_type": "code",
   "execution_count": 46,
   "metadata": {},
   "outputs": [],
   "source": [
    "K = 10\n",
    "N = data.shape[0]\n",
    "\n",
    "y = 'Price'\n",
    "\n",
    "for i in range(0,K):\n",
    "    X_test = df.loc[i*(N/K):(i+1)*(N/K)-1,]\n",
    "    y_test = X_test[y]\n",
    "    X_train = df.loc[set(data.index) - set(X_test.index),]\n",
    "    y_train = X_train[y]\n",
    "    X_test = X_test.drop(columns = y)\n",
    "    X_train = X_train.drop(columns = y)\n",
    "    clf = DecisionTreeRegressor(max_depth = 33, random_state = 42)\n",
    "    clf.fit(X_train, y_train)"
   ]
  },
  {
   "cell_type": "code",
   "execution_count": 47,
   "metadata": {},
   "outputs": [
    {
     "data": {
      "text/plain": [
       "['model_deployment/mimodelo.pkl']"
      ]
     },
     "execution_count": 47,
     "metadata": {},
     "output_type": "execute_result"
    }
   ],
   "source": [
    "from sklearn.externals import joblib\n",
    "joblib.dump(clf, 'model_deployment/mimodelo.pkl', compress=3)"
   ]
  }
 ],
 "metadata": {
  "kernelspec": {
   "display_name": "Python 3",
   "language": "python",
   "name": "python3"
  },
  "language_info": {
   "codemirror_mode": {
    "name": "ipython",
    "version": 3
   },
   "file_extension": ".py",
   "mimetype": "text/x-python",
   "name": "python",
   "nbconvert_exporter": "python",
   "pygments_lexer": "ipython3",
   "version": "3.7.4"

  }
 },
 "nbformat": 4,
 "nbformat_minor": 4
}
