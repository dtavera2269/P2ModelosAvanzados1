{
 "cells": [
  {
   "cell_type": "markdown",
   "metadata": {
    "colab_type": "text",
    "id": "htXkrjGYcrJ2"
   },
   "source": [
    "# Exercise 13\n",
    "\n",
    "## Analyze class homeworks\n"
   ]
  },
  {
   "cell_type": "markdown",
   "metadata": {},
   "source": [
    "### Carolina Padilla Hernández 201111402\n",
    "### Wilson Felipe González Cantor 200924943\n",
    "### Jonny Eduardo Coronel Villamil 201411692\n",
    "### David Tavera Sánchez 201016123"
   ]
  },
  {
   "cell_type": "code",
   "execution_count": 4,
   "metadata": {
    "colab": {},
    "colab_type": "code",
    "id": "pW40u-yZcrJ6",
    "outputId": "958dedb6-0553-4e3a-98d0-d7f7febb3e97"
   },
   "outputs": [
    {
     "data": {
      "text/html": [
       "<div>\n",
       "<style scoped>\n",
       "    .dataframe tbody tr th:only-of-type {\n",
       "        vertical-align: middle;\n",
       "    }\n",
       "\n",
       "    .dataframe tbody tr th {\n",
       "        vertical-align: top;\n",
       "    }\n",
       "\n",
       "    .dataframe thead th {\n",
       "        text-align: right;\n",
       "    }\n",
       "</style>\n",
       "<table border=\"1\" class=\"dataframe\">\n",
       "  <thead>\n",
       "    <tr style=\"text-align: right;\">\n",
       "      <th></th>\n",
       "      <th>Genero</th>\n",
       "      <th>E1 - Examples of Time Series Analysis</th>\n",
       "      <th>E4 - Panel Data</th>\n",
       "      <th>E6 - Decison Trees</th>\n",
       "      <th>E8 - Ensemble Trees Overview</th>\n",
       "      <th>E10 - REST-API</th>\n",
       "      <th>E11 - Natural Language Processing Overview</th>\n",
       "    </tr>\n",
       "  </thead>\n",
       "  <tbody>\n",
       "    <tr>\n",
       "      <th>0</th>\n",
       "      <td>M</td>\n",
       "      <td>One of the most valuable application of time s...</td>\n",
       "      <td>The main difference between panel data and tim...</td>\n",
       "      <td>Decision tree are a model used by the analytic...</td>\n",
       "      <td>They are used to make a better prediction than...</td>\n",
       "      <td>Es una forma de arquitectura de datos. Los mic...</td>\n",
       "      <td>NaN</td>\n",
       "    </tr>\n",
       "    <tr>\n",
       "      <th>1</th>\n",
       "      <td>F</td>\n",
       "      <td>ANÁLISIS DE SERIES DE TIEMPO – USOS \\nEl análi...</td>\n",
       "      <td>Series de Tiempo vs Datos en Panel\\nUna serie ...</td>\n",
       "      <td>TIPOS DE ÁRBOLES DE DECISIÓN Y APLICACIONES\\nL...</td>\n",
       "      <td>ENSAMBLAJE EN MACHINE LEARNING\\nLos métodos de...</td>\n",
       "      <td>Microservicios\\nEl objetivo principal de la im...</td>\n",
       "      <td>NaN</td>\n",
       "    </tr>\n",
       "    <tr>\n",
       "      <th>2</th>\n",
       "      <td>M</td>\n",
       "      <td>Una serie de tiempo es una colección de datos ...</td>\n",
       "      <td>NaN</td>\n",
       "      <td>los arboles de decisión hacen parte de los alg...</td>\n",
       "      <td>Ensemble methods is a machine learning techniq...</td>\n",
       "      <td>El enfoque tradicional para el diseño de aplic...</td>\n",
       "      <td>LexisNexis launched Lexis Analytics, a legal r...</td>\n",
       "    </tr>\n",
       "    <tr>\n",
       "      <th>3</th>\n",
       "      <td>M</td>\n",
       "      <td>\\nGiven that Time Series Analysis allows to un...</td>\n",
       "      <td>The difference between panel data and time ser...</td>\n",
       "      <td>Decision Trees Algorithms are machine function...</td>\n",
       "      <td>Ensemble methods in Tree Decision algorithms b...</td>\n",
       "      <td>Micro-services are defined as a type of softwa...</td>\n",
       "      <td>NaN</td>\n",
       "    </tr>\n",
       "    <tr>\n",
       "      <th>4</th>\n",
       "      <td>M</td>\n",
       "      <td>Time Series Analysis is concerned with the stu...</td>\n",
       "      <td>A time series is represented by a variable or ...</td>\n",
       "      <td>Decision trees are a popular supervised machin...</td>\n",
       "      <td>The ensemble method is a combination of severa...</td>\n",
       "      <td>A microservice is a type of information techno...</td>\n",
       "      <td>A commercial product which uses Natural Langua...</td>\n",
       "    </tr>\n",
       "  </tbody>\n",
       "</table>\n",
       "</div>"
      ],
      "text/plain": [
       "  Genero              E1 - Examples of Time Series Analysis  \\\n",
       "0      M  One of the most valuable application of time s...   \n",
       "1      F  ANÁLISIS DE SERIES DE TIEMPO – USOS \\nEl análi...   \n",
       "2      M  Una serie de tiempo es una colección de datos ...   \n",
       "3      M  \\nGiven that Time Series Analysis allows to un...   \n",
       "4      M  Time Series Analysis is concerned with the stu...   \n",
       "\n",
       "                                     E4 - Panel Data  \\\n",
       "0  The main difference between panel data and tim...   \n",
       "1  Series de Tiempo vs Datos en Panel\\nUna serie ...   \n",
       "2                                                NaN   \n",
       "3  The difference between panel data and time ser...   \n",
       "4  A time series is represented by a variable or ...   \n",
       "\n",
       "                                  E6 - Decison Trees  \\\n",
       "0  Decision tree are a model used by the analytic...   \n",
       "1  TIPOS DE ÁRBOLES DE DECISIÓN Y APLICACIONES\\nL...   \n",
       "2  los arboles de decisión hacen parte de los alg...   \n",
       "3  Decision Trees Algorithms are machine function...   \n",
       "4  Decision trees are a popular supervised machin...   \n",
       "\n",
       "                        E8 - Ensemble Trees Overview  \\\n",
       "0  They are used to make a better prediction than...   \n",
       "1  ENSAMBLAJE EN MACHINE LEARNING\\nLos métodos de...   \n",
       "2  Ensemble methods is a machine learning techniq...   \n",
       "3  Ensemble methods in Tree Decision algorithms b...   \n",
       "4  The ensemble method is a combination of severa...   \n",
       "\n",
       "                                      E10 - REST-API  \\\n",
       "0  Es una forma de arquitectura de datos. Los mic...   \n",
       "1  Microservicios\\nEl objetivo principal de la im...   \n",
       "2  El enfoque tradicional para el diseño de aplic...   \n",
       "3  Micro-services are defined as a type of softwa...   \n",
       "4  A microservice is a type of information techno...   \n",
       "\n",
       "          E11 - Natural Language Processing Overview  \n",
       "0                                                NaN  \n",
       "1                                                NaN  \n",
       "2  LexisNexis launched Lexis Analytics, a legal r...  \n",
       "3                                                NaN  \n",
       "4  A commercial product which uses Natural Langua...  "
      ]
     },
     "execution_count": 4,
     "metadata": {},
     "output_type": "execute_result"
    }
   ],
   "source": [
    "from textblob import TextBlob, Word, Blobber\n",
    "import pandas as pd\n",
    "import numpy as np\n",
    "#! pip install -U textblob\n",
    "\n",
    "\n",
    "%matplotlib inline\n",
    "import matplotlib.pyplot as plt\n",
    "\n",
    "data = pd.read_excel('./datasets/Consolidado_respuestas_escribir_v2.xlsx')\n",
    "data.head()"
   ]
  },
  {
   "cell_type": "markdown",
   "metadata": {
    "colab_type": "text",
    "id": "eaGdi175crKK"
   },
   "source": [
    "# Exercise 13.1\n",
    "\n",
    "Analyze the writing patterns of each student"
   ]
  },
  {
   "cell_type": "code",
   "execution_count": 193,
   "metadata": {
    "colab": {},
    "colab_type": "code",
    "id": "wM9gdIU5crKM",
    "outputId": "fba13989-852c-459e-c1ff-e7b680d57815"
   },
   "outputs": [
    {
     "data": {
      "text/plain": [
       "Index(['E1', 'E4', 'E6', 'E8', 'E10', 'E11'], dtype='object')"
      ]
     },
     "execution_count": 193,
     "metadata": {},
     "output_type": "execute_result"
    }
   ],
   "source": [
    "data.columns=['Genero','E1','E4','E6','E8','E10','E11']\n",
    "#data.head()\n",
    "tareas=data.drop(['Genero'],axis=1).columns\n",
    "tareas"
   ]
  },
  {
   "cell_type": "code",
   "execution_count": 194,
   "metadata": {
    "colab": {},
    "colab_type": "code",
    "id": "5KYaHsiqcrKZ"
   },
   "outputs": [],
   "source": [
    "data['TotalTextoSt']=''\n",
    "for t in tareas:\n",
    "    #print('Entre')\n",
    "    data['TotalTextoSt']=data['TotalTextoSt'].str.cat(data[t], sep =\" \",na_rep='')\n",
    "data['CantPalabras'] = data['TotalTextoSt'].str.split().str.len()\n",
    "data['NoHizo']=data.isnull().sum(axis=1) \n",
    "data['NumPuntos'] = data['TotalTextoSt'].str.findall('\\.').str.len()\n",
    "data['NumTildes'] = data['TotalTextoSt'].str.findall('á').str.len() + \\\n",
    "    data['TotalTextoSt'].str.findall('é').str.len() + \\\n",
    "    data['TotalTextoSt'].str.findall('í').str.len() + \\\n",
    "    data['TotalTextoSt'].str.findall('ó').str.len() + \\\n",
    "    data['TotalTextoSt'].str.findall('ú').str.len()\n",
    "data['CantMayus'] = data['TotalTextoSt'].str.findall('A').str.len() + \\\n",
    "    data['TotalTextoSt'].str.findall('E').str.len() + \\\n",
    "    data['TotalTextoSt'].str.findall('I').str.len() + \\\n",
    "    data['TotalTextoSt'].str.findall('O').str.len() + \\\n",
    "    data['TotalTextoSt'].str.findall('U').str.len()\n",
    "data['Vocabulario']= [len(set(x.split())) for x in data['TotalTextoSt'].tolist()]\n",
    "data['CantOraciones']=[len(x.split('.'))for x in data['TotalTextoSt'].tolist()]\n",
    "data['CantPromXOracion']=[pd.Series([len(w.split()) for w in x.split('.')]).mean() for x in data['TotalTextoSt'].tolist()]\n",
    "data['Idioma']=[TextBlob(x).detect_language() for x in data['TotalTextoSt'].tolist()]"
   ]
  },
  {
   "cell_type": "code",
   "execution_count": 195,
   "metadata": {
    "colab": {},
    "colab_type": "code",
    "id": "9nHA_amGcrKj",
    "outputId": "3855769c-998d-488b-a329-c96da0752319",
    "scrolled": true
   },
   "outputs": [
    {
     "data": {
      "text/html": [
       "<div>\n",
       "<style scoped>\n",
       "    .dataframe tbody tr th:only-of-type {\n",
       "        vertical-align: middle;\n",
       "    }\n",
       "\n",
       "    .dataframe tbody tr th {\n",
       "        vertical-align: top;\n",
       "    }\n",
       "\n",
       "    .dataframe thead th {\n",
       "        text-align: right;\n",
       "    }\n",
       "</style>\n",
       "<table border=\"1\" class=\"dataframe\">\n",
       "  <thead>\n",
       "    <tr style=\"text-align: right;\">\n",
       "      <th></th>\n",
       "      <th>Genero</th>\n",
       "      <th>E1</th>\n",
       "      <th>E4</th>\n",
       "      <th>E6</th>\n",
       "      <th>E8</th>\n",
       "      <th>E10</th>\n",
       "      <th>E11</th>\n",
       "      <th>TotalTextoSt</th>\n",
       "      <th>CantPalabras</th>\n",
       "      <th>NoHizo</th>\n",
       "      <th>NumPuntos</th>\n",
       "      <th>NumTildes</th>\n",
       "      <th>CantMayus</th>\n",
       "      <th>Vocabulario</th>\n",
       "      <th>CantOraciones</th>\n",
       "      <th>CantPromXOracion</th>\n",
       "      <th>Idioma</th>\n",
       "    </tr>\n",
       "  </thead>\n",
       "  <tbody>\n",
       "    <tr>\n",
       "      <td>0</td>\n",
       "      <td>M</td>\n",
       "      <td>One of the most valuable application of time s...</td>\n",
       "      <td>The main difference between panel data and tim...</td>\n",
       "      <td>Decision tree are a model used by the analytic...</td>\n",
       "      <td>They are used to make a better prediction than...</td>\n",
       "      <td>Es una forma de arquitectura de datos. Los mic...</td>\n",
       "      <td>NaN</td>\n",
       "      <td>One of the most valuable application of time ...</td>\n",
       "      <td>1282</td>\n",
       "      <td>1</td>\n",
       "      <td>62</td>\n",
       "      <td>25</td>\n",
       "      <td>38</td>\n",
       "      <td>609</td>\n",
       "      <td>63</td>\n",
       "      <td>20.396825</td>\n",
       "      <td>en</td>\n",
       "    </tr>\n",
       "    <tr>\n",
       "      <td>1</td>\n",
       "      <td>F</td>\n",
       "      <td>ANÁLISIS DE SERIES DE TIEMPO – USOS \\nEl análi...</td>\n",
       "      <td>Series de Tiempo vs Datos en Panel\\nUna serie ...</td>\n",
       "      <td>TIPOS DE ÁRBOLES DE DECISIÓN Y APLICACIONES\\nL...</td>\n",
       "      <td>ENSAMBLAJE EN MACHINE LEARNING\\nLos métodos de...</td>\n",
       "      <td>Microservicios\\nEl objetivo principal de la im...</td>\n",
       "      <td>NaN</td>\n",
       "      <td>ANÁLISIS DE SERIES DE TIEMPO – USOS \\nEl anál...</td>\n",
       "      <td>1696</td>\n",
       "      <td>1</td>\n",
       "      <td>76</td>\n",
       "      <td>181</td>\n",
       "      <td>108</td>\n",
       "      <td>745</td>\n",
       "      <td>77</td>\n",
       "      <td>22.389610</td>\n",
       "      <td>es</td>\n",
       "    </tr>\n",
       "    <tr>\n",
       "      <td>2</td>\n",
       "      <td>M</td>\n",
       "      <td>Una serie de tiempo es una colección de datos ...</td>\n",
       "      <td>NaN</td>\n",
       "      <td>los arboles de decisión hacen parte de los alg...</td>\n",
       "      <td>Ensemble methods is a machine learning techniq...</td>\n",
       "      <td>El enfoque tradicional para el diseño de aplic...</td>\n",
       "      <td>LexisNexis launched Lexis Analytics, a legal r...</td>\n",
       "      <td>Una serie de tiempo es una colección de datos...</td>\n",
       "      <td>1408</td>\n",
       "      <td>1</td>\n",
       "      <td>54</td>\n",
       "      <td>81</td>\n",
       "      <td>59</td>\n",
       "      <td>667</td>\n",
       "      <td>55</td>\n",
       "      <td>25.690909</td>\n",
       "      <td>es</td>\n",
       "    </tr>\n",
       "    <tr>\n",
       "      <td>3</td>\n",
       "      <td>M</td>\n",
       "      <td>\\nGiven that Time Series Analysis allows to un...</td>\n",
       "      <td>The difference between panel data and time ser...</td>\n",
       "      <td>Decision Trees Algorithms are machine function...</td>\n",
       "      <td>Ensemble methods in Tree Decision algorithms b...</td>\n",
       "      <td>Micro-services are defined as a type of softwa...</td>\n",
       "      <td>NaN</td>\n",
       "      <td>\\nGiven that Time Series Analysis allows to u...</td>\n",
       "      <td>1428</td>\n",
       "      <td>1</td>\n",
       "      <td>56</td>\n",
       "      <td>0</td>\n",
       "      <td>41</td>\n",
       "      <td>564</td>\n",
       "      <td>57</td>\n",
       "      <td>25.052632</td>\n",
       "      <td>en</td>\n",
       "    </tr>\n",
       "    <tr>\n",
       "      <td>4</td>\n",
       "      <td>M</td>\n",
       "      <td>Time Series Analysis is concerned with the stu...</td>\n",
       "      <td>A time series is represented by a variable or ...</td>\n",
       "      <td>Decision trees are a popular supervised machin...</td>\n",
       "      <td>The ensemble method is a combination of severa...</td>\n",
       "      <td>A microservice is a type of information techno...</td>\n",
       "      <td>A commercial product which uses Natural Langua...</td>\n",
       "      <td>Time Series Analysis is concerned with the st...</td>\n",
       "      <td>2074</td>\n",
       "      <td>0</td>\n",
       "      <td>108</td>\n",
       "      <td>3</td>\n",
       "      <td>75</td>\n",
       "      <td>928</td>\n",
       "      <td>109</td>\n",
       "      <td>19.220183</td>\n",
       "      <td>en</td>\n",
       "    </tr>\n",
       "  </tbody>\n",
       "</table>\n",
       "</div>"
      ],
      "text/plain": [
       "  Genero                                                 E1  \\\n",
       "0      M  One of the most valuable application of time s...   \n",
       "1      F  ANÁLISIS DE SERIES DE TIEMPO – USOS \\nEl análi...   \n",
       "2      M  Una serie de tiempo es una colección de datos ...   \n",
       "3      M  \\nGiven that Time Series Analysis allows to un...   \n",
       "4      M  Time Series Analysis is concerned with the stu...   \n",
       "\n",
       "                                                  E4  \\\n",
       "0  The main difference between panel data and tim...   \n",
       "1  Series de Tiempo vs Datos en Panel\\nUna serie ...   \n",
       "2                                                NaN   \n",
       "3  The difference between panel data and time ser...   \n",
       "4  A time series is represented by a variable or ...   \n",
       "\n",
       "                                                  E6  \\\n",
       "0  Decision tree are a model used by the analytic...   \n",
       "1  TIPOS DE ÁRBOLES DE DECISIÓN Y APLICACIONES\\nL...   \n",
       "2  los arboles de decisión hacen parte de los alg...   \n",
       "3  Decision Trees Algorithms are machine function...   \n",
       "4  Decision trees are a popular supervised machin...   \n",
       "\n",
       "                                                  E8  \\\n",
       "0  They are used to make a better prediction than...   \n",
       "1  ENSAMBLAJE EN MACHINE LEARNING\\nLos métodos de...   \n",
       "2  Ensemble methods is a machine learning techniq...   \n",
       "3  Ensemble methods in Tree Decision algorithms b...   \n",
       "4  The ensemble method is a combination of severa...   \n",
       "\n",
       "                                                 E10  \\\n",
       "0  Es una forma de arquitectura de datos. Los mic...   \n",
       "1  Microservicios\\nEl objetivo principal de la im...   \n",
       "2  El enfoque tradicional para el diseño de aplic...   \n",
       "3  Micro-services are defined as a type of softwa...   \n",
       "4  A microservice is a type of information techno...   \n",
       "\n",
       "                                                 E11  \\\n",
       "0                                                NaN   \n",
       "1                                                NaN   \n",
       "2  LexisNexis launched Lexis Analytics, a legal r...   \n",
       "3                                                NaN   \n",
       "4  A commercial product which uses Natural Langua...   \n",
       "\n",
       "                                        TotalTextoSt  CantPalabras  NoHizo  \\\n",
       "0   One of the most valuable application of time ...          1282       1   \n",
       "1   ANÁLISIS DE SERIES DE TIEMPO – USOS \\nEl anál...          1696       1   \n",
       "2   Una serie de tiempo es una colección de datos...          1408       1   \n",
       "3   \\nGiven that Time Series Analysis allows to u...          1428       1   \n",
       "4   Time Series Analysis is concerned with the st...          2074       0   \n",
       "\n",
       "   NumPuntos  NumTildes  CantMayus  Vocabulario  CantOraciones  \\\n",
       "0         62         25         38          609             63   \n",
       "1         76        181        108          745             77   \n",
       "2         54         81         59          667             55   \n",
       "3         56          0         41          564             57   \n",
       "4        108          3         75          928            109   \n",
       "\n",
       "   CantPromXOracion Idioma  \n",
       "0         20.396825     en  \n",
       "1         22.389610     es  \n",
       "2         25.690909     es  \n",
       "3         25.052632     en  \n",
       "4         19.220183     en  "
      ]
     },
     "execution_count": 195,
     "metadata": {},
     "output_type": "execute_result"
    }
   ],
   "source": [
    "data.head()\n"
   ]
  },
  {
   "cell_type": "code",
   "execution_count": 196,
   "metadata": {},
   "outputs": [
    {
     "data": {
      "image/png": "[encoded data removed]",
      "text/plain": [
       "<Figure size 432x288 with 1 Axes>"
      ]
     },
     "metadata": {
      "needs_background": "light"
     },
     "output_type": "display_data"
    }
   ],
   "source": [
    "import matplotlib.pyplot as plt \n",
    "import matplotlib.ticker as mtick \n",
    "#colors = ['#97E6DF','#EE350b']\n",
    "ax = (data['Genero'].value_counts()*100.0 /len(data)).plot(kind='bar', stacked = True,rot = 0, color = colors)\n",
    "\n",
    "ax.yaxis.set_major_formatter(mtick.PercentFormatter())\n",
    "ax.set_ylabel('% de Tareas por Género')\n",
    "ax.set_xlabel('Género')\n",
    "ax.set_ylabel('% Género')\n",
    "ax.set_title('Proporción de tareas por Género')\n",
    "\n",
    "\n",
    "# create a list to collect the plt.patches data\n",
    "totals = []\n",
    "\n",
    "# find the values and append to list\n",
    "for i in ax.patches:\n",
    "    totals.append(i.get_width())\n",
    "\n",
    "# set individual bar lables using above list\n",
    "total = sum(totals)\n",
    "\n",
    "for i in ax.patches:\n",
    "    # get_width pulls left or right; get_y pushes up or down\n",
    "    ax.text(i.get_x()+.15, i.get_height()-3.5, \\\n",
    "            str(round((i.get_height()/total), 1))+'%',\n",
    "            fontsize=12,\n",
    "            color='black',  weight = 'bold')"
   ]
  },
  {
   "cell_type": "code",
   "execution_count": 197,
   "metadata": {},
   "outputs": [
    {
     "data": {
      "image/png": "[encoded data removed]",
      "text/plain": [
       "<Figure size 432x288 with 1 Axes>"
      ]
     },
     "metadata": {
      "needs_background": "light"
     },
     "output_type": "display_data"
    }
   ],
   "source": [
    "import matplotlib.pyplot as plt \n",
    "import matplotlib.ticker as mtick \n",
    "#colors = ['#97E6DF','#EE350b']\n",
    "ax = (data['Idioma'].value_counts()*100.0 /len(data)).plot(kind='bar', stacked = True,rot = 0, color = colors)\n",
    "\n",
    "ax.yaxis.set_major_formatter(mtick.PercentFormatter())\n",
    "ax.set_ylabel('% de Tareas por Idioma')\n",
    "ax.set_xlabel('Idioma')\n",
    "ax.set_ylabel('% Idioma')\n",
    "ax.set_title('Proporción Idioma tareas')\n",
    "\n",
    "\n",
    "# create a list to collect the plt.patches data\n",
    "totals = []\n",
    "\n",
    "# find the values and append to list\n",
    "for i in ax.patches:\n",
    "    totals.append(i.get_width())\n",
    "\n",
    "# set individual bar lables using above list\n",
    "total = sum(totals)\n",
    "\n",
    "for i in ax.patches:\n",
    "    # get_width pulls left or right; get_y pushes up or down\n",
    "    ax.text(i.get_x()+.15, i.get_height()-3.5, \\\n",
    "            str(round((i.get_height()/total), 1))+'%',\n",
    "            fontsize=12,\n",
    "            color='black',\n",
    "           weight = 'bold')\n"
   ]
  },
  {
   "cell_type": "markdown",
   "metadata": {},
   "source": [
    "* La mayoria de los estudiantes del curso de Modelos Avanzados I de la maestría MIIA, son hombres con un 78%. Adicionalmente, el 71% de los estudiantes realizaron las tareas en español, el restante las realizó en ingles"
   ]
  },
  {
   "cell_type": "code",
   "execution_count": 198,
   "metadata": {},
   "outputs": [
    {
     "data": {
      "image/png": "[encoded data removed]",
      "text/plain": [
       "<Figure size 408.5x360 with 1 Axes>"
      ]
     },
     "metadata": {
      "needs_background": "light"
     },
     "output_type": "display_data"
    }
   ],
   "source": [
    "sns.catplot(x=\"Genero\", y=\"CantPalabras\", hue=\"Idioma\",\n",
    "            kind=\"bar\", data=data, palette=\"GnBu_d\");\n"
   ]
  },
  {
   "cell_type": "code",
   "execution_count": 199,
   "metadata": {},
   "outputs": [
    {
     "data": {
      "text/plain": [
       "<seaborn.axisgrid.FacetGrid at 0x250f78fb8c8>"
      ]
     },
     "execution_count": 199,
     "metadata": {},
     "output_type": "execute_result"
    },
    {
     "data": {
      "image/png": "[encoded data removed]",
      "text/plain": [
       "<Figure size 422.625x252 with 1 Axes>"
      ]
     },
     "metadata": {
      "needs_background": "light"
     },
     "output_type": "display_data"
    }
   ],
   "source": [
    "g = sns.catplot(x=\"CantPalabras\", y=\"Idioma\", hue=\"Genero\",\n",
    "                height=3.5, aspect=1.5,\n",
    "                kind=\"box\", legend=False, data=data,palette=\"BuGn_r\" );\n",
    "g.add_legend(title=\"Género\")"
   ]
  },
  {
   "cell_type": "markdown",
   "metadata": {},
   "source": [
    "* Se observa que las mujeres utilizan una mayor cantidad de palabras que los hombres, la mayoria de ellas realiza las tareas en este idioma. Adionalmente, se observa que la media de la cantidad de palabras en ingles o español es muy parecida en los hombres. "
   ]
  },
  {
   "cell_type": "code",
   "execution_count": 200,
   "metadata": {},
   "outputs": [
    {
     "data": {
      "image/png": "[encoded data removed]",
      "text/plain": [
       "<Figure size 408.5x360 with 1 Axes>"
      ]
     },
     "metadata": {
      "needs_background": "light"
     },
     "output_type": "display_data"
    }
   ],
   "source": [
    "sns.catplot(x=\"Genero\", y=\"NumPuntos\", hue=\"Idioma\",\n",
    "            kind=\"bar\", data=data, palette=\"GnBu_d\");"
   ]
  },
  {
   "cell_type": "code",
   "execution_count": 201,
   "metadata": {},
   "outputs": [
    {
     "name": "stderr",
     "output_type": "stream",
     "text": [
      "C:\\ProgramData\\Anaconda3\\lib\\site-packages\\seaborn\\axisgrid.py:230: UserWarning: The `size` paramter has been renamed to `height`; please update your code.\n",
      "  warnings.warn(msg, UserWarning)\n"
     ]
    },
    {
     "data": {
      "image/png": "[encoded data removed]",
      "text/plain": [
       "<Figure size 296x576 with 2 Axes>"
      ]
     },
     "metadata": {
      "needs_background": "light"
     },
     "output_type": "display_data"
    }
   ],
   "source": [
    "g = sns.FacetGrid(data, row='Genero', size=4)\n",
    "g.map(plt.hist, 'NumPuntos', alpha=0.5, bins=15)\n",
    "g.add_legend()\n",
    "plt.show()"
   ]
  },
  {
   "cell_type": "code",
   "execution_count": 202,
   "metadata": {},
   "outputs": [
    {
     "data": {
      "text/html": [
       "<div>\n",
       "<style scoped>\n",
       "    .dataframe tbody tr th:only-of-type {\n",
       "        vertical-align: middle;\n",
       "    }\n",
       "\n",
       "    .dataframe tbody tr th {\n",
       "        vertical-align: top;\n",
       "    }\n",
       "\n",
       "    .dataframe thead th {\n",
       "        text-align: right;\n",
       "    }\n",
       "</style>\n",
       "<table border=\"1\" class=\"dataframe\">\n",
       "  <thead>\n",
       "    <tr style=\"text-align: right;\">\n",
       "      <th></th>\n",
       "      <th>count</th>\n",
       "      <th>mean</th>\n",
       "      <th>std</th>\n",
       "      <th>min</th>\n",
       "      <th>25%</th>\n",
       "      <th>50%</th>\n",
       "      <th>75%</th>\n",
       "      <th>max</th>\n",
       "    </tr>\n",
       "    <tr>\n",
       "      <th>Genero</th>\n",
       "      <th></th>\n",
       "      <th></th>\n",
       "      <th></th>\n",
       "      <th></th>\n",
       "      <th></th>\n",
       "      <th></th>\n",
       "      <th></th>\n",
       "      <th></th>\n",
       "    </tr>\n",
       "  </thead>\n",
       "  <tbody>\n",
       "    <tr>\n",
       "      <td>F</td>\n",
       "      <td>10.0</td>\n",
       "      <td>72.600000</td>\n",
       "      <td>52.466285</td>\n",
       "      <td>21.0</td>\n",
       "      <td>44.5</td>\n",
       "      <td>57.0</td>\n",
       "      <td>79.0</td>\n",
       "      <td>192.0</td>\n",
       "    </tr>\n",
       "    <tr>\n",
       "      <td>M</td>\n",
       "      <td>36.0</td>\n",
       "      <td>56.416667</td>\n",
       "      <td>27.149717</td>\n",
       "      <td>13.0</td>\n",
       "      <td>39.0</td>\n",
       "      <td>52.0</td>\n",
       "      <td>67.0</td>\n",
       "      <td>140.0</td>\n",
       "    </tr>\n",
       "  </tbody>\n",
       "</table>\n",
       "</div>"
      ],
      "text/plain": [
       "        count       mean        std   min   25%   50%   75%    max\n",
       "Genero                                                            \n",
       "F        10.0  72.600000  52.466285  21.0  44.5  57.0  79.0  192.0\n",
       "M        36.0  56.416667  27.149717  13.0  39.0  52.0  67.0  140.0"
      ]
     },
     "execution_count": 202,
     "metadata": {},
     "output_type": "execute_result"
    }
   ],
   "source": [
    "grouped = data.groupby('Genero')\n",
    "\n",
    "grouped['NumPuntos'].describe()"
   ]
  },
  {
   "cell_type": "markdown",
   "metadata": {},
   "source": [
    "* Las mujeres utilizan una mayor cantidad de signos de puntuación en sus tareas, esto también se debe porque ellas escriben una mayor cantidad de palabras. La distribucion de la puntuación en hombres se observa un poco sesgado a la derecha con la media en 56 puntos. "
   ]
  },
  {
   "cell_type": "code",
   "execution_count": 203,
   "metadata": {},
   "outputs": [
    {
     "data": {
      "text/plain": [
       "<seaborn.axisgrid.FacetGrid at 0x250f7b18608>"
      ]
     },
     "execution_count": 203,
     "metadata": {},
     "output_type": "execute_result"
    },
    {
     "data": {
      "image/png": "[encoded data removed]",
      "text/plain": [
       "<Figure size 422.625x252 with 1 Axes>"
      ]
     },
     "metadata": {
      "needs_background": "light"
     },
     "output_type": "display_data"
    }
   ],
   "source": [
    "g = sns.catplot(x=\"CantOraciones\", y=\"Genero\", hue=\"Genero\",\n",
    "                height=3.5, aspect=1.5,\n",
    "                kind=\"box\", legend=False, data=data,palette=\"cubehelix\" );\n",
    "g.add_legend(title=\"Género\")"
   ]
  },
  {
   "cell_type": "markdown",
   "metadata": {},
   "source": [
    "* Como se ha visto, la mujeres utilizan una mayor cantidad de oraciones en sus tareas, sin embargo el promedio es muy cercano en hombres y mujeres. "
   ]
  },
  {
   "cell_type": "code",
   "execution_count": 204,
   "metadata": {},
   "outputs": [
    {
     "name": "stderr",
     "output_type": "stream",
     "text": [
      "C:\\ProgramData\\Anaconda3\\lib\\site-packages\\seaborn\\axisgrid.py:230: UserWarning: The `size` paramter has been renamed to `height`; please update your code.\n",
      "  warnings.warn(msg, UserWarning)\n"
     ]
    },
    {
     "data": {
      "image/png": "[encoded data removed]",
      "text/plain": [
       "<Figure size 296x576 with 2 Axes>"
      ]
     },
     "metadata": {
      "needs_background": "light"
     },
     "output_type": "display_data"
    }
   ],
   "source": [
    "g = sns.FacetGrid(data, row='Genero', size=4)\n",
    "g.map(plt.hist, 'NumTildes', alpha=0.5, bins=15)\n",
    "g.add_legend()\n",
    "plt.show()"
   ]
  },
  {
   "cell_type": "code",
   "execution_count": 205,
   "metadata": {},
   "outputs": [
    {
     "data": {
      "text/html": [
       "<div>\n",
       "<style scoped>\n",
       "    .dataframe tbody tr th:only-of-type {\n",
       "        vertical-align: middle;\n",
       "    }\n",
       "\n",
       "    .dataframe tbody tr th {\n",
       "        vertical-align: top;\n",
       "    }\n",
       "\n",
       "    .dataframe thead th {\n",
       "        text-align: right;\n",
       "    }\n",
       "</style>\n",
       "<table border=\"1\" class=\"dataframe\">\n",
       "  <thead>\n",
       "    <tr style=\"text-align: right;\">\n",
       "      <th></th>\n",
       "      <th>count</th>\n",
       "      <th>mean</th>\n",
       "      <th>std</th>\n",
       "      <th>min</th>\n",
       "      <th>25%</th>\n",
       "      <th>50%</th>\n",
       "      <th>75%</th>\n",
       "      <th>max</th>\n",
       "    </tr>\n",
       "    <tr>\n",
       "      <th>Genero</th>\n",
       "      <th></th>\n",
       "      <th></th>\n",
       "      <th></th>\n",
       "      <th></th>\n",
       "      <th></th>\n",
       "      <th></th>\n",
       "      <th></th>\n",
       "      <th></th>\n",
       "    </tr>\n",
       "  </thead>\n",
       "  <tbody>\n",
       "    <tr>\n",
       "      <td>F</td>\n",
       "      <td>10.0</td>\n",
       "      <td>134.700000</td>\n",
       "      <td>50.363236</td>\n",
       "      <td>61.0</td>\n",
       "      <td>91.5</td>\n",
       "      <td>141.5</td>\n",
       "      <td>179.5</td>\n",
       "      <td>200.0</td>\n",
       "    </tr>\n",
       "    <tr>\n",
       "      <td>M</td>\n",
       "      <td>36.0</td>\n",
       "      <td>101.388889</td>\n",
       "      <td>59.995370</td>\n",
       "      <td>0.0</td>\n",
       "      <td>62.0</td>\n",
       "      <td>116.0</td>\n",
       "      <td>141.5</td>\n",
       "      <td>218.0</td>\n",
       "    </tr>\n",
       "  </tbody>\n",
       "</table>\n",
       "</div>"
      ],
      "text/plain": [
       "        count        mean        std   min   25%    50%    75%    max\n",
       "Genero                                                               \n",
       "F        10.0  134.700000  50.363236  61.0  91.5  141.5  179.5  200.0\n",
       "M        36.0  101.388889  59.995370   0.0  62.0  116.0  141.5  218.0"
      ]
     },
     "execution_count": 205,
     "metadata": {},
     "output_type": "execute_result"
    }
   ],
   "source": [
    "grouped = data.groupby('Genero')\n",
    "\n",
    "grouped['NumTildes'].describe()"
   ]
  },
  {
   "cell_type": "markdown",
   "metadata": {},
   "source": [
    "* Se puede observar que las mujeres utilizan en promedio una mayor cantidad de signos de puntuación que los hombres. Sin embargo, la diferencia no es muy grande, esto  se debe a la cantidad de estudiantes de género femenino que toman la clase, la cual es solo el 28%. También se observa que existen 6 estudiantes que no utilizan signos de puntuación porque realizaron sus tareas en inglés. "
   ]
  },
  {
   "cell_type": "code",
   "execution_count": 206,
   "metadata": {},
   "outputs": [
    {
     "data": {
      "text/plain": [
       "<seaborn.axisgrid.FacetGrid at 0x250f5dc3548>"
      ]
     },
     "execution_count": 206,
     "metadata": {},
     "output_type": "execute_result"
    },
    {
     "data": {
      "image/png": "[encoded data removed]",
      "text/plain": [
       "<Figure size 422.625x252 with 1 Axes>"
      ]
     },
     "metadata": {
      "needs_background": "light"
     },
     "output_type": "display_data"
    }
   ],
   "source": [
    "g = sns.catplot(x=\"Vocabulario\", y=\"Genero\", hue=\"Genero\",\n",
    "                height=3.5, aspect=1.5,\n",
    "                kind=\"box\", legend=False, data=data,palette=\"cubehelix\" );\n",
    "g.add_legend(title=\"Género\")"
   ]
  },
  {
   "cell_type": "code",
   "execution_count": 281,
   "metadata": {},
   "outputs": [
    {
     "data": {
      "text/html": [
       "<div>\n",
       "<style scoped>\n",
       "    .dataframe tbody tr th:only-of-type {\n",
       "        vertical-align: middle;\n",
       "    }\n",
       "\n",
       "    .dataframe tbody tr th {\n",
       "        vertical-align: top;\n",
       "    }\n",
       "\n",
       "    .dataframe thead th {\n",
       "        text-align: right;\n",
       "    }\n",
       "</style>\n",
       "<table border=\"1\" class=\"dataframe\">\n",
       "  <thead>\n",
       "    <tr style=\"text-align: right;\">\n",
       "      <th></th>\n",
       "      <th>count</th>\n",
       "      <th>mean</th>\n",
       "      <th>std</th>\n",
       "      <th>min</th>\n",
       "      <th>25%</th>\n",
       "      <th>50%</th>\n",
       "      <th>75%</th>\n",
       "      <th>max</th>\n",
       "    </tr>\n",
       "    <tr>\n",
       "      <th>Genero</th>\n",
       "      <th></th>\n",
       "      <th></th>\n",
       "      <th></th>\n",
       "      <th></th>\n",
       "      <th></th>\n",
       "      <th></th>\n",
       "      <th></th>\n",
       "      <th></th>\n",
       "    </tr>\n",
       "  </thead>\n",
       "  <tbody>\n",
       "    <tr>\n",
       "      <td>F</td>\n",
       "      <td>10.0</td>\n",
       "      <td>680.50</td>\n",
       "      <td>193.174791</td>\n",
       "      <td>295.0</td>\n",
       "      <td>596.5</td>\n",
       "      <td>696.5</td>\n",
       "      <td>760.0</td>\n",
       "      <td>945.0</td>\n",
       "    </tr>\n",
       "    <tr>\n",
       "      <td>M</td>\n",
       "      <td>36.0</td>\n",
       "      <td>608.75</td>\n",
       "      <td>157.041646</td>\n",
       "      <td>224.0</td>\n",
       "      <td>524.0</td>\n",
       "      <td>595.5</td>\n",
       "      <td>711.5</td>\n",
       "      <td>928.0</td>\n",
       "    </tr>\n",
       "  </tbody>\n",
       "</table>\n",
       "</div>"
      ],
      "text/plain": [
       "        count    mean         std    min    25%    50%    75%    max\n",
       "Genero                                                              \n",
       "F        10.0  680.50  193.174791  295.0  596.5  696.5  760.0  945.0\n",
       "M        36.0  608.75  157.041646  224.0  524.0  595.5  711.5  928.0"
      ]
     },
     "execution_count": 281,
     "metadata": {},
     "output_type": "execute_result"
    }
   ],
   "source": [
    "grouped = data.groupby('Genero')\n",
    "\n",
    "grouped['Vocabulario'].describe()"
   ]
  },
  {
   "cell_type": "markdown",
   "metadata": {},
   "source": [
    "* Se observa que las mujeres tienen una mayor cantidad de vocabulario a la hora de realizar las tareas, es decir, no realizan repetición de palabras en cada uno de los textos. Sin embargo, se observan algunos outliers de estudiantes que son muy concretos en sus textos."
   ]
  },
  {
   "cell_type": "markdown",
   "metadata": {
    "colab_type": "text",
    "id": "Q0H_IxfmcrKt"
   },
   "source": [
    "# Exercise 13.2\n",
    "\n",
    "Evaluate the similarities of the homeworks of the students.\n",
    "\n",
    "At a homework level, then as a student level.\n"
   ]
  },
  {
   "cell_type": "markdown",
   "metadata": {
    "colab_type": "text",
    "id": "MchIs-zncrKu"
   },
   "source": [
    "#### Homework level"
   ]
  },
  {
   "cell_type": "code",
   "execution_count": 55,
   "metadata": {
    "colab": {},
    "colab_type": "code",
    "id": "SqnmaXWacrKw",
    "outputId": "401a7359-f21b-415c-fc67-0740f0e313b2"
   },
   "outputs": [
    {
     "data": {
      "text/plain": [
       "True"
      ]
     },
     "execution_count": 55,
     "metadata": {},
     "output_type": "execute_result"
    }
   ],
   "source": [
    "pd.isnull(data['E11'][0])"
   ]
  },
  {
   "cell_type": "code",
   "execution_count": 207,
   "metadata": {
    "colab": {},
    "colab_type": "code",
    "id": "5x6lwBn8crK7"
   },
   "outputs": [],
   "source": [
    "from sklearn.feature_extraction.text import CountVectorizer\n",
    "from scipy.spatial.distance import cosine\n",
    "import numpy as np\n",
    "from sklearn.feature_extraction import text \n",
    "#Lista de stopwords en español obtenida en \n",
    "stop_esp=pd.read_table('stopwords-es.txt').iloc[:,0].tolist()\n",
    "stop_words = text.ENGLISH_STOP_WORDS.union(stop_esp)\n",
    "\n",
    "def cosine_distance_countVectorizer(s1, s2):\n",
    "    vect = CountVectorizer(stop_words=stop_words, analyzer='word')\n",
    "    X_dtm = vect.fit_transform([s1, s2]).todense()\n",
    "    \n",
    "    return 1-cosine(X_dtm[0], X_dtm[1])"
   ]
  },
  {
   "cell_type": "code",
   "execution_count": 209,
   "metadata": {
    "colab": {},
    "colab_type": "code",
    "id": "UIsFFmeycrLG",
    "scrolled": false
   },
   "outputs": [],
   "source": [
    "hw={}\n",
    "tareas = ['E1','E4','E6','E8','E10','E11']\n",
    "for t in tareas:\n",
    "    resultados=list()\n",
    "    for i in data.index:\n",
    "        #print(i)\n",
    "        listai=list()\n",
    "        for j in data.index:\n",
    "            if not(pd.isnull(data[t][i])) and not(pd.isnull(data[t][j])):\n",
    "                #print(cosine_distance_countVectorizer(data[t][i],data[t][j]))\n",
    "                listai.append(cosine_distance_countVectorizer(data[t][i],data[t][j]))\n",
    "            else:\n",
    "                listai.append(np.nan)\n",
    "        resultados.append(listai)        \n",
    "    hw[t]=pd.DataFrame(resultados)\n",
    "\n"
   ]
  },
  {
   "cell_type": "code",
   "execution_count": 210,
   "metadata": {
    "colab": {},
    "colab_type": "code",
    "id": "Xtk3OCKVcrLN",
    "outputId": "4a995251-f7dc-47f7-d98e-398859869c5f",
    "scrolled": true
   },
   "outputs": [
    {
     "name": "stdout",
     "output_type": "stream",
     "text": [
      "E1\n",
      "E4\n",
      "0   3\n",
      "0   23\n",
      "0   27\n",
      "0   35\n",
      "0   38\n",
      "3   0\n",
      "3   23\n",
      "3   27\n",
      "3   35\n",
      "3   38\n",
      "4   27\n",
      "5   8\n",
      "5   22\n",
      "6   13\n",
      "6   16\n",
      "6   22\n",
      "6   40\n",
      "6   44\n",
      "8   5\n",
      "13   6\n",
      "13   44\n",
      "16   6\n",
      "16   21\n",
      "16   25\n",
      "16   36\n",
      "16   44\n",
      "21   16\n",
      "21   28\n",
      "21   44\n",
      "22   5\n",
      "22   6\n",
      "23   0\n",
      "23   3\n",
      "23   27\n",
      "23   35\n",
      "25   16\n",
      "27   0\n",
      "27   3\n",
      "27   4\n",
      "27   23\n",
      "27   35\n",
      "27   38\n",
      "28   21\n",
      "35   0\n",
      "35   3\n",
      "35   23\n",
      "35   27\n",
      "35   38\n",
      "36   16\n",
      "36   44\n",
      "36   45\n",
      "38   0\n",
      "38   3\n",
      "38   27\n",
      "38   35\n",
      "40   6\n",
      "42   44\n",
      "44   6\n",
      "44   13\n",
      "44   16\n",
      "44   21\n",
      "44   36\n",
      "44   42\n",
      "45   36\n",
      "E6\n",
      "3   38\n",
      "18   37\n",
      "20   22\n",
      "22   20\n",
      "37   18\n",
      "37   42\n",
      "38   3\n",
      "42   37\n",
      "E8\n",
      "0   38\n",
      "1   30\n",
      "30   1\n",
      "30   39\n",
      "38   0\n",
      "39   30\n",
      "E10\n",
      "0   10\n",
      "2   10\n",
      "2   21\n",
      "2   22\n",
      "9   20\n",
      "10   0\n",
      "10   2\n",
      "10   21\n",
      "10   22\n",
      "15   39\n",
      "20   9\n",
      "20   42\n",
      "21   2\n",
      "21   10\n",
      "22   2\n",
      "22   10\n",
      "24   37\n",
      "37   24\n",
      "39   15\n",
      "42   20\n",
      "E11\n"
     ]
    }
   ],
   "source": [
    "for h in hw.keys():\n",
    "    print(h)\n",
    "    for c in hw[h].columns:\n",
    "        for i in hw[h].index:\n",
    "            #print(he10[c][i])\n",
    "            if hw[h][c][i]>0.6 and hw[h][c][i]!=1:\n",
    "                print(c,' ',i)\n",
    "                #break"
   ]
  },
  {
   "cell_type": "code",
   "execution_count": 211,
   "metadata": {
    "colab": {},
    "colab_type": "code",
    "id": "F4txdLk_crLS",
    "outputId": "5ebce397-f3b6-4ca5-bf03-3bff3350ccf9"
   },
   "outputs": [
    {
     "data": {
      "text/plain": [
       "0.7032309015694211"
      ]
     },
     "execution_count": 211,
     "metadata": {},
     "output_type": "execute_result"
    }
   ],
   "source": [
    "cosine_distance_countVectorizer(data['E4'][0],data['E4'][38])"
   ]
  },
  {
   "cell_type": "code",
   "execution_count": 212,
   "metadata": {},
   "outputs": [],
   "source": [
    "#Remplazar Nan con 0\n",
    "tareas = ['E1','E4','E6','E8','E10','E11']\n",
    "for t in tareas:\n",
    "    hw[t]=hw[t].fillna(0)\n"
   ]
  },
  {
   "cell_type": "markdown",
   "metadata": {},
   "source": [
    "### Tareas en Ingles"
   ]
  },
  {
   "cell_type": "code",
   "execution_count": 263,
   "metadata": {
    "scrolled": true
   },
   "outputs": [
    {
     "data": {
      "text/html": [
       "<div>\n",
       "<style scoped>\n",
       "    .dataframe tbody tr th:only-of-type {\n",
       "        vertical-align: middle;\n",
       "    }\n",
       "\n",
       "    .dataframe tbody tr th {\n",
       "        vertical-align: top;\n",
       "    }\n",
       "\n",
       "    .dataframe thead th {\n",
       "        text-align: right;\n",
       "    }\n",
       "</style>\n",
       "<table border=\"1\" class=\"dataframe\">\n",
       "  <thead>\n",
       "    <tr style=\"text-align: right;\">\n",
       "      <th></th>\n",
       "      <th>Genero</th>\n",
       "      <th>E1</th>\n",
       "      <th>E4</th>\n",
       "      <th>E6</th>\n",
       "      <th>E8</th>\n",
       "      <th>E10</th>\n",
       "      <th>E11</th>\n",
       "      <th>TotalTextoSt</th>\n",
       "      <th>CantPalabras</th>\n",
       "      <th>NoHizo</th>\n",
       "      <th>NumPuntos</th>\n",
       "      <th>NumTildes</th>\n",
       "      <th>CantMayus</th>\n",
       "      <th>Vocabulario</th>\n",
       "      <th>CantOraciones</th>\n",
       "      <th>CantPromXOracion</th>\n",
       "      <th>Idioma</th>\n",
       "    </tr>\n",
       "  </thead>\n",
       "  <tbody>\n",
       "    <tr>\n",
       "      <td>0</td>\n",
       "      <td>M</td>\n",
       "      <td>One of the most valuable application of time s...</td>\n",
       "      <td>The main difference between panel data and tim...</td>\n",
       "      <td>Decision tree are a model used by the analytic...</td>\n",
       "      <td>They are used to make a better prediction than...</td>\n",
       "      <td>Es una forma de arquitectura de datos. Los mic...</td>\n",
       "      <td>NaN</td>\n",
       "      <td>One of the most valuable application of time ...</td>\n",
       "      <td>1282</td>\n",
       "      <td>1</td>\n",
       "      <td>62</td>\n",
       "      <td>25</td>\n",
       "      <td>38</td>\n",
       "      <td>609</td>\n",
       "      <td>63</td>\n",
       "      <td>20.396825</td>\n",
       "      <td>en</td>\n",
       "    </tr>\n",
       "    <tr>\n",
       "      <td>3</td>\n",
       "      <td>M</td>\n",
       "      <td>\\nGiven that Time Series Analysis allows to un...</td>\n",
       "      <td>The difference between panel data and time ser...</td>\n",
       "      <td>Decision Trees Algorithms are machine function...</td>\n",
       "      <td>Ensemble methods in Tree Decision algorithms b...</td>\n",
       "      <td>Micro-services are defined as a type of softwa...</td>\n",
       "      <td>NaN</td>\n",
       "      <td>\\nGiven that Time Series Analysis allows to u...</td>\n",
       "      <td>1428</td>\n",
       "      <td>1</td>\n",
       "      <td>56</td>\n",
       "      <td>0</td>\n",
       "      <td>41</td>\n",
       "      <td>564</td>\n",
       "      <td>57</td>\n",
       "      <td>25.052632</td>\n",
       "      <td>en</td>\n",
       "    </tr>\n",
       "    <tr>\n",
       "      <td>4</td>\n",
       "      <td>M</td>\n",
       "      <td>Time Series Analysis is concerned with the stu...</td>\n",
       "      <td>A time series is represented by a variable or ...</td>\n",
       "      <td>Decision trees are a popular supervised machin...</td>\n",
       "      <td>The ensemble method is a combination of severa...</td>\n",
       "      <td>A microservice is a type of information techno...</td>\n",
       "      <td>A commercial product which uses Natural Langua...</td>\n",
       "      <td>Time Series Analysis is concerned with the st...</td>\n",
       "      <td>2074</td>\n",
       "      <td>0</td>\n",
       "      <td>108</td>\n",
       "      <td>3</td>\n",
       "      <td>75</td>\n",
       "      <td>928</td>\n",
       "      <td>109</td>\n",
       "      <td>19.220183</td>\n",
       "      <td>en</td>\n",
       "    </tr>\n",
       "    <tr>\n",
       "      <td>5</td>\n",
       "      <td>M</td>\n",
       "      <td>A time series is a set of data that is taken i...</td>\n",
       "      <td>Aunque las variables de tiempo y los paneles d...</td>\n",
       "      <td>Son modelos supervisados, se pueden usar arbol...</td>\n",
       "      <td>NaN</td>\n",
       "      <td>Los microservicios son servicios web con alcan...</td>\n",
       "      <td>NaN</td>\n",
       "      <td>A time series is a set of data that is taken ...</td>\n",
       "      <td>1122</td>\n",
       "      <td>2</td>\n",
       "      <td>39</td>\n",
       "      <td>50</td>\n",
       "      <td>44</td>\n",
       "      <td>562</td>\n",
       "      <td>40</td>\n",
       "      <td>28.050000</td>\n",
       "      <td>en</td>\n",
       "    </tr>\n",
       "    <tr>\n",
       "      <td>18</td>\n",
       "      <td>M</td>\n",
       "      <td>The Times Series Analysis is the statistical m...</td>\n",
       "      <td>La principal diferencia entre las Series de Ti...</td>\n",
       "      <td>Los árboles de decisión Son un tipo de algorit...</td>\n",
       "      <td>En machine learning, el ensamble comprende la ...</td>\n",
       "      <td>La Arquitectura de Microservicios es un desarr...</td>\n",
       "      <td>NaN</td>\n",
       "      <td>The Times Series Analysis is the statistical ...</td>\n",
       "      <td>1356</td>\n",
       "      <td>1</td>\n",
       "      <td>39</td>\n",
       "      <td>107</td>\n",
       "      <td>31</td>\n",
       "      <td>578</td>\n",
       "      <td>40</td>\n",
       "      <td>33.925000</td>\n",
       "      <td>en</td>\n",
       "    </tr>\n",
       "  </tbody>\n",
       "</table>\n",
       "</div>"
      ],
      "text/plain": [
       "   Genero                                                 E1  \\\n",
       "0       M  One of the most valuable application of time s...   \n",
       "3       M  \\nGiven that Time Series Analysis allows to un...   \n",
       "4       M  Time Series Analysis is concerned with the stu...   \n",
       "5       M  A time series is a set of data that is taken i...   \n",
       "18      M  The Times Series Analysis is the statistical m...   \n",
       "\n",
       "                                                   E4  \\\n",
       "0   The main difference between panel data and tim...   \n",
       "3   The difference between panel data and time ser...   \n",
       "4   A time series is represented by a variable or ...   \n",
       "5   Aunque las variables de tiempo y los paneles d...   \n",
       "18  La principal diferencia entre las Series de Ti...   \n",
       "\n",
       "                                                   E6  \\\n",
       "0   Decision tree are a model used by the analytic...   \n",
       "3   Decision Trees Algorithms are machine function...   \n",
       "4   Decision trees are a popular supervised machin...   \n",
       "5   Son modelos supervisados, se pueden usar arbol...   \n",
       "18  Los árboles de decisión Son un tipo de algorit...   \n",
       "\n",
       "                                                   E8  \\\n",
       "0   They are used to make a better prediction than...   \n",
       "3   Ensemble methods in Tree Decision algorithms b...   \n",
       "4   The ensemble method is a combination of severa...   \n",
       "5                                                 NaN   \n",
       "18  En machine learning, el ensamble comprende la ...   \n",
       "\n",
       "                                                  E10  \\\n",
       "0   Es una forma de arquitectura de datos. Los mic...   \n",
       "3   Micro-services are defined as a type of softwa...   \n",
       "4   A microservice is a type of information techno...   \n",
       "5   Los microservicios son servicios web con alcan...   \n",
       "18  La Arquitectura de Microservicios es un desarr...   \n",
       "\n",
       "                                                  E11  \\\n",
       "0                                                 NaN   \n",
       "3                                                 NaN   \n",
       "4   A commercial product which uses Natural Langua...   \n",
       "5                                                 NaN   \n",
       "18                                                NaN   \n",
       "\n",
       "                                         TotalTextoSt  CantPalabras  NoHizo  \\\n",
       "0    One of the most valuable application of time ...          1282       1   \n",
       "3    \\nGiven that Time Series Analysis allows to u...          1428       1   \n",
       "4    Time Series Analysis is concerned with the st...          2074       0   \n",
       "5    A time series is a set of data that is taken ...          1122       2   \n",
       "18   The Times Series Analysis is the statistical ...          1356       1   \n",
       "\n",
       "    NumPuntos  NumTildes  CantMayus  Vocabulario  CantOraciones  \\\n",
       "0          62         25         38          609             63   \n",
       "3          56          0         41          564             57   \n",
       "4         108          3         75          928            109   \n",
       "5          39         50         44          562             40   \n",
       "18         39        107         31          578             40   \n",
       "\n",
       "    CantPromXOracion Idioma  \n",
       "0          20.396825     en  \n",
       "3          25.052632     en  \n",
       "4          19.220183     en  \n",
       "5          28.050000     en  \n",
       "18         33.925000     en  "
      ]
     },
     "execution_count": 263,
     "metadata": {},
     "output_type": "execute_result"
    }
   ],
   "source": [
    "is_ingles = data['Idioma']== 'en'\n",
    "ingles = data[is_ingles]\n",
    "ingles.shape\n",
    "ingles.head()"
   ]
  },
  {
   "cell_type": "code",
   "execution_count": 264,
   "metadata": {},
   "outputs": [],
   "source": [
    "hwe={}\n",
    "tareas = ['E1','E4','E6','E8','E10','E11']\n",
    "for t in tareas:\n",
    "    resultados=list()\n",
    "    for i in ingles.index:\n",
    "        #print(i)\n",
    "        listai=list()\n",
    "        for j in ingles.index:\n",
    "            if not(pd.isnull(ingles[t][i])) and not(pd.isnull(ingles[t][j])):\n",
    "                #print(cosine_distance_countVectorizer(data[t][i],data[t][j]))\n",
    "                listai.append(cosine_distance_countVectorizer(ingles[t][i],ingles[t][j]))\n",
    "            else:\n",
    "                listai.append(np.nan)\n",
    "        resultados.append(listai)        \n",
    "    hwe[t]=pd.DataFrame(resultados)"
   ]
  },
  {
   "cell_type": "code",
   "execution_count": 265,
   "metadata": {},
   "outputs": [],
   "source": [
    "tareas = ['E1','E4','E6','E8','E10','E11']\n",
    "for t in tareas:\n",
    "    hwe[t]=hwe[t].fillna(0)"
   ]
  },
  {
   "cell_type": "markdown",
   "metadata": {},
   "source": [
    "### Tareas en Español"
   ]
  },
  {
   "cell_type": "code",
   "execution_count": 215,
   "metadata": {},
   "outputs": [
    {
     "data": {
      "text/plain": [
       "(33, 17)"
      ]
     },
     "execution_count": 215,
     "metadata": {},
     "output_type": "execute_result"
    }
   ],
   "source": [
    "is_español = data['Idioma']== 'es'\n",
    "español = data[is_español]\n",
    "español.shape\n"
   ]
  },
  {
   "cell_type": "code",
   "execution_count": 216,
   "metadata": {},
   "outputs": [],
   "source": [
    "hws={}\n",
    "tareas = ['E1','E4','E6','E8','E10','E11']\n",
    "for t in tareas:\n",
    "    resultados=list()\n",
    "    for i in español.index:\n",
    "        #print(i)\n",
    "        listai=list()\n",
    "        for j in español.index:\n",
    "            if not(pd.isnull(español[t][i])) and not(pd.isnull(español[t][j])):\n",
    "                #print(cosine_distance_countVectorizer(data[t][i],data[t][j]))\n",
    "                listai.append(cosine_distance_countVectorizer(español[t][i],español[t][j]))\n",
    "            else:\n",
    "                listai.append(np.nan)\n",
    "        resultados.append(listai)        \n",
    "    hws[t]=pd.DataFrame(resultados)"
   ]
  },
  {
   "cell_type": "code",
   "execution_count": 233,
   "metadata": {},
   "outputs": [],
   "source": [
    "tareas = ['E1','E4','E6','E8','E10','E11']\n",
    "for t in tareas:\n",
    "    hws[t]=hws[t].fillna(0)"
   ]
  },
  {
   "cell_type": "markdown",
   "metadata": {},
   "source": [
    "##### * Se utiliza un threshold de 0.6 con la similitud de coseno para identificar los textos similares en nivel estudiante y tarea. Además, se filtra segun el idioma de la tarea. "
   ]
  },
  {
   "cell_type": "markdown",
   "metadata": {},
   "source": [
    "## Tareas en Español"
   ]
  },
  {
   "cell_type": "markdown",
   "metadata": {},
   "source": [
    "#### Tarea 1 -E1"
   ]
  },
  {
   "cell_type": "code",
   "execution_count": 234,
   "metadata": {},
   "outputs": [
    {
     "data": {
      "image/png": "[encoded data removed]",
      "text/plain": [
       "<Figure size 720x720 with 2 Axes>"
      ]
     },
     "metadata": {
      "needs_background": "light"
     },
     "output_type": "display_data"
    }
   ],
   "source": [
    "import numpy as np\n",
    "import matplotlib.pyplot as plt\n",
    "import seaborn as sns\n",
    "import pandas as pd\n",
    "\n",
    "t1=hws['E1']\n",
    "\n",
    "# plot heatmap\n",
    "plt.subplots(figsize=(10,10)) \n",
    "ax = sns.heatmap(t1, cmap=\"YlGnBu\")\n",
    "\n",
    "plt.show()"
   ]
  },
  {
   "cell_type": "markdown",
   "metadata": {},
   "source": [
    "* Al revisar las Tarea E1 en español no se observa similitudes de coseno mayores a 0.6 entre las tareas de los estudiantes."
   ]
  },
  {
   "cell_type": "markdown",
   "metadata": {},
   "source": [
    "#### Tarea 2 - E4"
   ]
  },
  {
   "cell_type": "code",
   "execution_count": 235,
   "metadata": {},
   "outputs": [
    {
     "data": {
      "image/png": "[encoded data removed]",
      "text/plain": [
       "<Figure size 720x720 with 2 Axes>"
      ]
     },
     "metadata": {
      "needs_background": "light"
     },
     "output_type": "display_data"
    }
   ],
   "source": [
    "t2=hws['E4']\n",
    "\n",
    "# plot heatmap\n",
    "plt.subplots(figsize=(10,10)) \n",
    "ax = sns.heatmap(t2, cmap=\"YlGnBu\")\n",
    "\n",
    "plt.show()"
   ]
  },
  {
   "cell_type": "markdown",
   "metadata": {},
   "source": [
    " * En las Tareas E4 en español se observan las siguientes similitudes. Sin embargo, ninguna es superior al 80%."
   ]
  },
  {
   "cell_type": "code",
   "execution_count": 240,
   "metadata": {},
   "outputs": [
    {
     "name": "stdout",
     "output_type": "stream",
     "text": [
      "2 - 9   0.6076307441258911\n",
      "2 - 12   0.6400432408484656\n",
      "2 - 16   0.6213756734072411\n",
      "2 - 28   0.6050472969607383\n",
      "2 - 32   0.6488524585589069\n",
      "9 - 2   0.6076307441258911\n",
      "9 - 32   0.614917194113778\n",
      "12 - 2   0.6400432408484656\n",
      "12 - 15   0.6223841021705421\n",
      "12 - 25   0.6248364932819371\n",
      "12 - 32   0.6194498241766524\n",
      "15 - 12   0.6223841021705421\n",
      "15 - 18   0.6171774138762735\n",
      "15 - 32   0.6094973719167981\n",
      "16 - 2   0.6213756734072411\n",
      "18 - 15   0.6171774138762735\n",
      "25 - 12   0.6248364932819371\n",
      "25 - 32   0.6511697955687472\n",
      "28 - 2   0.6050472969607383\n",
      "30 - 32   0.6169469863688799\n",
      "32 - 2   0.6488524585589069\n",
      "32 - 9   0.614917194113778\n",
      "32 - 12   0.6194498241766524\n",
      "32 - 15   0.6094973719167981\n",
      "32 - 25   0.6511697955687472\n",
      "32 - 30   0.6169469863688799\n"
     ]
    }
   ],
   "source": [
    "for c in hws['E4'].columns:\n",
    "    for i in hws['E4'].index:\n",
    "        if hws['E4'][c][i]>0.6 and hws['E4'][c][i]!=1:\n",
    "            print(c,'-',i, ' ',hws['E4'][c][i] ) "
   ]
  },
  {
   "cell_type": "markdown",
   "metadata": {},
   "source": [
    "#### Tarea 3 -E6"
   ]
  },
  {
   "cell_type": "code",
   "execution_count": 241,
   "metadata": {},
   "outputs": [
    {
     "data": {
      "image/png": "[encoded data removed]",
      "text/plain": [
       "<Figure size 720x720 with 2 Axes>"
      ]
     },
     "metadata": {
      "needs_background": "light"
     },
     "output_type": "display_data"
    }
   ],
   "source": [
    "t3=hws['E6']\n",
    "\n",
    "# plot heatmap\n",
    "plt.subplots(figsize=(10,10)) \n",
    "ax = sns.heatmap(t3, cmap=\"YlGnBu\")\n",
    "\n",
    "plt.show()"
   ]
  },
  {
   "cell_type": "markdown",
   "metadata": {},
   "source": [
    " * En las Tareas E6 en español se observan las siguientes similitudes. Sin embargo, ninguna es superior al 80%."
   ]
  },
  {
   "cell_type": "code",
   "execution_count": 242,
   "metadata": {},
   "outputs": [
    {
     "name": "stdout",
     "output_type": "stream",
     "text": [
      "14 - 16   0.6323213178188601\n",
      "16 - 14   0.6323213178188601\n",
      "26 - 30   0.6482593132545565\n",
      "30 - 26   0.6482593132545565\n"
     ]
    }
   ],
   "source": [
    "for c in hws['E6'].columns:\n",
    "    for i in hws['E6'].index:\n",
    "        if hws['E6'][c][i]>0.6 and hws['E6'][c][i]!=1:\n",
    "            print(c,'-',i, ' ',hws['E6'][c][i] ) "
   ]
  },
  {
   "cell_type": "markdown",
   "metadata": {},
   "source": [
    "#### Tarea 4 - E8"
   ]
  },
  {
   "cell_type": "code",
   "execution_count": 243,
   "metadata": {},
   "outputs": [
    {
     "data": {
      "image/png": "[encoded data removed]",
      "text/plain": [
       "<Figure size 720x720 with 2 Axes>"
      ]
     },
     "metadata": {
      "needs_background": "light"
     },
     "output_type": "display_data"
    }
   ],
   "source": [
    "t4=hws['E8']\n",
    "\n",
    "# plot heatmap\n",
    "plt.subplots(figsize=(10,10)) \n",
    "ax = sns.heatmap(t4, cmap=\"YlGnBu\")\n",
    "\n",
    "plt.show()"
   ]
  },
  {
   "cell_type": "markdown",
   "metadata": {},
   "source": [
    " * En las Tareas E8 en español se observan las siguientes similitudes. Sin embargo, ninguna es superior al 80%."
   ]
  },
  {
   "cell_type": "code",
   "execution_count": 244,
   "metadata": {},
   "outputs": [
    {
     "name": "stdout",
     "output_type": "stream",
     "text": [
      "0 - 20   0.6225390469361041\n",
      "20 - 0   0.6225390469361041\n",
      "20 - 27   0.6000514469454322\n",
      "27 - 20   0.6000514469454322\n"
     ]
    }
   ],
   "source": [
    "for c in hws['E8'].columns:\n",
    "    for i in hws['E8'].index:\n",
    "        if hws['E8'][c][i]>0.6 and hws['E8'][c][i]!=1:\n",
    "            print(c,'-',i, ' ',hws['E8'][c][i] ) "
   ]
  },
  {
   "cell_type": "markdown",
   "metadata": {},
   "source": [
    "#### Tarea 5 -E10"
   ]
  },
  {
   "cell_type": "code",
   "execution_count": 245,
   "metadata": {},
   "outputs": [
    {
     "data": {
      "image/png": "[encoded data removed]",
      "text/plain": [
       "<Figure size 720x720 with 2 Axes>"
      ]
     },
     "metadata": {
      "needs_background": "light"
     },
     "output_type": "display_data"
    }
   ],
   "source": [
    "t5=hws['E10']\n",
    "\n",
    "# plot heatmap\n",
    "plt.subplots(figsize=(10,10)) \n",
    "ax = sns.heatmap(t5, cmap=\"YlGnBu\")\n",
    "\n",
    "plt.show()"
   ]
  },
  {
   "cell_type": "markdown",
   "metadata": {},
   "source": [
    "En las Tareas E10 en español se observan similitudes más altas que en las anteriores tareas. Adicionalmente, los estudiantes 17 y 26 tienen una similitud deñ 75%."
   ]
  },
  {
   "cell_type": "code",
   "execution_count": 246,
   "metadata": {},
   "outputs": [
    {
     "name": "stdout",
     "output_type": "stream",
     "text": [
      "1 - 6   0.6885758607424322\n",
      "1 - 15   0.6168870908644987\n",
      "1 - 16   0.6320395112473122\n",
      "5 - 14   0.6141244470903489\n",
      "6 - 1   0.6885758607424322\n",
      "6 - 15   0.6344139585862748\n",
      "6 - 16   0.641972233467174\n",
      "11 - 27   0.647034011424772\n",
      "14 - 5   0.6141244470903489\n",
      "14 - 30   0.6281818842651089\n",
      "15 - 1   0.6168870908644987\n",
      "15 - 6   0.6344139585862748\n",
      "16 - 1   0.6320395112473122\n",
      "16 - 6   0.641972233467174\n",
      "17 - 26   0.7561754433764876\n",
      "26 - 17   0.7561754433764876\n",
      "27 - 11   0.647034011424772\n",
      "30 - 14   0.6281818842651089\n"
     ]
    }
   ],
   "source": [
    "for c in hws['E10'].columns:\n",
    "    for i in hws['E10'].index:\n",
    "        if hws['E10'][c][i]>0.6 and hws['E10'][c][i]!=1:\n",
    "            print(c,'-',i, ' ',hws['E10'][c][i] ) "
   ]
  },
  {
   "cell_type": "markdown",
   "metadata": {},
   "source": [
    "#### Tarea 6 - E11"
   ]
  },
  {
   "cell_type": "code",
   "execution_count": 252,
   "metadata": {},
   "outputs": [
    {
     "data": {
      "image/png": "[encoded data removed]",
      "text/plain": [
       "<Figure size 720x720 with 2 Axes>"
      ]
     },
     "metadata": {
      "needs_background": "light"
     },
     "output_type": "display_data"
    }
   ],
   "source": [
    "t6=hws['E11']\n",
    "\n",
    "# plot heatmap\n",
    "plt.subplots(figsize=(10,10)) \n",
    "ax = sns.heatmap(t6, cmap=\"YlGnBu\")\n",
    "\n",
    "plt.show()"
   ]
  },
  {
   "cell_type": "markdown",
   "metadata": {},
   "source": [
    "No se observan similitudes entre las tarea E11 en español. Esto se debe principalmente a que los estudiantes que tuvieran productos comerciales iguales serían penalizados. Sin embargo, se observa que muchos estudiantes no realizaron la entrega de esta tarea."
   ]
  },
  {
   "cell_type": "markdown",
   "metadata": {},
   "source": [
    "## Tareas en Ingles"
   ]
  },
  {
   "cell_type": "markdown",
   "metadata": {},
   "source": [
    "#### Tarea 1- E1"
   ]
  },
  {
   "cell_type": "code",
   "execution_count": 266,
   "metadata": {},
   "outputs": [
    {
     "data": {
      "image/png": "[encoded data removed]",
      "text/plain": [
       "<Figure size 720x720 with 2 Axes>"
      ]
     },
     "metadata": {
      "needs_background": "light"
     },
     "output_type": "display_data"
    }
   ],
   "source": [
    "t1=hwe['E1']\n",
    "\n",
    "# plot heatmap\n",
    "plt.subplots(figsize=(10,10)) \n",
    "ax = sns.heatmap(t1, cmap=\"YlGnBu\")\n",
    "\n",
    "plt.show()"
   ]
  },
  {
   "cell_type": "markdown",
   "metadata": {},
   "source": [
    "* Al revisar las Tarea E1 en ingles no se observa similitudes de coseno mayores a 0.6 entre las tareas de los estudiantes."
   ]
  },
  {
   "cell_type": "markdown",
   "metadata": {},
   "source": [
    "#### Tarea 2 -E4"
   ]
  },
  {
   "cell_type": "code",
   "execution_count": 267,
   "metadata": {},
   "outputs": [
    {
     "data": {
      "image/png": "[encoded data removed]",
      "text/plain": [
       "<Figure size 720x720 with 2 Axes>"
      ]
     },
     "metadata": {
      "needs_background": "light"
     },
     "output_type": "display_data"
    }
   ],
   "source": [
    "t2=hwe['E4']\n",
    "\n",
    "# plot heatmap\n",
    "plt.subplots(figsize=(10,10)) \n",
    "ax = sns.heatmap(t2, cmap=\"YlGnBu\")\n",
    "\n",
    "plt.show()"
   ]
  },
  {
   "cell_type": "code",
   "execution_count": 251,
   "metadata": {},
   "outputs": [
    {
     "name": "stdout",
     "output_type": "stream",
     "text": [
      "0 - 1   0.754494399656184\n",
      "0 - 6   0.6080483652629401\n",
      "0 - 9   0.669610928582254\n",
      "0 - 10   0.6789949301273115\n",
      "0 - 11   0.7032309015694211\n",
      "1 - 0   0.754494399656184\n",
      "1 - 6   0.6170465628673908\n",
      "1 - 9   0.6431258447858722\n",
      "1 - 10   0.6722434060005327\n",
      "1 - 11   0.7343829377041045\n",
      "2 - 9   0.6290141050350244\n",
      "6 - 0   0.6080483652629401\n",
      "6 - 1   0.6170465628673908\n",
      "6 - 9   0.6078306738548309\n",
      "6 - 10   0.664861501612577\n",
      "9 - 0   0.669610928582254\n",
      "9 - 1   0.6431258447858722\n",
      "9 - 2   0.6290141050350244\n",
      "9 - 6   0.6078306738548309\n",
      "9 - 10   0.6534506948641957\n",
      "9 - 11   0.6514273301295472\n",
      "10 - 0   0.6789949301273115\n",
      "10 - 1   0.6722434060005327\n",
      "10 - 6   0.664861501612577\n",
      "10 - 9   0.6534506948641957\n",
      "10 - 11   0.6171734713365158\n",
      "11 - 0   0.7032309015694211\n",
      "11 - 1   0.7343829377041045\n",
      "11 - 9   0.6514273301295472\n",
      "11 - 10   0.6171734713365158\n"
     ]
    }
   ],
   "source": [
    "for c in hwe['E4'].columns:\n",
    "    for i in hwe['E4'].index:\n",
    "        if hwe['E4'][c][i]>0.6 and hwe['E4'][c][i]!=1:\n",
    "            print(c,'-',i, ' ',hwe['E4'][c][i] ) "
   ]
  },
  {
   "cell_type": "markdown",
   "metadata": {},
   "source": [
    "* En las Tareas E6 en ingles se observan las siguientes similitudes. Sin embargo, ninguna es superior al 80%."
   ]
  },
  {
   "cell_type": "markdown",
   "metadata": {},
   "source": [
    "#### Tarea 3 -E6"
   ]
  },
  {
   "cell_type": "code",
   "execution_count": 268,
   "metadata": {},
   "outputs": [
    {
     "data": {
      "image/png": "[encoded data removed]",
      "text/plain": [
       "<Figure size 720x720 with 2 Axes>"
      ]
     },
     "metadata": {
      "needs_background": "light"
     },
     "output_type": "display_data"
    }
   ],
   "source": [
    "t3=hwe['E6']\n",
    "\n",
    "# plot heatmap\n",
    "plt.subplots(figsize=(10,10)) \n",
    "ax = sns.heatmap(t3, cmap=\"YlGnBu\")\n",
    "\n",
    "plt.show()"
   ]
  },
  {
   "cell_type": "code",
   "execution_count": 254,
   "metadata": {},
   "outputs": [
    {
     "name": "stdout",
     "output_type": "stream",
     "text": [
      "1 - 11   0.6152996187411456\n",
      "11 - 1   0.6152996187411456\n"
     ]
    }
   ],
   "source": [
    "for c in hwe['E6'].columns:\n",
    "    for i in hwe['E6'].index:\n",
    "        if hwe['E6'][c][i]>0.6 and hwe['E6'][c][i]!=1:\n",
    "            print(c,'-',i, ' ',hwe['E6'][c][i] ) "
   ]
  },
  {
   "cell_type": "markdown",
   "metadata": {},
   "source": [
    "* En las Tareas E6 en ingles solo se observa una similitud que supera el 60% entre el estudiante 1 y 11. Además, se observa que el estudiante 6 no hizo la entrega de la tarea."
   ]
  },
  {
   "cell_type": "markdown",
   "metadata": {},
   "source": [
    "#### Tarea 4 -E8"
   ]
  },
  {
   "cell_type": "code",
   "execution_count": 269,
   "metadata": {},
   "outputs": [
    {
     "data": {
      "image/png": "[encoded data removed]",
      "text/plain": [
       "<Figure size 720x720 with 2 Axes>"
      ]
     },
     "metadata": {
      "needs_background": "light"
     },
     "output_type": "display_data"
    }
   ],
   "source": [
    "t4=hwe['E8']\n",
    "\n",
    "# plot heatmap\n",
    "plt.subplots(figsize=(10,10)) \n",
    "ax = sns.heatmap(t4, cmap=\"YlGnBu\")\n",
    "\n",
    "plt.show()"
   ]
  },
  {
   "cell_type": "code",
   "execution_count": 256,
   "metadata": {},
   "outputs": [
    {
     "name": "stdout",
     "output_type": "stream",
     "text": [
      "0 - 11   0.6133679175188809\n",
      "11 - 0   0.6133679175188809\n"
     ]
    }
   ],
   "source": [
    "for c in hwe['E8'].columns:\n",
    "    for i in hwe['E8'].index:\n",
    "        if hwe['E8'][c][i]>0.6 and hwe['E8'][c][i]!=1:\n",
    "            print(c,'-',i, ' ',hwe['E8'][c][i] ) "
   ]
  },
  {
   "cell_type": "markdown",
   "metadata": {},
   "source": [
    "* En las Tareas E8 en ingles solo se observa una similitud que supera el 60% entre el estudiante 0 y 11. Además, se observa que LOS ESTUDIANTES 3 Y 9 de los que escribeN en ingles no realizaron entrega de la tarea."
   ]
  },
  {
   "cell_type": "markdown",
   "metadata": {},
   "source": [
    "#### Tarea 5 -E10"
   ]
  },
  {
   "cell_type": "code",
   "execution_count": 270,
   "metadata": {},
   "outputs": [
    {
     "data": {
      "image/png": "[encoded data removed]",
      "text/plain": [
       "<Figure size 720x720 with 2 Axes>"
      ]
     },
     "metadata": {
      "needs_background": "light"
     },
     "output_type": "display_data"
    }
   ],
   "source": [
    "t5=hwe['E10']\n",
    "\n",
    "# plot heatmap\n",
    "plt.subplots(figsize=(10,10)) \n",
    "ax = sns.heatmap(t5, cmap=\"YlGnBu\")\n",
    "\n",
    "plt.show()"
   ]
  },
  {
   "cell_type": "markdown",
   "metadata": {},
   "source": [
    "* Al revisar las Tarea E10 en ingles no se observa similitudes de coseno mayores a 0.6 entre las tareas de los estudiantes."
   ]
  },
  {
   "cell_type": "markdown",
   "metadata": {},
   "source": [
    "#### Tarea 6 -E11"
   ]
  },
  {
   "cell_type": "code",
   "execution_count": 271,
   "metadata": {},
   "outputs": [
    {
     "data": {
      "image/png": "[encoded data removed]",
      "text/plain": [
       "<Figure size 720x720 with 2 Axes>"
      ]
     },
     "metadata": {
      "needs_background": "light"
     },
     "output_type": "display_data"
    }
   ],
   "source": [
    "t6=hwe['E11']\n",
    "\n",
    "# plot heatmap\n",
    "plt.subplots(figsize=(10,10)) \n",
    "ax = sns.heatmap(t6, cmap=\"YlGnBu\")\n",
    "\n",
    "plt.show()"
   ]
  },
  {
   "cell_type": "markdown",
   "metadata": {},
   "source": [
    "No se observan similitudes entre las tarea E11 en español. Esto se debe principalmente a que los estudiantes que tuvieran productos comerciales iguales serían penalizados. Sin embargo, se observa que muchos estudiantes no realizaron la entrega de esta tarea."
   ]
  },
  {
   "cell_type": "markdown",
   "metadata": {},
   "source": [
    "#### Student level"
   ]
  },
  {
   "cell_type": "markdown",
   "metadata": {},
   "source": [
    "#### Tareas Español"
   ]
  },
  {
   "cell_type": "code",
   "execution_count": 274,
   "metadata": {},
   "outputs": [],
   "source": [
    "es={}\n",
    "tareas = ['TotalTextoSt']\n",
    "for t in tareas:\n",
    "    resultados=list()\n",
    "    for i in español.index:\n",
    "        #print(i)\n",
    "        listai=list()\n",
    "        for j in español.index:\n",
    "            if not(pd.isnull(español[t][i])) and not(pd.isnull(español[t][j])):\n",
    "                #print(cosine_distance_countVectorizer(data[t][i],data[t][j]))\n",
    "                listai.append(cosine_distance_countVectorizer(español[t][i],español[t][j]))\n",
    "            else:\n",
    "                listai.append(np.nan)\n",
    "        resultados.append(listai)        \n",
    "    es[t]=pd.DataFrame(resultados)\n"
   ]
  },
  {
   "cell_type": "code",
   "execution_count": 275,
   "metadata": {},
   "outputs": [
    {
     "data": {
      "image/png": "[encoded data removed]",
      "text/plain": [
       "<Figure size 720x720 with 2 Axes>"
      ]
     },
     "metadata": {
      "needs_background": "light"
     },
     "output_type": "display_data"
    }
   ],
   "source": [
    "Es = es['TotalTextoSt']\n",
    "\n",
    "# plot heatmap\n",
    "plt.subplots(figsize=(10,10)) \n",
    "ax = sns.heatmap(Es, cmap=\"BuPu\")\n",
    "\n",
    "plt.show()"
   ]
  },
  {
   "cell_type": "code",
   "execution_count": 276,
   "metadata": {},
   "outputs": [],
   "source": [
    "for c in es['TotalTextoSt'].columns:\n",
    "     for i in es['TotalTextoSt'].index:\n",
    "        #print(he10[c][i])\n",
    "        if es['TotalTextoSt'][c][i]>0.60 and es['TotalTextoSt'][c][i]!=1:\n",
    "            print(c,'-',i, ' ',es['TotalTextoSt'][c][i] )      "
   ]
  },
  {
   "cell_type": "markdown",
   "metadata": {},
   "source": [
    "No se observan similitudes de texto a nivel de estudiante que superen el threshold escogido."
   ]
  },
  {
   "cell_type": "markdown",
   "metadata": {},
   "source": [
    "#### Tareas en Ingles"
   ]
  },
  {
   "cell_type": "code",
   "execution_count": 277,
   "metadata": {},
   "outputs": [],
   "source": [
    "es={}\n",
    "tareas = ['TotalTextoSt']\n",
    "for t in tareas:\n",
    "    resultados=list()\n",
    "    for i in ingles.index:\n",
    "        #print(i)\n",
    "        listai=list()\n",
    "        for j in ingles.index:\n",
    "            if not(pd.isnull(ingles[t][i])) and not(pd.isnull(ingles[t][j])):\n",
    "                #print(cosine_distance_countVectorizer(data[t][i],data[t][j]))\n",
    "                listai.append(cosine_distance_countVectorizer(ingles[t][i],ingles[t][j]))\n",
    "            else:\n",
    "                listai.append(np.nan)\n",
    "        resultados.append(listai)        \n",
    "    es[t]=pd.DataFrame(resultados)\n"
   ]
  },
  {
   "cell_type": "code",
   "execution_count": 278,
   "metadata": {},
   "outputs": [
    {
     "data": {
      "image/png": "[encoded data removed]",
      "text/plain": [
       "<Figure size 720x720 with 2 Axes>"
      ]
     },
     "metadata": {
      "needs_background": "light"
     },
     "output_type": "display_data"
    }
   ],
   "source": [
    "Es = es['TotalTextoSt']\n",
    "\n",
    "# plot heatmap\n",
    "plt.subplots(figsize=(10,10)) \n",
    "ax = sns.heatmap(Es, cmap=\"BuPu\")\n",
    "\n",
    "plt.show()"
   ]
  },
  {
   "cell_type": "code",
   "execution_count": 279,
   "metadata": {},
   "outputs": [
    {
     "name": "stdout",
     "output_type": "stream",
     "text": [
      "1 - 11   0.6005375817365824\n",
      "11 - 1   0.6005375817365824\n"
     ]
    }
   ],
   "source": [
    "for c in es['TotalTextoSt'].columns:\n",
    "     for i in es['TotalTextoSt'].index:\n",
    "        #print(he10[c][i])\n",
    "        if es['TotalTextoSt'][c][i]>0.60 and es['TotalTextoSt'][c][i]!=1:\n",
    "            print(c,'-',i, ' ',es['TotalTextoSt'][c][i] )      "
   ]
  },
  {
   "cell_type": "markdown",
   "metadata": {},
   "source": [
    "Al revisar los estudiantes que escribieron en ingles, se observa que la similutd de coseno es superior al 60% entre los estudiantes 1 y 11. "
   ]
  },
  {
   "cell_type": "markdown",
   "metadata": {
    "colab_type": "text",
    "id": "TQRWnm_YcrLc"
   },
   "source": [
    "# Exercise 13.3\n",
    "\n",
    "Create a classifier to predict the gender of each student\n",
    "\n"
   ]
  },
  {
   "cell_type": "code",
   "execution_count": 125,
   "metadata": {},
   "outputs": [
    {
     "data": {
      "text/html": [
       "<div>\n",
       "<style scoped>\n",
       "    .dataframe tbody tr th:only-of-type {\n",
       "        vertical-align: middle;\n",
       "    }\n",
       "\n",
       "    .dataframe tbody tr th {\n",
       "        vertical-align: top;\n",
       "    }\n",
       "\n",
       "    .dataframe thead th {\n",
       "        text-align: right;\n",
       "    }\n",
       "</style>\n",
       "<table border=\"1\" class=\"dataframe\">\n",
       "  <thead>\n",
       "    <tr style=\"text-align: right;\">\n",
       "      <th></th>\n",
       "      <th>Genero</th>\n",
       "      <th>E1</th>\n",
       "      <th>E4</th>\n",
       "      <th>E6</th>\n",
       "      <th>E8</th>\n",
       "      <th>E10</th>\n",
       "      <th>E11</th>\n",
       "      <th>TotalTextoSt</th>\n",
       "      <th>CantPalabras</th>\n",
       "      <th>NoHizo</th>\n",
       "      <th>NumPuntos</th>\n",
       "      <th>NumTildes</th>\n",
       "      <th>CantMayus</th>\n",
       "      <th>Vocabulario</th>\n",
       "      <th>CantOraciones</th>\n",
       "      <th>CantPromXOracion</th>\n",
       "      <th>Idioma</th>\n",
       "    </tr>\n",
       "  </thead>\n",
       "  <tbody>\n",
       "    <tr>\n",
       "      <td>0</td>\n",
       "      <td>1</td>\n",
       "      <td>One of the most valuable application of time s...</td>\n",
       "      <td>The main difference between panel data and tim...</td>\n",
       "      <td>Decision tree are a model used by the analytic...</td>\n",
       "      <td>They are used to make a better prediction than...</td>\n",
       "      <td>Es una forma de arquitectura de datos. Los mic...</td>\n",
       "      <td>NaN</td>\n",
       "      <td>One of the most valuable application of time ...</td>\n",
       "      <td>1282</td>\n",
       "      <td>1</td>\n",
       "      <td>62</td>\n",
       "      <td>25</td>\n",
       "      <td>38</td>\n",
       "      <td>609</td>\n",
       "      <td>63</td>\n",
       "      <td>20.396825</td>\n",
       "      <td>en</td>\n",
       "    </tr>\n",
       "    <tr>\n",
       "      <td>1</td>\n",
       "      <td>0</td>\n",
       "      <td>ANÁLISIS DE SERIES DE TIEMPO – USOS \\nEl análi...</td>\n",
       "      <td>Series de Tiempo vs Datos en Panel\\nUna serie ...</td>\n",
       "      <td>TIPOS DE ÁRBOLES DE DECISIÓN Y APLICACIONES\\nL...</td>\n",
       "      <td>ENSAMBLAJE EN MACHINE LEARNING\\nLos métodos de...</td>\n",
       "      <td>Microservicios\\nEl objetivo principal de la im...</td>\n",
       "      <td>NaN</td>\n",
       "      <td>ANÁLISIS DE SERIES DE TIEMPO – USOS \\nEl anál...</td>\n",
       "      <td>1696</td>\n",
       "      <td>1</td>\n",
       "      <td>76</td>\n",
       "      <td>181</td>\n",
       "      <td>108</td>\n",
       "      <td>745</td>\n",
       "      <td>77</td>\n",
       "      <td>22.389610</td>\n",
       "      <td>es</td>\n",
       "    </tr>\n",
       "    <tr>\n",
       "      <td>2</td>\n",
       "      <td>1</td>\n",
       "      <td>Una serie de tiempo es una colección de datos ...</td>\n",
       "      <td>NaN</td>\n",
       "      <td>los arboles de decisión hacen parte de los alg...</td>\n",
       "      <td>Ensemble methods is a machine learning techniq...</td>\n",
       "      <td>El enfoque tradicional para el diseño de aplic...</td>\n",
       "      <td>LexisNexis launched Lexis Analytics, a legal r...</td>\n",
       "      <td>Una serie de tiempo es una colección de datos...</td>\n",
       "      <td>1408</td>\n",
       "      <td>1</td>\n",
       "      <td>54</td>\n",
       "      <td>81</td>\n",
       "      <td>59</td>\n",
       "      <td>667</td>\n",
       "      <td>55</td>\n",
       "      <td>25.690909</td>\n",
       "      <td>es</td>\n",
       "    </tr>\n",
       "    <tr>\n",
       "      <td>3</td>\n",
       "      <td>1</td>\n",
       "      <td>\\nGiven that Time Series Analysis allows to un...</td>\n",
       "      <td>The difference between panel data and time ser...</td>\n",
       "      <td>Decision Trees Algorithms are machine function...</td>\n",
       "      <td>Ensemble methods in Tree Decision algorithms b...</td>\n",
       "      <td>Micro-services are defined as a type of softwa...</td>\n",
       "      <td>NaN</td>\n",
       "      <td>\\nGiven that Time Series Analysis allows to u...</td>\n",
       "      <td>1428</td>\n",
       "      <td>1</td>\n",
       "      <td>56</td>\n",
       "      <td>0</td>\n",
       "      <td>41</td>\n",
       "      <td>564</td>\n",
       "      <td>57</td>\n",
       "      <td>25.052632</td>\n",
       "      <td>en</td>\n",
       "    </tr>\n",
       "    <tr>\n",
       "      <td>4</td>\n",
       "      <td>1</td>\n",
       "      <td>Time Series Analysis is concerned with the stu...</td>\n",
       "      <td>A time series is represented by a variable or ...</td>\n",
       "      <td>Decision trees are a popular supervised machin...</td>\n",
       "      <td>The ensemble method is a combination of severa...</td>\n",
       "      <td>A microservice is a type of information techno...</td>\n",
       "      <td>A commercial product which uses Natural Langua...</td>\n",
       "      <td>Time Series Analysis is concerned with the st...</td>\n",
       "      <td>2074</td>\n",
       "      <td>0</td>\n",
       "      <td>108</td>\n",
       "      <td>3</td>\n",
       "      <td>75</td>\n",
       "      <td>928</td>\n",
       "      <td>109</td>\n",
       "      <td>19.220183</td>\n",
       "      <td>en</td>\n",
       "    </tr>\n",
       "  </tbody>\n",
       "</table>\n",
       "</div>"
      ],
      "text/plain": [
       "   Genero                                                 E1  \\\n",
       "0       1  One of the most valuable application of time s...   \n",
       "1       0  ANÁLISIS DE SERIES DE TIEMPO – USOS \\nEl análi...   \n",
       "2       1  Una serie de tiempo es una colección de datos ...   \n",
       "3       1  \\nGiven that Time Series Analysis allows to un...   \n",
       "4       1  Time Series Analysis is concerned with the stu...   \n",
       "\n",
       "                                                  E4  \\\n",
       "0  The main difference between panel data and tim...   \n",
       "1  Series de Tiempo vs Datos en Panel\\nUna serie ...   \n",
       "2                                                NaN   \n",
       "3  The difference between panel data and time ser...   \n",
       "4  A time series is represented by a variable or ...   \n",
       "\n",
       "                                                  E6  \\\n",
       "0  Decision tree are a model used by the analytic...   \n",
       "1  TIPOS DE ÁRBOLES DE DECISIÓN Y APLICACIONES\\nL...   \n",
       "2  los arboles de decisión hacen parte de los alg...   \n",
       "3  Decision Trees Algorithms are machine function...   \n",
       "4  Decision trees are a popular supervised machin...   \n",
       "\n",
       "                                                  E8  \\\n",
       "0  They are used to make a better prediction than...   \n",
       "1  ENSAMBLAJE EN MACHINE LEARNING\\nLos métodos de...   \n",
       "2  Ensemble methods is a machine learning techniq...   \n",
       "3  Ensemble methods in Tree Decision algorithms b...   \n",
       "4  The ensemble method is a combination of severa...   \n",
       "\n",
       "                                                 E10  \\\n",
       "0  Es una forma de arquitectura de datos. Los mic...   \n",
       "1  Microservicios\\nEl objetivo principal de la im...   \n",
       "2  El enfoque tradicional para el diseño de aplic...   \n",
       "3  Micro-services are defined as a type of softwa...   \n",
       "4  A microservice is a type of information techno...   \n",
       "\n",
       "                                                 E11  \\\n",
       "0                                                NaN   \n",
       "1                                                NaN   \n",
       "2  LexisNexis launched Lexis Analytics, a legal r...   \n",
       "3                                                NaN   \n",
       "4  A commercial product which uses Natural Langua...   \n",
       "\n",
       "                                        TotalTextoSt  CantPalabras  NoHizo  \\\n",
       "0   One of the most valuable application of time ...          1282       1   \n",
       "1   ANÁLISIS DE SERIES DE TIEMPO – USOS \\nEl anál...          1696       1   \n",
       "2   Una serie de tiempo es una colección de datos...          1408       1   \n",
       "3   \\nGiven that Time Series Analysis allows to u...          1428       1   \n",
       "4   Time Series Analysis is concerned with the st...          2074       0   \n",
       "\n",
       "   NumPuntos  NumTildes  CantMayus  Vocabulario  CantOraciones  \\\n",
       "0         62         25         38          609             63   \n",
       "1         76        181        108          745             77   \n",
       "2         54         81         59          667             55   \n",
       "3         56          0         41          564             57   \n",
       "4        108          3         75          928            109   \n",
       "\n",
       "   CantPromXOracion Idioma  \n",
       "0         20.396825     en  \n",
       "1         22.389610     es  \n",
       "2         25.690909     es  \n",
       "3         25.052632     en  \n",
       "4         19.220183     en  "
      ]
     },
     "execution_count": 125,
     "metadata": {},
     "output_type": "execute_result"
    }
   ],
   "source": [
    "data['Genero'].replace(['F','M'],[0,1],inplace=True)\n",
    "data.head()"
   ]
  },
  {
   "cell_type": "code",
   "execution_count": 127,
   "metadata": {},
   "outputs": [
    {
     "data": {
      "text/plain": [
       "(46, 17)"
      ]
     },
     "execution_count": 127,
     "metadata": {},
     "output_type": "execute_result"
    }
   ],
   "source": [
    "data.shape"
   ]
  },
  {
   "cell_type": "code",
   "execution_count": 162,
   "metadata": {},
   "outputs": [],
   "source": [
    "from sklearn.model_selection import train_test_split, cross_val_score\n",
    "from sklearn.feature_extraction.text import CountVectorizer, TfidfVectorizer\n",
    "from sklearn.ensemble import RandomForestClassifier\n",
    "from nltk.stem.snowball import SnowballStemmer\n",
    "from nltk.stem import WordNetLemmatizer"
   ]
  },
  {
   "cell_type": "code",
   "execution_count": 169,
   "metadata": {},
   "outputs": [],
   "source": [
    "#Lista de stopwords en español obtenida en \n",
    "stop_esp=pd.read_table('stopwords-es.txt').iloc[:,0].tolist()\n",
    "stop_words = text.ENGLISH_STOP_WORDS.union(stop_esp)"
   ]
  },
  {
   "cell_type": "code",
   "execution_count": 166,
   "metadata": {},
   "outputs": [],
   "source": [
    "X = data['TotalTextoSt']\n",
    "y= data['Genero']"
   ]
  },
  {
   "cell_type": "markdown",
   "metadata": {},
   "source": [
    "#### Random Forest"
   ]
  },
  {
   "cell_type": "code",
   "execution_count": 28,
   "metadata": {},
   "outputs": [
    {
     "data": {
      "text/plain": [
       "count    10.000000\n",
       "mean      0.675000\n",
       "std       0.141912\n",
       "min       0.400000\n",
       "25%       0.600000\n",
       "50%       0.750000\n",
       "75%       0.787500\n",
       "max       0.800000\n",
       "dtype: float64"
      ]
     },
     "execution_count": 28,
     "metadata": {},
     "output_type": "execute_result"
    }
   ],
   "source": [
    "data['CodLang']=data['Idioma'].replace(['en','es'],[1,0])\n",
    "data['Genero'].replace(['F','M'],[0,1],inplace=True)\n",
    "y= data['Genero']\n",
    "X_var=data[['CantPalabras','NoHizo','NumPuntos','NumTildes','CantMayus','Vocabulario','CantOraciones','CantPromXOracion','CodLang']]\n",
    "X_var.head()\n",
    "rf = RandomForestClassifier()\n",
    "rf_acc=pd.Series(cross_val_score(rf, X_var, y, cv=10)).describe()\n",
    "rf_acc"
   ]
  },
  {
   "cell_type": "code",
   "execution_count": 176,
   "metadata": {},
   "outputs": [
    {
     "name": "stderr",
     "output_type": "stream",
     "text": [
      "C:\\ProgramData\\Anaconda3\\lib\\site-packages\\sklearn\\ensemble\\forest.py:245: FutureWarning: The default value of n_estimators will change from 10 in version 0.20 to 100 in 0.22.\n",
      "  \"10 in version 0.20 to 100 in 0.22.\", FutureWarning)\n",
      "C:\\ProgramData\\Anaconda3\\lib\\site-packages\\sklearn\\ensemble\\forest.py:245: FutureWarning: The default value of n_estimators will change from 10 in version 0.20 to 100 in 0.22.\n",
      "  \"10 in version 0.20 to 100 in 0.22.\", FutureWarning)\n",
      "C:\\ProgramData\\Anaconda3\\lib\\site-packages\\sklearn\\ensemble\\forest.py:245: FutureWarning: The default value of n_estimators will change from 10 in version 0.20 to 100 in 0.22.\n",
      "  \"10 in version 0.20 to 100 in 0.22.\", FutureWarning)\n",
      "C:\\ProgramData\\Anaconda3\\lib\\site-packages\\sklearn\\ensemble\\forest.py:245: FutureWarning: The default value of n_estimators will change from 10 in version 0.20 to 100 in 0.22.\n",
      "  \"10 in version 0.20 to 100 in 0.22.\", FutureWarning)\n",
      "C:\\ProgramData\\Anaconda3\\lib\\site-packages\\sklearn\\ensemble\\forest.py:245: FutureWarning: The default value of n_estimators will change from 10 in version 0.20 to 100 in 0.22.\n",
      "  \"10 in version 0.20 to 100 in 0.22.\", FutureWarning)\n",
      "C:\\ProgramData\\Anaconda3\\lib\\site-packages\\sklearn\\ensemble\\forest.py:245: FutureWarning: The default value of n_estimators will change from 10 in version 0.20 to 100 in 0.22.\n",
      "  \"10 in version 0.20 to 100 in 0.22.\", FutureWarning)\n",
      "C:\\ProgramData\\Anaconda3\\lib\\site-packages\\sklearn\\ensemble\\forest.py:245: FutureWarning: The default value of n_estimators will change from 10 in version 0.20 to 100 in 0.22.\n",
      "  \"10 in version 0.20 to 100 in 0.22.\", FutureWarning)\n",
      "C:\\ProgramData\\Anaconda3\\lib\\site-packages\\sklearn\\ensemble\\forest.py:245: FutureWarning: The default value of n_estimators will change from 10 in version 0.20 to 100 in 0.22.\n",
      "  \"10 in version 0.20 to 100 in 0.22.\", FutureWarning)\n",
      "C:\\ProgramData\\Anaconda3\\lib\\site-packages\\sklearn\\ensemble\\forest.py:245: FutureWarning: The default value of n_estimators will change from 10 in version 0.20 to 100 in 0.22.\n",
      "  \"10 in version 0.20 to 100 in 0.22.\", FutureWarning)\n",
      "C:\\ProgramData\\Anaconda3\\lib\\site-packages\\sklearn\\ensemble\\forest.py:245: FutureWarning: The default value of n_estimators will change from 10 in version 0.20 to 100 in 0.22.\n",
      "  \"10 in version 0.20 to 100 in 0.22.\", FutureWarning)\n"
     ]
    }
   ],
   "source": [
    "#Random Forest Count Vectorizer\n",
    "vect = CountVectorizer(stop_words=stop_words)\n",
    "X_dtm = vect.fit_transform(X)\n",
    "\n",
    "rf = RandomForestClassifier()\n",
    "rf_acc=pd.Series(cross_val_score(rf, X_dtm, y, cv=10)).describe()"
   ]
  },
  {
   "cell_type": "code",
   "execution_count": 171,
   "metadata": {},
   "outputs": [
    {
     "data": {
      "text/plain": [
       "count    10.000000\n",
       "mean      0.785000\n",
       "std       0.165076\n",
       "min       0.400000\n",
       "25%       0.750000\n",
       "50%       0.800000\n",
       "75%       0.800000\n",
       "max       1.000000\n",
       "dtype: float64"
      ]
     },
     "execution_count": 171,
     "metadata": {},
     "output_type": "execute_result"
    }
   ],
   "source": [
    "rf_acc"
   ]
  },
  {
   "cell_type": "code",
   "execution_count": 172,
   "metadata": {},
   "outputs": [
    {
     "name": "stderr",
     "output_type": "stream",
     "text": [
      "C:\\ProgramData\\Anaconda3\\lib\\site-packages\\sklearn\\ensemble\\forest.py:245: FutureWarning: The default value of n_estimators will change from 10 in version 0.20 to 100 in 0.22.\n",
      "  \"10 in version 0.20 to 100 in 0.22.\", FutureWarning)\n",
      "C:\\ProgramData\\Anaconda3\\lib\\site-packages\\sklearn\\ensemble\\forest.py:245: FutureWarning: The default value of n_estimators will change from 10 in version 0.20 to 100 in 0.22.\n",
      "  \"10 in version 0.20 to 100 in 0.22.\", FutureWarning)\n",
      "C:\\ProgramData\\Anaconda3\\lib\\site-packages\\sklearn\\ensemble\\forest.py:245: FutureWarning: The default value of n_estimators will change from 10 in version 0.20 to 100 in 0.22.\n",
      "  \"10 in version 0.20 to 100 in 0.22.\", FutureWarning)\n",
      "C:\\ProgramData\\Anaconda3\\lib\\site-packages\\sklearn\\ensemble\\forest.py:245: FutureWarning: The default value of n_estimators will change from 10 in version 0.20 to 100 in 0.22.\n",
      "  \"10 in version 0.20 to 100 in 0.22.\", FutureWarning)\n",
      "C:\\ProgramData\\Anaconda3\\lib\\site-packages\\sklearn\\ensemble\\forest.py:245: FutureWarning: The default value of n_estimators will change from 10 in version 0.20 to 100 in 0.22.\n",
      "  \"10 in version 0.20 to 100 in 0.22.\", FutureWarning)\n",
      "C:\\ProgramData\\Anaconda3\\lib\\site-packages\\sklearn\\ensemble\\forest.py:245: FutureWarning: The default value of n_estimators will change from 10 in version 0.20 to 100 in 0.22.\n",
      "  \"10 in version 0.20 to 100 in 0.22.\", FutureWarning)\n",
      "C:\\ProgramData\\Anaconda3\\lib\\site-packages\\sklearn\\ensemble\\forest.py:245: FutureWarning: The default value of n_estimators will change from 10 in version 0.20 to 100 in 0.22.\n",
      "  \"10 in version 0.20 to 100 in 0.22.\", FutureWarning)\n",
      "C:\\ProgramData\\Anaconda3\\lib\\site-packages\\sklearn\\ensemble\\forest.py:245: FutureWarning: The default value of n_estimators will change from 10 in version 0.20 to 100 in 0.22.\n",
      "  \"10 in version 0.20 to 100 in 0.22.\", FutureWarning)\n",
      "C:\\ProgramData\\Anaconda3\\lib\\site-packages\\sklearn\\ensemble\\forest.py:245: FutureWarning: The default value of n_estimators will change from 10 in version 0.20 to 100 in 0.22.\n",
      "  \"10 in version 0.20 to 100 in 0.22.\", FutureWarning)\n",
      "C:\\ProgramData\\Anaconda3\\lib\\site-packages\\sklearn\\ensemble\\forest.py:245: FutureWarning: The default value of n_estimators will change from 10 in version 0.20 to 100 in 0.22.\n",
      "  \"10 in version 0.20 to 100 in 0.22.\", FutureWarning)\n"
     ]
    },
    {
     "data": {
      "text/plain": [
       "count    10.00000\n",
       "mean      0.78000\n",
       "std       0.02582\n",
       "min       0.75000\n",
       "25%       0.75000\n",
       "50%       0.80000\n",
       "75%       0.80000\n",
       "max       0.80000\n",
       "dtype: float64"
      ]
     },
     "execution_count": 172,
     "metadata": {},
     "output_type": "execute_result"
    }
   ],
   "source": [
    "# N-gramas\n",
    "vect = CountVectorizer(ngram_range=(1, 4))\n",
    "X_dtm = vect.fit_transform(X)\n",
    "\n",
    "rf = RandomForestClassifier()\n",
    "pd.Series(cross_val_score(rf, X_dtm, y, cv=10)).describe()"
   ]
  },
  {
   "cell_type": "code",
   "execution_count": 177,
   "metadata": {},
   "outputs": [
    {
     "name": "stderr",
     "output_type": "stream",
     "text": [
      "C:\\ProgramData\\Anaconda3\\lib\\site-packages\\sklearn\\ensemble\\forest.py:245: FutureWarning: The default value of n_estimators will change from 10 in version 0.20 to 100 in 0.22.\n",
      "  \"10 in version 0.20 to 100 in 0.22.\", FutureWarning)\n",
      "C:\\ProgramData\\Anaconda3\\lib\\site-packages\\sklearn\\ensemble\\forest.py:245: FutureWarning: The default value of n_estimators will change from 10 in version 0.20 to 100 in 0.22.\n",
      "  \"10 in version 0.20 to 100 in 0.22.\", FutureWarning)\n",
      "C:\\ProgramData\\Anaconda3\\lib\\site-packages\\sklearn\\ensemble\\forest.py:245: FutureWarning: The default value of n_estimators will change from 10 in version 0.20 to 100 in 0.22.\n",
      "  \"10 in version 0.20 to 100 in 0.22.\", FutureWarning)\n",
      "C:\\ProgramData\\Anaconda3\\lib\\site-packages\\sklearn\\ensemble\\forest.py:245: FutureWarning: The default value of n_estimators will change from 10 in version 0.20 to 100 in 0.22.\n",
      "  \"10 in version 0.20 to 100 in 0.22.\", FutureWarning)\n",
      "C:\\ProgramData\\Anaconda3\\lib\\site-packages\\sklearn\\ensemble\\forest.py:245: FutureWarning: The default value of n_estimators will change from 10 in version 0.20 to 100 in 0.22.\n",
      "  \"10 in version 0.20 to 100 in 0.22.\", FutureWarning)\n",
      "C:\\ProgramData\\Anaconda3\\lib\\site-packages\\sklearn\\ensemble\\forest.py:245: FutureWarning: The default value of n_estimators will change from 10 in version 0.20 to 100 in 0.22.\n",
      "  \"10 in version 0.20 to 100 in 0.22.\", FutureWarning)\n",
      "C:\\ProgramData\\Anaconda3\\lib\\site-packages\\sklearn\\ensemble\\forest.py:245: FutureWarning: The default value of n_estimators will change from 10 in version 0.20 to 100 in 0.22.\n",
      "  \"10 in version 0.20 to 100 in 0.22.\", FutureWarning)\n",
      "C:\\ProgramData\\Anaconda3\\lib\\site-packages\\sklearn\\ensemble\\forest.py:245: FutureWarning: The default value of n_estimators will change from 10 in version 0.20 to 100 in 0.22.\n",
      "  \"10 in version 0.20 to 100 in 0.22.\", FutureWarning)\n",
      "C:\\ProgramData\\Anaconda3\\lib\\site-packages\\sklearn\\ensemble\\forest.py:245: FutureWarning: The default value of n_estimators will change from 10 in version 0.20 to 100 in 0.22.\n",
      "  \"10 in version 0.20 to 100 in 0.22.\", FutureWarning)\n",
      "C:\\ProgramData\\Anaconda3\\lib\\site-packages\\sklearn\\ensemble\\forest.py:245: FutureWarning: The default value of n_estimators will change from 10 in version 0.20 to 100 in 0.22.\n",
      "  \"10 in version 0.20 to 100 in 0.22.\", FutureWarning)\n"
     ]
    },
    {
     "data": {
      "text/plain": [
       "count    10.000000\n",
       "mean      0.785000\n",
       "std       0.097325\n",
       "min       0.600000\n",
       "25%       0.750000\n",
       "50%       0.800000\n",
       "75%       0.800000\n",
       "max       1.000000\n",
       "dtype: float64"
      ]
     },
     "execution_count": 177,
     "metadata": {},
     "output_type": "execute_result"
    }
   ],
   "source": [
    "vect = TfidfVectorizer(stop_words=stop_words)\n",
    "X_dtm = vect.fit_transform(X)\n",
    "rf = RandomForestClassifier()\n",
    "pd.Series(cross_val_score(rf, X_dtm, y, cv=10)).describe()"
   ]
  },
  {
   "cell_type": "code",
   "execution_count": 178,
   "metadata": {},
   "outputs": [
    {
     "name": "stderr",
     "output_type": "stream",
     "text": [
      "C:\\ProgramData\\Anaconda3\\lib\\site-packages\\sklearn\\ensemble\\forest.py:245: FutureWarning: The default value of n_estimators will change from 10 in version 0.20 to 100 in 0.22.\n",
      "  \"10 in version 0.20 to 100 in 0.22.\", FutureWarning)\n",
      "C:\\ProgramData\\Anaconda3\\lib\\site-packages\\sklearn\\ensemble\\forest.py:245: FutureWarning: The default value of n_estimators will change from 10 in version 0.20 to 100 in 0.22.\n",
      "  \"10 in version 0.20 to 100 in 0.22.\", FutureWarning)\n",
      "C:\\ProgramData\\Anaconda3\\lib\\site-packages\\sklearn\\ensemble\\forest.py:245: FutureWarning: The default value of n_estimators will change from 10 in version 0.20 to 100 in 0.22.\n",
      "  \"10 in version 0.20 to 100 in 0.22.\", FutureWarning)\n",
      "C:\\ProgramData\\Anaconda3\\lib\\site-packages\\sklearn\\ensemble\\forest.py:245: FutureWarning: The default value of n_estimators will change from 10 in version 0.20 to 100 in 0.22.\n",
      "  \"10 in version 0.20 to 100 in 0.22.\", FutureWarning)\n",
      "C:\\ProgramData\\Anaconda3\\lib\\site-packages\\sklearn\\ensemble\\forest.py:245: FutureWarning: The default value of n_estimators will change from 10 in version 0.20 to 100 in 0.22.\n",
      "  \"10 in version 0.20 to 100 in 0.22.\", FutureWarning)\n",
      "C:\\ProgramData\\Anaconda3\\lib\\site-packages\\sklearn\\ensemble\\forest.py:245: FutureWarning: The default value of n_estimators will change from 10 in version 0.20 to 100 in 0.22.\n",
      "  \"10 in version 0.20 to 100 in 0.22.\", FutureWarning)\n",
      "C:\\ProgramData\\Anaconda3\\lib\\site-packages\\sklearn\\ensemble\\forest.py:245: FutureWarning: The default value of n_estimators will change from 10 in version 0.20 to 100 in 0.22.\n",
      "  \"10 in version 0.20 to 100 in 0.22.\", FutureWarning)\n",
      "C:\\ProgramData\\Anaconda3\\lib\\site-packages\\sklearn\\ensemble\\forest.py:245: FutureWarning: The default value of n_estimators will change from 10 in version 0.20 to 100 in 0.22.\n",
      "  \"10 in version 0.20 to 100 in 0.22.\", FutureWarning)\n",
      "C:\\ProgramData\\Anaconda3\\lib\\site-packages\\sklearn\\ensemble\\forest.py:245: FutureWarning: The default value of n_estimators will change from 10 in version 0.20 to 100 in 0.22.\n",
      "  \"10 in version 0.20 to 100 in 0.22.\", FutureWarning)\n",
      "C:\\ProgramData\\Anaconda3\\lib\\site-packages\\sklearn\\ensemble\\forest.py:245: FutureWarning: The default value of n_estimators will change from 10 in version 0.20 to 100 in 0.22.\n",
      "  \"10 in version 0.20 to 100 in 0.22.\", FutureWarning)\n"
     ]
    },
    {
     "data": {
      "text/plain": [
       "count    10.00000\n",
       "mean      0.78000\n",
       "std       0.02582\n",
       "min       0.75000\n",
       "25%       0.75000\n",
       "50%       0.80000\n",
       "75%       0.80000\n",
       "max       0.80000\n",
       "dtype: float64"
      ]
     },
     "execution_count": 178,
     "metadata": {},
     "output_type": "execute_result"
    }
   ],
   "source": [
    "# Default CountVectorizer\n",
    "vect = CountVectorizer(stop_words=stop_words,ngram_range=(1, 4))\n",
    "X_dtm = vect.fit_transform(X)\n",
    "\n",
    "rf = RandomForestClassifier()\n",
    "pd.Series(cross_val_score(rf, X_dtm, y, cv=10)).describe()"
   ]
  },
  {
   "cell_type": "markdown",
   "metadata": {},
   "source": [
    "<table>\n",
    "    <th>Random Forest</th><th>Mean Acc</th>\n",
    "    <tr><td>Indicadores Calculados</td><td>69.5%</td></tr>\n",
    "    <tr><td>CountVectorizer stopwords</td><td>78.5%</td></tr>\n",
    "    <tr><td>CountVectorizer ngramas(1-4)</td><td>78%</td></tr>\n",
    "    <tr><td>TFID stopwords</td><td>78.5%</td></tr>\n",
    "    <tr><td>TFID con stopwords y ngramas(1-4)</td><td>78%</td></tr>\n",
    "</table>\n"
   ]
  },
  {
   "cell_type": "markdown",
   "metadata": {},
   "source": [
    "#### XGBoost"
   ]
  },
  {
   "cell_type": "code",
   "execution_count": 30,
   "metadata": {},
   "outputs": [
    {
     "data": {
      "text/plain": [
       "count    10.000000\n",
       "mean      0.690000\n",
       "std       0.126491\n",
       "min       0.500000\n",
       "25%       0.600000\n",
       "50%       0.750000\n",
       "75%       0.800000\n",
       "max       0.800000\n",
       "dtype: float64"
      ]
     },
     "execution_count": 30,
     "metadata": {},
     "output_type": "execute_result"
    }
   ],
   "source": [
    "from xgboost import XGBClassifier\n",
    "X_var=data[['CantPalabras','NoHizo','NumPuntos','NumTildes','CantMayus','Vocabulario','CantOraciones','CantPromXOracion','CodLang']]\n",
    "#X_var.head()\n",
    "rf = XGBClassifier()\n",
    "rf_acc=pd.Series(cross_val_score(rf, X_var, y, cv=10)).describe()\n",
    "rf_acc"
   ]
  },
  {
   "cell_type": "code",
   "execution_count": 180,
   "metadata": {},
   "outputs": [
    {
     "data": {
      "text/plain": [
       "count    10.000000\n",
       "mean      0.670000\n",
       "std       0.154919\n",
       "min       0.400000\n",
       "25%       0.525000\n",
       "50%       0.750000\n",
       "75%       0.800000\n",
       "max       0.800000\n",
       "dtype: float64"
      ]
     },
     "execution_count": 180,
     "metadata": {},
     "output_type": "execute_result"
    }
   ],
   "source": [
    "from xgboost import XGBClassifier\n",
    "#XGBoost\n",
    "vect = CountVectorizer(stop_words=stop_words)\n",
    "X_dtm = vect.fit_transform(X)\n",
    "\n",
    "xg = XGBClassifier()\n",
    "xg_acc=pd.Series(cross_val_score(rf, X_dtm, y, cv=10)).describe()\n",
    "xg_acc"
   ]
  },
  {
   "cell_type": "code",
   "execution_count": 181,
   "metadata": {},
   "outputs": [
    {
     "data": {
      "text/plain": [
       "count    10.000000\n",
       "mean      0.650000\n",
       "std       0.190029\n",
       "min       0.250000\n",
       "25%       0.600000\n",
       "50%       0.750000\n",
       "75%       0.787500\n",
       "max       0.800000\n",
       "dtype: float64"
      ]
     },
     "execution_count": 181,
     "metadata": {},
     "output_type": "execute_result"
    }
   ],
   "source": [
    "vect = CountVectorizer(ngram_range=(1, 4))\n",
    "X_dtm = vect.fit_transform(X)\n",
    "\n",
    "xg = XGBClassifier()\n",
    "xg_acc=pd.Series(cross_val_score(rf, X_dtm, y, cv=10)).describe()\n",
    "xg_acc"
   ]
  },
  {
   "cell_type": "code",
   "execution_count": 182,
   "metadata": {},
   "outputs": [
    {
     "data": {
      "text/plain": [
       "count    10.000000\n",
       "mean      0.810000\n",
       "std       0.177639\n",
       "min       0.400000\n",
       "25%       0.762500\n",
       "50%       0.800000\n",
       "75%       0.950000\n",
       "max       1.000000\n",
       "dtype: float64"
      ]
     },
     "execution_count": 182,
     "metadata": {},
     "output_type": "execute_result"
    }
   ],
   "source": [
    "vect = TfidfVectorizer(stop_words=stop_words)\n",
    "X_dtm = vect.fit_transform(X)\n",
    "\n",
    "xg = XGBClassifier()\n",
    "xg_acc=pd.Series(cross_val_score(rf, X_dtm, y, cv=10)).describe()\n",
    "xg_acc"
   ]
  },
  {
   "cell_type": "code",
   "execution_count": 183,
   "metadata": {},
   "outputs": [
    {
     "data": {
      "text/plain": [
       "count    10.000000\n",
       "mean      0.720000\n",
       "std       0.173526\n",
       "min       0.400000\n",
       "25%       0.637500\n",
       "50%       0.775000\n",
       "75%       0.800000\n",
       "max       1.000000\n",
       "dtype: float64"
      ]
     },
     "execution_count": 183,
     "metadata": {},
     "output_type": "execute_result"
    }
   ],
   "source": [
    "vect = CountVectorizer(stop_words=stop_words,ngram_range=(1, 4))\n",
    "X_dtm = vect.fit_transform(X)\n",
    "\n",
    "xg = XGBClassifier()\n",
    "xg_acc=pd.Series(cross_val_score(rf, X_dtm, y, cv=10)).describe()\n",
    "xg_acc"
   ]
  },
  {
   "cell_type": "markdown",
   "metadata": {},
   "source": [
    "<table>\n",
    "    <th>XGBoost</th><th>Mean Acc</th>\n",
    "    <tr><td>Indicadores calculados</td><td>69%</td></tr>\n",
    "    <tr><td>CountVectorizer simple</td><td>67%</td></tr>\n",
    "    <tr><td>CountVectorizer ngramas(1-4)</td><td>65%</td></tr>\n",
    "    <tr><td>TFID stopwords </td><td>81%</td></tr>\n",
    "    <tr><td>TFID con stopwords y ngramas(1-4)</td><td>72%</td></tr>\n",
    "</table>"
   ]
  },
  {
   "cell_type": "markdown",
   "metadata": {},
   "source": [
    "* Se realizan dos modelos de clasificación de género: uno con el algortimo de Random Forest y otro con Algoritmo de XGBoost. Al comparar los resultados, el mejor clasificador es realizar un XGBoost con  TFIDF eliminado las Stopwords con un mean Acc de 81% "
   ]
  },
  {
   "cell_type": "markdown",
   "metadata": {
    "colab": {},
    "colab_type": "code",
    "id": "tmojHjkqcrLd"
   },
   "source": [
    "# Exercise 13.4\n",
    "\n",
    "Classify group members into different subgroups (minimum 3) according to a characteristic of your choice."
   ]
  },
  {
   "cell_type": "markdown",
   "metadata": {},
   "source": [
    "Para la formación de subgrupos se ha tomado una clasificación por rendimiento:\n",
    "- Alto: Estudiantes cuyo rendimiento superó las espectativas\n",
    "- Medio: Estudiantes cuyo rendimiento se encuentra dentro de las espectativas\n",
    "- Bajo: EStudiantes cuyo rendimiento se encuentra por debajo de las espectativas\n",
    "\n",
    "Esta clasificación fue realizada subjetivamente, leyendo las diferentes respuestas de los estudiantes"
   ]
  },
  {
   "cell_type": "code",
   "execution_count": 37,
   "metadata": {},
   "outputs": [
    {
     "name": "stdout",
     "output_type": "stream",
     "text": [
      "Requirement already up-to-date: textblob in c:\\users\\david\\anaconda3\\lib\\site-packages (0.15.3)\n",
      "Requirement already satisfied, skipping upgrade: nltk>=3.1 in c:\\users\\david\\anaconda3\\lib\\site-packages (from textblob) (3.4.5)\n",
      "Requirement already satisfied, skipping upgrade: six in c:\\users\\david\\anaconda3\\lib\\site-packages (from nltk>=3.1->textblob) (1.14.0)\n"
     ]
    }
   ],
   "source": [
    "! pip install -U textblob"
   ]
  },
  {
   "cell_type": "code",
   "execution_count": 38,
   "metadata": {},
   "outputs": [],
   "source": [
    "from textblob import TextBlob, Word, Blobber\n",
    "import pandas as pd\n",
    "import numpy as np\n",
    "from sklearn.model_selection import train_test_split, cross_val_score\n",
    "from sklearn.feature_extraction.text import CountVectorizer, TfidfVectorizer\n",
    "from sklearn.ensemble import RandomForestClassifier\n",
    "from nltk.stem.snowball import SnowballStemmer\n",
    "from nltk.stem import WordNetLemmatizer\n",
    "from sklearn.feature_extraction import text "
   ]
  },
  {
   "cell_type": "code",
   "execution_count": 39,
   "metadata": {},
   "outputs": [],
   "source": [
    "data = pd.read_excel('./datasets/RespuetasClasificadas.xlsx')\n",
    "data['Clasificacion'].replace(['Alto','Medio','Bajo'],[2,1,0],inplace=True)\n",
    "data.columns=['Genero','E1','E4','E6','E8','E10','E11','Clasificacion']\n",
    "#data.head()\n",
    "tareas=data.drop(['Genero','Clasificacion'],axis=1).columns\n",
    "tareas\n",
    "stop_esp=pd.read_table('./datasets/stopwords-es.txt').iloc[:,0].tolist()\n",
    "stop_words = text.ENGLISH_STOP_WORDS.union(stop_esp)"
   ]
  },
  {
   "cell_type": "code",
   "execution_count": 40,
   "metadata": {
    "scrolled": false
   },
   "outputs": [
    {
     "data": {
      "text/html": [
       "<div>\n",
       "<style scoped>\n",
       "    .dataframe tbody tr th:only-of-type {\n",
       "        vertical-align: middle;\n",
       "    }\n",
       "\n",
       "    .dataframe tbody tr th {\n",
       "        vertical-align: top;\n",
       "    }\n",
       "\n",
       "    .dataframe thead th {\n",
       "        text-align: right;\n",
       "    }\n",
       "</style>\n",
       "<table border=\"1\" class=\"dataframe\">\n",
       "  <thead>\n",
       "    <tr style=\"text-align: right;\">\n",
       "      <th></th>\n",
       "      <th>Genero</th>\n",
       "      <th>E1</th>\n",
       "      <th>E4</th>\n",
       "      <th>E6</th>\n",
       "      <th>E8</th>\n",
       "      <th>E10</th>\n",
       "      <th>E11</th>\n",
       "      <th>Clasificacion</th>\n",
       "      <th>TotalTextoSt</th>\n",
       "      <th>CantPalabras</th>\n",
       "      <th>NoHizo</th>\n",
       "      <th>NumPuntos</th>\n",
       "      <th>NumTildes</th>\n",
       "      <th>CantMayus</th>\n",
       "      <th>Vocabulario</th>\n",
       "      <th>CantOraciones</th>\n",
       "      <th>CantPromXOracion</th>\n",
       "      <th>Idioma</th>\n",
       "    </tr>\n",
       "  </thead>\n",
       "  <tbody>\n",
       "    <tr>\n",
       "      <th>0</th>\n",
       "      <td>M</td>\n",
       "      <td>One of the most valuable application of time s...</td>\n",
       "      <td>The main difference between panel data and tim...</td>\n",
       "      <td>Decision tree are a model used by the analytic...</td>\n",
       "      <td>They are used to make a better prediction than...</td>\n",
       "      <td>Es una forma de arquitectura de datos. Los mic...</td>\n",
       "      <td>NaN</td>\n",
       "      <td>2</td>\n",
       "      <td>One of the most valuable application of time ...</td>\n",
       "      <td>1282</td>\n",
       "      <td>1</td>\n",
       "      <td>62</td>\n",
       "      <td>25</td>\n",
       "      <td>38</td>\n",
       "      <td>609</td>\n",
       "      <td>63</td>\n",
       "      <td>20.396825</td>\n",
       "      <td>en</td>\n",
       "    </tr>\n",
       "    <tr>\n",
       "      <th>1</th>\n",
       "      <td>F</td>\n",
       "      <td>ANÁLISIS DE SERIES DE TIEMPO – USOS \\nEl análi...</td>\n",
       "      <td>Series de Tiempo vs Datos en Panel\\nUna serie ...</td>\n",
       "      <td>TIPOS DE ÁRBOLES DE DECISIÓN Y APLICACIONES\\nL...</td>\n",
       "      <td>ENSAMBLAJE EN MACHINE LEARNING\\nLos métodos de...</td>\n",
       "      <td>Microservicios\\nEl objetivo principal de la im...</td>\n",
       "      <td>NaN</td>\n",
       "      <td>1</td>\n",
       "      <td>ANÁLISIS DE SERIES DE TIEMPO – USOS \\nEl anál...</td>\n",
       "      <td>1696</td>\n",
       "      <td>1</td>\n",
       "      <td>76</td>\n",
       "      <td>181</td>\n",
       "      <td>108</td>\n",
       "      <td>745</td>\n",
       "      <td>77</td>\n",
       "      <td>22.389610</td>\n",
       "      <td>es</td>\n",
       "    </tr>\n",
       "    <tr>\n",
       "      <th>2</th>\n",
       "      <td>M</td>\n",
       "      <td>Una serie de tiempo es una colección de datos ...</td>\n",
       "      <td>NaN</td>\n",
       "      <td>los arboles de decisión hacen parte de los alg...</td>\n",
       "      <td>Ensemble methods is a machine learning techniq...</td>\n",
       "      <td>El enfoque tradicional para el diseño de aplic...</td>\n",
       "      <td>LexisNexis launched Lexis Analytics, a legal r...</td>\n",
       "      <td>2</td>\n",
       "      <td>Una serie de tiempo es una colección de datos...</td>\n",
       "      <td>1408</td>\n",
       "      <td>1</td>\n",
       "      <td>54</td>\n",
       "      <td>81</td>\n",
       "      <td>59</td>\n",
       "      <td>667</td>\n",
       "      <td>55</td>\n",
       "      <td>25.690909</td>\n",
       "      <td>es</td>\n",
       "    </tr>\n",
       "    <tr>\n",
       "      <th>3</th>\n",
       "      <td>M</td>\n",
       "      <td>\\nGiven that Time Series Analysis allows to un...</td>\n",
       "      <td>The difference between panel data and time ser...</td>\n",
       "      <td>Decision Trees Algorithms are machine function...</td>\n",
       "      <td>Ensemble methods in Tree Decision algorithms b...</td>\n",
       "      <td>Micro-services are defined as a type of softwa...</td>\n",
       "      <td>NaN</td>\n",
       "      <td>2</td>\n",
       "      <td>\\nGiven that Time Series Analysis allows to u...</td>\n",
       "      <td>1428</td>\n",
       "      <td>1</td>\n",
       "      <td>56</td>\n",
       "      <td>0</td>\n",
       "      <td>41</td>\n",
       "      <td>564</td>\n",
       "      <td>57</td>\n",
       "      <td>25.052632</td>\n",
       "      <td>en</td>\n",
       "    </tr>\n",
       "    <tr>\n",
       "      <th>4</th>\n",
       "      <td>M</td>\n",
       "      <td>Time Series Analysis is concerned with the stu...</td>\n",
       "      <td>A time series is represented by a variable or ...</td>\n",
       "      <td>Decision trees are a popular supervised machin...</td>\n",
       "      <td>The ensemble method is a combination of severa...</td>\n",
       "      <td>A microservice is a type of information techno...</td>\n",
       "      <td>A commercial product which uses Natural Langua...</td>\n",
       "      <td>2</td>\n",
       "      <td>Time Series Analysis is concerned with the st...</td>\n",
       "      <td>2074</td>\n",
       "      <td>0</td>\n",
       "      <td>108</td>\n",
       "      <td>3</td>\n",
       "      <td>75</td>\n",
       "      <td>928</td>\n",
       "      <td>109</td>\n",
       "      <td>19.220183</td>\n",
       "      <td>en</td>\n",
       "    </tr>\n",
       "  </tbody>\n",
       "</table>\n",
       "</div>"
      ],
      "text/plain": [
       "  Genero                                                 E1  \\\n",
       "0      M  One of the most valuable application of time s...   \n",
       "1      F  ANÁLISIS DE SERIES DE TIEMPO – USOS \\nEl análi...   \n",
       "2      M  Una serie de tiempo es una colección de datos ...   \n",
       "3      M  \\nGiven that Time Series Analysis allows to un...   \n",
       "4      M  Time Series Analysis is concerned with the stu...   \n",
       "\n",
       "                                                  E4  \\\n",
       "0  The main difference between panel data and tim...   \n",
       "1  Series de Tiempo vs Datos en Panel\\nUna serie ...   \n",
       "2                                                NaN   \n",
       "3  The difference between panel data and time ser...   \n",
       "4  A time series is represented by a variable or ...   \n",
       "\n",
       "                                                  E6  \\\n",
       "0  Decision tree are a model used by the analytic...   \n",
       "1  TIPOS DE ÁRBOLES DE DECISIÓN Y APLICACIONES\\nL...   \n",
       "2  los arboles de decisión hacen parte de los alg...   \n",
       "3  Decision Trees Algorithms are machine function...   \n",
       "4  Decision trees are a popular supervised machin...   \n",
       "\n",
       "                                                  E8  \\\n",
       "0  They are used to make a better prediction than...   \n",
       "1  ENSAMBLAJE EN MACHINE LEARNING\\nLos métodos de...   \n",
       "2  Ensemble methods is a machine learning techniq...   \n",
       "3  Ensemble methods in Tree Decision algorithms b...   \n",
       "4  The ensemble method is a combination of severa...   \n",
       "\n",
       "                                                 E10  \\\n",
       "0  Es una forma de arquitectura de datos. Los mic...   \n",
       "1  Microservicios\\nEl objetivo principal de la im...   \n",
       "2  El enfoque tradicional para el diseño de aplic...   \n",
       "3  Micro-services are defined as a type of softwa...   \n",
       "4  A microservice is a type of information techno...   \n",
       "\n",
       "                                                 E11  Clasificacion  \\\n",
       "0                                                NaN              2   \n",
       "1                                                NaN              1   \n",
       "2  LexisNexis launched Lexis Analytics, a legal r...              2   \n",
       "3                                                NaN              2   \n",
       "4  A commercial product which uses Natural Langua...              2   \n",
       "\n",
       "                                        TotalTextoSt  CantPalabras  NoHizo  \\\n",
       "0   One of the most valuable application of time ...          1282       1   \n",
       "1   ANÁLISIS DE SERIES DE TIEMPO – USOS \\nEl anál...          1696       1   \n",
       "2   Una serie de tiempo es una colección de datos...          1408       1   \n",
       "3   \\nGiven that Time Series Analysis allows to u...          1428       1   \n",
       "4   Time Series Analysis is concerned with the st...          2074       0   \n",
       "\n",
       "   NumPuntos  NumTildes  CantMayus  Vocabulario  CantOraciones  \\\n",
       "0         62         25         38          609             63   \n",
       "1         76        181        108          745             77   \n",
       "2         54         81         59          667             55   \n",
       "3         56          0         41          564             57   \n",
       "4        108          3         75          928            109   \n",
       "\n",
       "   CantPromXOracion Idioma  \n",
       "0         20.396825     en  \n",
       "1         22.389610     es  \n",
       "2         25.690909     es  \n",
       "3         25.052632     en  \n",
       "4         19.220183     en  "
      ]
     },
     "execution_count": 40,
     "metadata": {},
     "output_type": "execute_result"
    }
   ],
   "source": [
    "data['TotalTextoSt']=''\n",
    "for t in tareas:\n",
    "    #print('Entre')\n",
    "    data['TotalTextoSt']=data['TotalTextoSt'].str.cat(data[t], sep =\" \",na_rep='')\n",
    "data['CantPalabras'] = data['TotalTextoSt'].str.split().str.len()\n",
    "data['NoHizo']=data.isnull().sum(axis=1) \n",
    "data['NumPuntos'] = data['TotalTextoSt'].str.findall('\\.').str.len()\n",
    "data['NumTildes'] = data['TotalTextoSt'].str.findall('á').str.len() + \\\n",
    "    data['TotalTextoSt'].str.findall('é').str.len() + \\\n",
    "    data['TotalTextoSt'].str.findall('í').str.len() + \\\n",
    "    data['TotalTextoSt'].str.findall('ó').str.len() + \\\n",
    "    data['TotalTextoSt'].str.findall('ú').str.len()\n",
    "data['CantMayus'] = data['TotalTextoSt'].str.findall('A').str.len() + \\\n",
    "    data['TotalTextoSt'].str.findall('E').str.len() + \\\n",
    "    data['TotalTextoSt'].str.findall('I').str.len() + \\\n",
    "    data['TotalTextoSt'].str.findall('O').str.len() + \\\n",
    "    data['TotalTextoSt'].str.findall('U').str.len()\n",
    "data['Vocabulario']= [len(set(x.split())) for x in data['TotalTextoSt'].tolist()]\n",
    "data['CantOraciones']=[len(x.split('.'))for x in data['TotalTextoSt'].tolist()]\n",
    "data['CantPromXOracion']=[pd.Series([len(w.split()) for w in x.split('.')]).mean() for x in data['TotalTextoSt'].tolist()]\n",
    "data['Idioma']=[TextBlob(x).detect_language() for x in data['TotalTextoSt'].tolist()]\n",
    "data.head()"
   ]
  },
  {
   "cell_type": "markdown",
   "metadata": {},
   "source": [
    "### Generación de modelos"
   ]
  },
  {
   "cell_type": "code",
   "execution_count": 41,
   "metadata": {},
   "outputs": [
    {
     "name": "stderr",
     "output_type": "stream",
     "text": [
      "C:\\Users\\david\\anaconda3\\lib\\site-packages\\sklearn\\model_selection\\_split.py:667: UserWarning: The least populated class in y has only 8 members, which is less than n_splits=10.\n",
      "  % (min_groups, self.n_splits)), UserWarning)\n"
     ]
    },
    {
     "data": {
      "text/plain": [
       "count    10.000000\n",
       "mean      0.790000\n",
       "std       0.183787\n",
       "min       0.500000\n",
       "25%       0.750000\n",
       "50%       0.800000\n",
       "75%       0.950000\n",
       "max       1.000000\n",
       "dtype: float64"
      ]
     },
     "execution_count": 41,
     "metadata": {},
     "output_type": "execute_result"
    }
   ],
   "source": [
    "data['CodLang']=data['Idioma'].replace(['en','es'],[1,0])\n",
    "data['Genero'].replace(['F','M'],[0,1],inplace=True)\n",
    "y= data['Clasificacion']\n",
    "X_var=data[['Genero','CantPalabras','NoHizo','NumPuntos','NumTildes','CantMayus','Vocabulario','CantOraciones','CantPromXOracion','CodLang']]\n",
    "X_var.head()\n",
    "rf = RandomForestClassifier()\n",
    "rf_acc=pd.Series(cross_val_score(rf, X_var, y, cv=10)).describe()\n",
    "rf_acc"
   ]
  },
  {
   "cell_type": "code",
   "execution_count": 42,
   "metadata": {},
   "outputs": [],
   "source": [
    "X = data['TotalTextoSt']\n",
    "y= data['Clasificacion']"
   ]
  },
  {
   "cell_type": "code",
   "execution_count": 43,
   "metadata": {},
   "outputs": [
    {
     "name": "stderr",
     "output_type": "stream",
     "text": [
      "C:\\Users\\david\\anaconda3\\lib\\site-packages\\sklearn\\model_selection\\_split.py:667: UserWarning: The least populated class in y has only 8 members, which is less than n_splits=10.\n",
      "  % (min_groups, self.n_splits)), UserWarning)\n"
     ]
    },
    {
     "data": {
      "text/plain": [
       "count    10.000000\n",
       "mean      0.700000\n",
       "std       0.147196\n",
       "min       0.500000\n",
       "25%       0.600000\n",
       "50%       0.675000\n",
       "75%       0.787500\n",
       "max       1.000000\n",
       "dtype: float64"
      ]
     },
     "execution_count": 43,
     "metadata": {},
     "output_type": "execute_result"
    }
   ],
   "source": [
    "vect = CountVectorizer(stop_words=stop_words)\n",
    "X_dtm = vect.fit_transform(X)\n",
    "rf = RandomForestClassifier()\n",
    "pd.Series(cross_val_score(rf, X_dtm, y, cv=10)).describe()"
   ]
  },
  {
   "cell_type": "code",
   "execution_count": 44,
   "metadata": {},
   "outputs": [
    {
     "name": "stderr",
     "output_type": "stream",
     "text": [
      "C:\\Users\\david\\anaconda3\\lib\\site-packages\\sklearn\\model_selection\\_split.py:667: UserWarning: The least populated class in y has only 8 members, which is less than n_splits=10.\n",
      "  % (min_groups, self.n_splits)), UserWarning)\n"
     ]
    },
    {
     "data": {
      "text/plain": [
       "count    10.000000\n",
       "mean      0.715000\n",
       "std       0.108141\n",
       "min       0.500000\n",
       "25%       0.637500\n",
       "50%       0.750000\n",
       "75%       0.800000\n",
       "max       0.800000\n",
       "dtype: float64"
      ]
     },
     "execution_count": 44,
     "metadata": {},
     "output_type": "execute_result"
    }
   ],
   "source": [
    "# N-gramas\n",
    "vect = CountVectorizer(ngram_range=(1, 4))\n",
    "X_dtm = vect.fit_transform(X)\n",
    "rf = RandomForestClassifier()\n",
    "pd.Series(cross_val_score(rf, X_dtm, y, cv=10)).describe()"
   ]
  },
  {
   "cell_type": "code",
   "execution_count": 45,
   "metadata": {},
   "outputs": [
    {
     "name": "stderr",
     "output_type": "stream",
     "text": [
      "C:\\Users\\david\\anaconda3\\lib\\site-packages\\sklearn\\model_selection\\_split.py:667: UserWarning: The least populated class in y has only 8 members, which is less than n_splits=10.\n",
      "  % (min_groups, self.n_splits)), UserWarning)\n"
     ]
    },
    {
     "data": {
      "text/plain": [
       "count    10.000000\n",
       "mean      0.655000\n",
       "std       0.136321\n",
       "min       0.400000\n",
       "25%       0.600000\n",
       "50%       0.675000\n",
       "75%       0.750000\n",
       "max       0.800000\n",
       "dtype: float64"
      ]
     },
     "execution_count": 45,
     "metadata": {},
     "output_type": "execute_result"
    }
   ],
   "source": [
    "vect = TfidfVectorizer(stop_words=stop_words)\n",
    "X_dtm = vect.fit_transform(X)\n",
    "rf = RandomForestClassifier()\n",
    "pd.Series(cross_val_score(rf, X_dtm, y, cv=10)).describe()"
   ]
  },
  {
   "cell_type": "code",
   "execution_count": 53,
   "metadata": {},
   "outputs": [
    {
     "name": "stderr",
     "output_type": "stream",
     "text": [
      "C:\\Users\\david\\anaconda3\\lib\\site-packages\\sklearn\\model_selection\\_split.py:667: UserWarning: The least populated class in y has only 8 members, which is less than n_splits=10.\n",
      "  % (min_groups, self.n_splits)), UserWarning)\n"
     ]
    },
    {
     "data": {
      "text/plain": [
       "count    10.000000\n",
       "mean      0.635000\n",
       "std       0.158202\n",
       "min       0.400000\n",
       "25%       0.525000\n",
       "50%       0.675000\n",
       "75%       0.750000\n",
       "max       0.800000\n",
       "dtype: float64"
      ]
     },
     "execution_count": 53,
     "metadata": {},
     "output_type": "execute_result"
    }
   ],
   "source": [
    "vect = TfidfVectorizer(stop_words=stop_words,ngram_range=(1, 4))\n",
    "X_dtm = vect.fit_transform(X)\n",
    "rf = RandomForestClassifier()\n",
    "pd.Series(cross_val_score(rf, X_dtm, y, cv=10)).describe()"
   ]
  },
  {
   "cell_type": "code",
   "execution_count": 47,
   "metadata": {},
   "outputs": [
    {
     "name": "stderr",
     "output_type": "stream",
     "text": [
      "C:\\Users\\david\\anaconda3\\lib\\site-packages\\sklearn\\model_selection\\_split.py:667: UserWarning: The least populated class in y has only 8 members, which is less than n_splits=10.\n",
      "  % (min_groups, self.n_splits)), UserWarning)\n"
     ]
    },
    {
     "data": {
      "text/plain": [
       "count    10.000000\n",
       "mean      0.735000\n",
       "std       0.139543\n",
       "min       0.500000\n",
       "25%       0.637500\n",
       "50%       0.750000\n",
       "75%       0.800000\n",
       "max       1.000000\n",
       "dtype: float64"
      ]
     },
     "execution_count": 47,
     "metadata": {},
     "output_type": "execute_result"
    }
   ],
   "source": [
    "X_var=data[['Genero','CantPalabras','NoHizo','NumPuntos','NumTildes','CantMayus','Vocabulario','CantOraciones','CantPromXOracion','CodLang']]\n",
    "#X_var.head()\n",
    "rf = XGBClassifier()\n",
    "rf_acc=pd.Series(cross_val_score(rf, X_var, y, cv=10)).describe()\n",
    "rf_acc"
   ]
  },
  {
   "cell_type": "code",
   "execution_count": 48,
   "metadata": {},
   "outputs": [
    {
     "name": "stderr",
     "output_type": "stream",
     "text": [
      "C:\\Users\\david\\anaconda3\\lib\\site-packages\\sklearn\\model_selection\\_split.py:667: UserWarning: The least populated class in y has only 8 members, which is less than n_splits=10.\n",
      "  % (min_groups, self.n_splits)), UserWarning)\n"
     ]
    },
    {
     "data": {
      "text/plain": [
       "count    10.000000\n",
       "mean      0.525000\n",
       "std       0.231241\n",
       "min       0.200000\n",
       "25%       0.400000\n",
       "50%       0.450000\n",
       "75%       0.750000\n",
       "max       0.800000\n",
       "dtype: float64"
      ]
     },
     "execution_count": 48,
     "metadata": {},
     "output_type": "execute_result"
    }
   ],
   "source": [
    "vect = CountVectorizer(stop_words=stop_words)\n",
    "X_dtm = vect.fit_transform(X)\n",
    "xg = XGBClassifier()\n",
    "pd.Series(cross_val_score(rf, X_dtm, y, cv=10)).describe()"
   ]
  },
  {
   "cell_type": "code",
   "execution_count": 49,
   "metadata": {},
   "outputs": [
    {
     "name": "stderr",
     "output_type": "stream",
     "text": [
      "C:\\Users\\david\\anaconda3\\lib\\site-packages\\sklearn\\model_selection\\_split.py:667: UserWarning: The least populated class in y has only 8 members, which is less than n_splits=10.\n",
      "  % (min_groups, self.n_splits)), UserWarning)\n"
     ]
    },
    {
     "data": {
      "text/plain": [
       "count    10.000000\n",
       "mean      0.670000\n",
       "std       0.122927\n",
       "min       0.500000\n",
       "25%       0.600000\n",
       "50%       0.675000\n",
       "75%       0.787500\n",
       "max       0.800000\n",
       "dtype: float64"
      ]
     },
     "execution_count": 49,
     "metadata": {},
     "output_type": "execute_result"
    }
   ],
   "source": [
    "vect = CountVectorizer(ngram_range=(1, 4))\n",
    "X_dtm = vect.fit_transform(X)\n",
    "\n",
    "xg = XGBClassifier()\n",
    "xg_acc=pd.Series(cross_val_score(rf, X_dtm, y, cv=10)).describe()\n",
    "xg_acc"
   ]
  },
  {
   "cell_type": "code",
   "execution_count": 50,
   "metadata": {},
   "outputs": [
    {
     "name": "stderr",
     "output_type": "stream",
     "text": [
      "C:\\Users\\david\\anaconda3\\lib\\site-packages\\sklearn\\model_selection\\_split.py:667: UserWarning: The least populated class in y has only 8 members, which is less than n_splits=10.\n",
      "  % (min_groups, self.n_splits)), UserWarning)\n"
     ]
    },
    {
     "data": {
      "text/plain": [
       "count    10.000000\n",
       "mean      0.520000\n",
       "std       0.194651\n",
       "min       0.200000\n",
       "25%       0.425000\n",
       "50%       0.550000\n",
       "75%       0.600000\n",
       "max       0.800000\n",
       "dtype: float64"
      ]
     },
     "execution_count": 50,
     "metadata": {},
     "output_type": "execute_result"
    }
   ],
   "source": [
    "vect = TfidfVectorizer(stop_words=stop_words)\n",
    "X_dtm = vect.fit_transform(X)\n",
    "\n",
    "xg = XGBClassifier()\n",
    "xg_acc=pd.Series(cross_val_score(rf, X_dtm, y, cv=10)).describe()\n",
    "xg_acc"
   ]
  },
  {
   "cell_type": "code",
   "execution_count": 54,
   "metadata": {},
   "outputs": [
    {
     "name": "stderr",
     "output_type": "stream",
     "text": [
      "C:\\Users\\david\\anaconda3\\lib\\site-packages\\sklearn\\model_selection\\_split.py:667: UserWarning: The least populated class in y has only 8 members, which is less than n_splits=10.\n",
      "  % (min_groups, self.n_splits)), UserWarning)\n"
     ]
    },
    {
     "data": {
      "text/plain": [
       "count    10.000000\n",
       "mean      0.655000\n",
       "std       0.136321\n",
       "min       0.400000\n",
       "25%       0.600000\n",
       "50%       0.675000\n",
       "75%       0.750000\n",
       "max       0.800000\n",
       "dtype: float64"
      ]
     },
     "execution_count": 54,
     "metadata": {},
     "output_type": "execute_result"
    }
   ],
   "source": [
    "vect = TfidfVectorizer(stop_words=stop_words,ngram_range=(1, 4))\n",
    "X_dtm = vect.fit_transform(X)\n",
    "\n",
    "xg = XGBClassifier()\n",
    "xg_acc=pd.Series(cross_val_score(rf, X_dtm, y, cv=10)).describe()\n",
    "xg_acc"
   ]
  },
  {
   "cell_type": "markdown",
   "metadata": {},
   "source": [
    "<table>\n",
    "    <th>Modelo</th><th>Mean Acc</th>\n",
    "    <tr><td>RF Indicadores calculados</td><td>79%</td></tr>\n",
    "    <tr><td>RF CountVectorizer stopwords</td><td>70%</td></tr>\n",
    "    <tr><td>RF CountVectorizer ngramas(1-4)</td><td>71.5%</td></tr>\n",
    "    <tr><td>RF TFID stopwords </td><td>65.5%</td></tr>\n",
    "    <tr><td>RF TFID con stopwords y ngramas(1-4)</td><td>63.5%</td></tr>\n",
    "    <tr><td>XG Indicadores calculados</td><td>73.5%</td></tr>\n",
    "    <tr><td>XG CountVectorizer stopwords</td><td>52.5%</td></tr>\n",
    "    <tr><td>XG CountVectorizer ngramas(1-4)</td><td>67%</td></tr>\n",
    "    <tr><td>XG TFID stopwords </td><td>52%</td></tr>\n",
    "    <tr><td>XG TFID con stopwords y ngramas(1-4)</td><td>65.5%</td></tr>\n",
    "</table>"
   ]
  },
  {
   "cell_type": "markdown",
   "metadata": {},
   "source": [
    "En general, el uso de indicadores tiene mejor desempeño que el análisis de texto simple"
   ]
  },
  {
   "cell_type": "code",
   "execution_count": null,
   "metadata": {},
   "outputs": [],
   "source": []
  }
 ],
 "metadata": {
  "colab": {
   "name": "E13-ClassHomeworksAnalysis.ipynb",
   "provenance": []
  },
  "kernelspec": {
   "display_name": "Python 3",
   "language": "python",
   "name": "python3"
  },
  "language_info": {
   "codemirror_mode": {
    "name": "ipython",
    "version": 3
   },
   "file_extension": ".py",
   "mimetype": "text/x-python",
   "name": "python",
   "nbconvert_exporter": "python",
   "pygments_lexer": "ipython3",
   "version": "3.7.6"
  }
 },
 "nbformat": 4,
 "nbformat_minor": 1
}
