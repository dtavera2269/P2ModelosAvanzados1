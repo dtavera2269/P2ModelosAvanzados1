{
  "nbformat": 4,
  "nbformat_minor": 0,
  "metadata": {
    "colab": {
      "name": "P3-MovieGenrePrediction_Redes_final.ipynb",
      "provenance": [],
      "collapsed_sections": []
    },
    "kernelspec": {
      "display_name": "Python 3",
      "language": "python",
      "name": "python3"
    },
    "language_info": {
      "codemirror_mode": {
        "name": "ipython",
        "version": 3
      },
      "file_extension": ".py",
      "mimetype": "text/x-python",
      "name": "python",
      "nbconvert_exporter": "python",
      "pygments_lexer": "ipython3",
      "version": "3.7.4"
    },
    "accelerator": "GPU"
  },
  "cells": [
    {
      "cell_type": "markdown",
      "metadata": {
        "colab_type": "text",
        "id": "WXhwxdcYPa5G"
      },
      "source": [
        "# Project 3\n",
        "\n",
        "\n",
        "# Movie Genre Classification\n",
        "\n",
        "Classify a movie genre based on its plot.\n",
        "\n",
        "<img src=\"moviegenre.png\"\n",
        "     style=\"float: left; margin-right: 10px;\" />\n",
        "\n",
        "\n",
        "\n",
        "\n",
        "https://www.kaggle.com/c/miia4201-202019-p3-moviegenreclassification/overview\n",
        "\n",
        "### Data\n",
        "\n",
        "Input:\n",
        "- movie plot\n",
        "\n",
        "Output:\n",
        "Probability of the movie belong to each genre\n",
        "\n",
        "\n",
        "### Evaluation\n",
        "\n",
        "- 20% API\n",
        "- 30% Report with all the details of the solution, the analysis and the conclusions. The report cannot exceed 10 pages, must be send in PDF format and must be self-contained.\n",
        "- 50% Performance in the Kaggle competition (The grade for each group will be proportional to the ranking it occupies in the competition. The group in the first place will obtain 5 points, for each position below, 0.25 points will be subtracted, that is: first place: 5 points, second: 4.75 points, third place: 4.50 points ... eleventh place: 2.50 points, twelfth place: 2.25 points).\n",
        "\n",
        "• The project must be carried out in the groups assigned for module 4.\n",
        "• Use clear and rigorous procedures.\n",
        "• The delivery of the project is on July 12, 2020, 11:59 pm, through Sicua + (Upload: the API and the report in PDF format).\n",
        "• No projects will be received after the delivery time or by any other means than the one established. \n",
        "\n",
        "\n",
        "\n",
        "\n",
        "### Acknowledgements\n",
        "\n",
        "We thank Professor Fabio Gonzalez, Ph.D. and his student John Arevalo for providing this dataset.\n",
        "\n",
        "See https://arxiv.org/abs/1702.01992"
      ]
    },
    {
      "cell_type": "markdown",
      "metadata": {
        "colab_type": "text",
        "id": "OuDHe5DnPa5J"
      },
      "source": [
        "## Sample Submission"
      ]
    },
    {
      "cell_type": "code",
      "metadata": {
        "colab_type": "code",
        "id": "oP3rkto9Pa5L",
        "colab": {}
      },
      "source": [
        "import pandas as pd\n",
        "import os\n",
        "import numpy as np\n",
        "from sklearn.feature_extraction.text import CountVectorizer\n",
        "from sklearn.preprocessing import MultiLabelBinarizer\n",
        "from sklearn.multiclass import OneVsRestClassifier\n",
        "from sklearn.ensemble import RandomForestRegressor, RandomForestClassifier\n",
        "from sklearn.metrics import r2_score, roc_auc_score\n",
        "from sklearn.model_selection import train_test_split\n",
        "import re"
      ],
      "execution_count": 60,
      "outputs": []
    },
    {
      "cell_type": "code",
      "metadata": {
        "id": "zYmu5O5hVxWO",
        "colab_type": "code",
        "colab": {
          "base_uri": "https://localhost:8080/",
          "height": 456
        },
        "outputId": "8e1537c2-be18-4eaf-f1c6-b70c2744fecf"
      },
      "source": [
        "pip install livelossplot"
      ],
      "execution_count": 61,
      "outputs": [
        {
          "output_type": "stream",
          "text": [
            "Requirement already satisfied: livelossplot in /usr/local/lib/python3.6/dist-packages (0.5.1)\n",
            "Requirement already satisfied: bokeh; python_version >= \"3.6\" in /usr/local/lib/python3.6/dist-packages (from livelossplot) (1.4.0)\n",
            "Requirement already satisfied: matplotlib; python_version >= \"3.6\" in /usr/local/lib/python3.6/dist-packages (from livelossplot) (3.2.2)\n",
            "Requirement already satisfied: ipython in /usr/local/lib/python3.6/dist-packages (from livelossplot) (5.5.0)\n",
            "Requirement already satisfied: Jinja2>=2.7 in /usr/local/lib/python3.6/dist-packages (from bokeh; python_version >= \"3.6\"->livelossplot) (2.11.2)\n",
            "Requirement already satisfied: numpy>=1.7.1 in /usr/local/lib/python3.6/dist-packages (from bokeh; python_version >= \"3.6\"->livelossplot) (1.18.5)\n",
            "Requirement already satisfied: pillow>=4.0 in /usr/local/lib/python3.6/dist-packages (from bokeh; python_version >= \"3.6\"->livelossplot) (7.0.0)\n",
            "Requirement already satisfied: packaging>=16.8 in /usr/local/lib/python3.6/dist-packages (from bokeh; python_version >= \"3.6\"->livelossplot) (20.4)\n",
            "Requirement already satisfied: tornado>=4.3 in /usr/local/lib/python3.6/dist-packages (from bokeh; python_version >= \"3.6\"->livelossplot) (4.5.3)\n",
            "Requirement already satisfied: python-dateutil>=2.1 in /usr/local/lib/python3.6/dist-packages (from bokeh; python_version >= \"3.6\"->livelossplot) (2.8.1)\n",
            "Requirement already satisfied: six>=1.5.2 in /usr/local/lib/python3.6/dist-packages (from bokeh; python_version >= \"3.6\"->livelossplot) (1.12.0)\n",
            "Requirement already satisfied: PyYAML>=3.10 in /usr/local/lib/python3.6/dist-packages (from bokeh; python_version >= \"3.6\"->livelossplot) (3.13)\n",
            "Requirement already satisfied: kiwisolver>=1.0.1 in /usr/local/lib/python3.6/dist-packages (from matplotlib; python_version >= \"3.6\"->livelossplot) (1.2.0)\n",
            "Requirement already satisfied: pyparsing!=2.0.4,!=2.1.2,!=2.1.6,>=2.0.1 in /usr/local/lib/python3.6/dist-packages (from matplotlib; python_version >= \"3.6\"->livelossplot) (2.4.7)\n",
            "Requirement already satisfied: cycler>=0.10 in /usr/local/lib/python3.6/dist-packages (from matplotlib; python_version >= \"3.6\"->livelossplot) (0.10.0)\n",
            "Requirement already satisfied: prompt-toolkit<2.0.0,>=1.0.4 in /usr/local/lib/python3.6/dist-packages (from ipython->livelossplot) (1.0.18)\n",
            "Requirement already satisfied: pygments in /usr/local/lib/python3.6/dist-packages (from ipython->livelossplot) (2.1.3)\n",
            "Requirement already satisfied: pexpect; sys_platform != \"win32\" in /usr/local/lib/python3.6/dist-packages (from ipython->livelossplot) (4.8.0)\n",
            "Requirement already satisfied: setuptools>=18.5 in /usr/local/lib/python3.6/dist-packages (from ipython->livelossplot) (47.3.1)\n",
            "Requirement already satisfied: pickleshare in /usr/local/lib/python3.6/dist-packages (from ipython->livelossplot) (0.7.5)\n",
            "Requirement already satisfied: traitlets>=4.2 in /usr/local/lib/python3.6/dist-packages (from ipython->livelossplot) (4.3.3)\n",
            "Requirement already satisfied: simplegeneric>0.8 in /usr/local/lib/python3.6/dist-packages (from ipython->livelossplot) (0.8.1)\n",
            "Requirement already satisfied: decorator in /usr/local/lib/python3.6/dist-packages (from ipython->livelossplot) (4.4.2)\n",
            "Requirement already satisfied: MarkupSafe>=0.23 in /usr/local/lib/python3.6/dist-packages (from Jinja2>=2.7->bokeh; python_version >= \"3.6\"->livelossplot) (1.1.1)\n",
            "Requirement already satisfied: wcwidth in /usr/local/lib/python3.6/dist-packages (from prompt-toolkit<2.0.0,>=1.0.4->ipython->livelossplot) (0.2.5)\n",
            "Requirement already satisfied: ptyprocess>=0.5 in /usr/local/lib/python3.6/dist-packages (from pexpect; sys_platform != \"win32\"->ipython->livelossplot) (0.6.0)\n",
            "Requirement already satisfied: ipython-genutils in /usr/local/lib/python3.6/dist-packages (from traitlets>=4.2->ipython->livelossplot) (0.2.0)\n"
          ],
          "name": "stdout"
        }
      ]
    },
    {
      "cell_type": "code",
      "metadata": {
        "colab_type": "code",
        "id": "-fIsWzcaPa5X",
        "colab": {}
      },
      "source": [
        "dataTraining = pd.read_csv('https://github.com/albahnsen/AdvancedMethodsDataAnalysisClass/raw/master/datasets/dataTraining.zip', encoding='UTF-8', index_col=0)\n",
        "dataTesting = pd.read_csv('https://github.com/albahnsen/AdvancedMethodsDataAnalysisClass/raw/master/datasets/dataTesting.zip', encoding='UTF-8', index_col=0)"
      ],
      "execution_count": 62,
      "outputs": []
    },
    {
      "cell_type": "code",
      "metadata": {
        "colab_type": "code",
        "id": "qohb30mCPa5f",
        "colab": {
          "base_uri": "https://localhost:8080/",
          "height": 335
        },
        "outputId": "70566ad5-9453-495c-fd7b-e0b0b5fa2797"
      },
      "source": [
        "dataTraining.iloc[:10]"
      ],
      "execution_count": 63,
      "outputs": [
        {
          "output_type": "execute_result",
          "data": {
            "text/html": [
              "<div>\n",
              "<style scoped>\n",
              "    .dataframe tbody tr th:only-of-type {\n",
              "        vertical-align: middle;\n",
              "    }\n",
              "\n",
              "    .dataframe tbody tr th {\n",
              "        vertical-align: top;\n",
              "    }\n",
              "\n",
              "    .dataframe thead th {\n",
              "        text-align: right;\n",
              "    }\n",
              "</style>\n",
              "<table border=\"1\" class=\"dataframe\">\n",
              "  <thead>\n",
              "    <tr style=\"text-align: right;\">\n",
              "      <th></th>\n",
              "      <th>year</th>\n",
              "      <th>title</th>\n",
              "      <th>plot</th>\n",
              "      <th>genres</th>\n",
              "      <th>rating</th>\n",
              "    </tr>\n",
              "  </thead>\n",
              "  <tbody>\n",
              "    <tr>\n",
              "      <th>3107</th>\n",
              "      <td>2003</td>\n",
              "      <td>Most</td>\n",
              "      <td>most is the story of a single father who takes...</td>\n",
              "      <td>['Short', 'Drama']</td>\n",
              "      <td>8.0</td>\n",
              "    </tr>\n",
              "    <tr>\n",
              "      <th>900</th>\n",
              "      <td>2008</td>\n",
              "      <td>How to Be a Serial Killer</td>\n",
              "      <td>a serial killer decides to teach the secrets o...</td>\n",
              "      <td>['Comedy', 'Crime', 'Horror']</td>\n",
              "      <td>5.6</td>\n",
              "    </tr>\n",
              "    <tr>\n",
              "      <th>6724</th>\n",
              "      <td>1941</td>\n",
              "      <td>A Woman's Face</td>\n",
              "      <td>in sweden ,  a female blackmailer with a disfi...</td>\n",
              "      <td>['Drama', 'Film-Noir', 'Thriller']</td>\n",
              "      <td>7.2</td>\n",
              "    </tr>\n",
              "    <tr>\n",
              "      <th>4704</th>\n",
              "      <td>1954</td>\n",
              "      <td>Executive Suite</td>\n",
              "      <td>in a friday afternoon in new york ,  the presi...</td>\n",
              "      <td>['Drama']</td>\n",
              "      <td>7.4</td>\n",
              "    </tr>\n",
              "    <tr>\n",
              "      <th>2582</th>\n",
              "      <td>1990</td>\n",
              "      <td>Narrow Margin</td>\n",
              "      <td>in los angeles ,  the editor of a publishing h...</td>\n",
              "      <td>['Action', 'Crime', 'Thriller']</td>\n",
              "      <td>6.6</td>\n",
              "    </tr>\n",
              "    <tr>\n",
              "      <th>9784</th>\n",
              "      <td>1943</td>\n",
              "      <td>The Ox-Bow Incident</td>\n",
              "      <td>two drifters are passing through a western tow...</td>\n",
              "      <td>['Drama', 'Western']</td>\n",
              "      <td>8.1</td>\n",
              "    </tr>\n",
              "    <tr>\n",
              "      <th>8804</th>\n",
              "      <td>2004</td>\n",
              "      <td>Hellbent</td>\n",
              "      <td>two gay men on a date are murdered the night b...</td>\n",
              "      <td>['Horror', 'Thriller']</td>\n",
              "      <td>5.5</td>\n",
              "    </tr>\n",
              "    <tr>\n",
              "      <th>3501</th>\n",
              "      <td>1941</td>\n",
              "      <td>How Green Was My Valley</td>\n",
              "      <td>adult huw morgan is about to move away from th...</td>\n",
              "      <td>['Drama', 'Family']</td>\n",
              "      <td>7.8</td>\n",
              "    </tr>\n",
              "    <tr>\n",
              "      <th>7145</th>\n",
              "      <td>2008</td>\n",
              "      <td>Ghost Town</td>\n",
              "      <td>bertram pincus is a man whose people skills le...</td>\n",
              "      <td>['Comedy', 'Drama', 'Fantasy', 'Romance']</td>\n",
              "      <td>6.7</td>\n",
              "    </tr>\n",
              "    <tr>\n",
              "      <th>4067</th>\n",
              "      <td>1996</td>\n",
              "      <td>Kingpin</td>\n",
              "      <td>roy munson was raised to be the best bowler in...</td>\n",
              "      <td>['Comedy', 'Sport']</td>\n",
              "      <td>6.9</td>\n",
              "    </tr>\n",
              "  </tbody>\n",
              "</table>\n",
              "</div>"
            ],
            "text/plain": [
              "      year  ... rating\n",
              "3107  2003  ...    8.0\n",
              "900   2008  ...    5.6\n",
              "6724  1941  ...    7.2\n",
              "4704  1954  ...    7.4\n",
              "2582  1990  ...    6.6\n",
              "9784  1943  ...    8.1\n",
              "8804  2004  ...    5.5\n",
              "3501  1941  ...    7.8\n",
              "7145  2008  ...    6.7\n",
              "4067  1996  ...    6.9\n",
              "\n",
              "[10 rows x 5 columns]"
            ]
          },
          "metadata": {
            "tags": []
          },
          "execution_count": 63
        }
      ]
    },
    {
      "cell_type": "markdown",
      "metadata": {
        "colab_type": "text",
        "id": "mMmyABVWPa5r"
      },
      "source": [
        "#### Arreglo a la data"
      ]
    },
    {
      "cell_type": "code",
      "metadata": {
        "colab_type": "code",
        "id": "CF0B6XE8Pa5s",
        "colab": {}
      },
      "source": [
        "def arregla_doble_espacio(sentence):\n",
        "    cleaned_sentence = re.sub(r\" '\",\"'\", sentence)\n",
        "    return cleaned_sentence\n",
        "\n",
        "def arregla_espacio2(sentence):\n",
        "    cleaned_sentence = re.sub(r\"' \",\"'\", sentence)\n",
        "    return cleaned_sentence\n",
        "\n",
        "def arregla_abrev(sentence):\n",
        "    cleaned_sentence = re.sub(r\"won't\",\" will not\", sentence)\n",
        "    cleaned_sentence = re.sub(r\"can\\'t\",\" can not\", cleaned_sentence)\n",
        "    cleaned_sentence = re.sub(r\"n\\'t\",\" not\", cleaned_sentence)\n",
        "    cleaned_sentence = re.sub(r\"\\'re\",\" are\", cleaned_sentence)\n",
        "    cleaned_sentence = re.sub(r\"\\'s\",\" is\", cleaned_sentence)\n",
        "    cleaned_sentence = re.sub(r\"\\'d\",\" would\", cleaned_sentence)\n",
        "    cleaned_sentence = re.sub(r\"\\'ll\",\" will\", cleaned_sentence)\n",
        "    cleaned_sentence = re.sub(r\"\\'t\",\" not\", cleaned_sentence)\n",
        "    cleaned_sentence = re.sub(r\"\\'ve\",\" have\", cleaned_sentence)\n",
        "    cleaned_sentence = re.sub(r\"\\'m\",\" am\", cleaned_sentence)\n",
        "    return cleaned_sentence\n",
        "\n",
        "def remove_punctuation(sentence):\n",
        "    cleaned_sentence = re.sub(r'[?|!|\\'|\"|#]', '', sentence)\n",
        "    cleaned_sentence = re.sub(r'[,|.|;|:|(|)|{|}|\\|/|<|>]|-', ' ', cleaned_sentence)\n",
        "    cleaned_sentence = cleaned_sentence.replace(\"\\n\",\" \")\n",
        "    cleaned_sentence = re.sub(' +', ' ', cleaned_sentence)\n",
        "    return cleaned_sentence"
      ],
      "execution_count": 64,
      "outputs": []
    },
    {
      "cell_type": "code",
      "metadata": {
        "colab_type": "code",
        "id": "0Cm8-l8_Pa50",
        "colab": {}
      },
      "source": [
        "dataTraining['plot'] = dataTraining['plot'].apply(arregla_doble_espacio)\n",
        "dataTraining['plot'] = dataTraining['plot'].apply(arregla_espacio2)\n",
        "dataTraining['plot'] = dataTraining['plot'].apply(arregla_abrev)\n",
        "dataTraining['plot'] = dataTraining['plot'].apply(remove_punctuation)"
      ],
      "execution_count": 65,
      "outputs": []
    },
    {
      "cell_type": "code",
      "metadata": {
        "colab_type": "code",
        "id": "RdUeTlNCPa57",
        "colab": {}
      },
      "source": [
        "dataTesting['plot'] = dataTesting['plot'].apply(arregla_doble_espacio)\n",
        "dataTesting['plot'] = dataTesting['plot'].apply(arregla_espacio2)\n",
        "dataTesting['plot'] = dataTesting['plot'].apply(arregla_abrev)\n",
        "dataTesting['plot'] = dataTesting['plot'].apply(remove_punctuation)"
      ],
      "execution_count": 66,
      "outputs": []
    },
    {
      "cell_type": "code",
      "metadata": {
        "colab_type": "code",
        "id": "f0KwlY-zPa6E",
        "colab": {}
      },
      "source": [
        "#expotar la base arreglada para revisar en excel\n",
        "#dataTraining.to_csv('train.csv', index_label='ID')"
      ],
      "execution_count": 67,
      "outputs": []
    },
    {
      "cell_type": "markdown",
      "metadata": {
        "colab_type": "text",
        "id": "I4pE4S3bPa7i"
      },
      "source": [
        "### Create y"
      ]
    },
    {
      "cell_type": "code",
      "metadata": {
        "colab_type": "code",
        "id": "G06lZQscPa7k",
        "scrolled": true,
        "colab": {}
      },
      "source": [
        "dataTraining['genres'] = dataTraining['genres'].map(lambda x: eval(x))\n",
        "le = MultiLabelBinarizer()\n",
        "y_genres = le.fit_transform(dataTraining['genres'])\n",
        "#y_genres = dataTraining['genres']"
      ],
      "execution_count": 68,
      "outputs": []
    },
    {
      "cell_type": "code",
      "metadata": {
        "colab_type": "code",
        "id": "4Q8ssD42Pa6O",
        "colab": {
          "base_uri": "https://localhost:8080/",
          "height": 335
        },
        "outputId": "7da02369-99bd-4a78-e492-19a160a9bbb1"
      },
      "source": [
        "dataTesting.iloc[:10]"
      ],
      "execution_count": 69,
      "outputs": [
        {
          "output_type": "execute_result",
          "data": {
            "text/html": [
              "<div>\n",
              "<style scoped>\n",
              "    .dataframe tbody tr th:only-of-type {\n",
              "        vertical-align: middle;\n",
              "    }\n",
              "\n",
              "    .dataframe tbody tr th {\n",
              "        vertical-align: top;\n",
              "    }\n",
              "\n",
              "    .dataframe thead th {\n",
              "        text-align: right;\n",
              "    }\n",
              "</style>\n",
              "<table border=\"1\" class=\"dataframe\">\n",
              "  <thead>\n",
              "    <tr style=\"text-align: right;\">\n",
              "      <th></th>\n",
              "      <th>year</th>\n",
              "      <th>title</th>\n",
              "      <th>plot</th>\n",
              "    </tr>\n",
              "  </thead>\n",
              "  <tbody>\n",
              "    <tr>\n",
              "      <th>1</th>\n",
              "      <td>1999</td>\n",
              "      <td>Message in a Bottle</td>\n",
              "      <td>who meets by fate shall be sealed by fate ther...</td>\n",
              "    </tr>\n",
              "    <tr>\n",
              "      <th>4</th>\n",
              "      <td>1978</td>\n",
              "      <td>Midnight Express</td>\n",
              "      <td>the true story of billy hayes an american coll...</td>\n",
              "    </tr>\n",
              "    <tr>\n",
              "      <th>5</th>\n",
              "      <td>1996</td>\n",
              "      <td>Primal Fear</td>\n",
              "      <td>martin vail left the chicago da is office to b...</td>\n",
              "    </tr>\n",
              "    <tr>\n",
              "      <th>6</th>\n",
              "      <td>1950</td>\n",
              "      <td>Crisis</td>\n",
              "      <td>husband and wife americans dr eugene and mrs h...</td>\n",
              "    </tr>\n",
              "    <tr>\n",
              "      <th>7</th>\n",
              "      <td>1959</td>\n",
              "      <td>The Tingler</td>\n",
              "      <td>the coroner and scientist dr warren chapin is ...</td>\n",
              "    </tr>\n",
              "    <tr>\n",
              "      <th>9</th>\n",
              "      <td>1961</td>\n",
              "      <td>Barabbas</td>\n",
              "      <td>epic account of the thief barabbas who was spa...</td>\n",
              "    </tr>\n",
              "    <tr>\n",
              "      <th>11</th>\n",
              "      <td>2005</td>\n",
              "      <td>Rize</td>\n",
              "      <td>reveals a groundbreaking dance phenomenon that...</td>\n",
              "    </tr>\n",
              "    <tr>\n",
              "      <th>13</th>\n",
              "      <td>2000</td>\n",
              "      <td>The Yards</td>\n",
              "      <td>in the rail yards of queens contractors repair...</td>\n",
              "    </tr>\n",
              "    <tr>\n",
              "      <th>16</th>\n",
              "      <td>1992</td>\n",
              "      <td>Used People</td>\n",
              "      <td>at her husband is funeral pearl shirley maclai...</td>\n",
              "    </tr>\n",
              "    <tr>\n",
              "      <th>21</th>\n",
              "      <td>2004</td>\n",
              "      <td>My Baby's Daddy</td>\n",
              "      <td>lonnie dominic and g are three bachelor buddie...</td>\n",
              "    </tr>\n",
              "  </tbody>\n",
              "</table>\n",
              "</div>"
            ],
            "text/plain": [
              "    year  ...                                               plot\n",
              "1   1999  ...  who meets by fate shall be sealed by fate ther...\n",
              "4   1978  ...  the true story of billy hayes an american coll...\n",
              "5   1996  ...  martin vail left the chicago da is office to b...\n",
              "6   1950  ...  husband and wife americans dr eugene and mrs h...\n",
              "7   1959  ...  the coroner and scientist dr warren chapin is ...\n",
              "9   1961  ...  epic account of the thief barabbas who was spa...\n",
              "11  2005  ...  reveals a groundbreaking dance phenomenon that...\n",
              "13  2000  ...  in the rail yards of queens contractors repair...\n",
              "16  1992  ...  at her husband is funeral pearl shirley maclai...\n",
              "21  2004  ...  lonnie dominic and g are three bachelor buddie...\n",
              "\n",
              "[10 rows x 3 columns]"
            ]
          },
          "metadata": {
            "tags": []
          },
          "execution_count": 69
        }
      ]
    },
    {
      "cell_type": "code",
      "metadata": {
        "id": "s6dBUsswTE2L",
        "colab_type": "code",
        "colab": {
          "base_uri": "https://localhost:8080/",
          "height": 196
        },
        "outputId": "a56d80a0-0061-4897-e541-4a0ba897f49f"
      },
      "source": [
        "lista =dataTraining['plot']\n",
        "llen=list()\n",
        "for l in lista:\n",
        "  llen.append(len(l.split()))\n",
        "pd.Series(llen).describe(percentiles=[0.8,0.9,0.95,0.975])"
      ],
      "execution_count": 70,
      "outputs": [
        {
          "output_type": "execute_result",
          "data": {
            "text/plain": [
              "count    7895.000000\n",
              "mean      126.632299\n",
              "std        84.422392\n",
              "min         1.000000\n",
              "50%       110.000000\n",
              "80%       180.000000\n",
              "90%       240.000000\n",
              "95%       290.300000\n",
              "97.5%     334.000000\n",
              "max      1723.000000\n",
              "dtype: float64"
            ]
          },
          "metadata": {
            "tags": []
          },
          "execution_count": 70
        }
      ]
    },
    {
      "cell_type": "code",
      "metadata": {
        "id": "vkOfq79CTwJS",
        "colab_type": "code",
        "colab": {}
      },
      "source": [
        "max_words = 340    #340\n",
        "batch_size = 32\n",
        "nb_epoch = 10"
      ],
      "execution_count": 61,
      "outputs": []
    },
    {
      "cell_type": "markdown",
      "metadata": {
        "colab_type": "text",
        "id": "l_3GeAJFPa6X"
      },
      "source": [
        "## **MLP**\n"
      ]
    },
    {
      "cell_type": "code",
      "metadata": {
        "id": "DwciFN0LPvVU",
        "colab_type": "code",
        "colab": {}
      },
      "source": [
        ""
      ],
      "execution_count": null,
      "outputs": []
    },
    {
      "cell_type": "code",
      "metadata": {
        "id": "FXkjhHCD1s4F",
        "colab_type": "code",
        "colab": {}
      },
      "source": [
        "X=dataTraining['plot']\n",
        "vect = CountVectorizer(stop_words='english', max_features=10000)\n",
        "X_dtm = vect.fit_transform(X)\n",
        "words = list(vect.vocabulary_.keys())\n",
        "vocabulary = {x: idx + 1 for idx, x in enumerate(set(words))}"
      ],
      "execution_count": 112,
      "outputs": []
    },
    {
      "cell_type": "code",
      "metadata": {
        "id": "kNgWzKeADCQh",
        "colab_type": "code",
        "colab": {}
      },
      "source": [
        "lp=list()\n",
        "for p in X:\n",
        "    lidx=list()\n",
        "    #print(p)\n",
        "    listapalabras=p.split()\n",
        "    #print(listapalabras)\n",
        "    for w in listapalabras:\n",
        "      if w in vocabulary.keys():\n",
        "        lidx.append(vocabulary[w])\n",
        "    lp.append(lidx)\n"
      ],
      "execution_count": 113,
      "outputs": []
    },
    {
      "cell_type": "code",
      "metadata": {
        "id": "6kj1VBiCDIzF",
        "colab_type": "code",
        "colab": {
          "base_uri": "https://localhost:8080/",
          "height": 131
        },
        "outputId": "2fc4bf51-223b-4817-ba0e-18e60a257a09"
      },
      "source": [
        "max_words =500\n",
        "from keras.preprocessing import sequence\n",
        "X_pad2 = sequence.pad_sequences(lp, maxlen=max_words)\n",
        "len(X_pad2)\n",
        "X_pad2"
      ],
      "execution_count": 117,
      "outputs": [
        {
          "output_type": "execute_result",
          "data": {
            "text/plain": [
              "array([[   0,    0,    0, ..., 6028,  852, 1360],\n",
              "       [   0,    0,    0, ..., 8062, 3746, 9442],\n",
              "       [   0,    0,    0, ..., 7776, 3529, 1146],\n",
              "       ...,\n",
              "       [   0,    0,    0, ..., 1020, 3739, 6015],\n",
              "       [   0,    0,    0, ..., 7347,  766, 1873],\n",
              "       [   0,    0,    0, ..., 6554, 5575, 9589]], dtype=int32)"
            ]
          },
          "metadata": {
            "tags": []
          },
          "execution_count": 117
        }
      ]
    },
    {
      "cell_type": "code",
      "metadata": {
        "id": "phqupcE8DMgU",
        "colab_type": "code",
        "colab": {}
      },
      "source": [
        "#Divido la base de datos\n",
        "X_train, X_test, y_train_genres, y_test_genres = train_test_split(X_pad2, y_genres, test_size=0.33, random_state=42)\n"
      ],
      "execution_count": 119,
      "outputs": []
    },
    {
      "cell_type": "code",
      "metadata": {
        "id": "65kVntO3DR2U",
        "colab_type": "code",
        "colab": {
          "base_uri": "https://localhost:8080/",
          "height": 342
        },
        "outputId": "7fea3ce4-35ed-4c0a-a9c4-10f8b116e803"
      },
      "source": [
        "from keras.models import Sequential\n",
        "from keras.layers.core import Dense, Dropout, Activation\n",
        "from keras.preprocessing.text import Tokenizer\n",
        "import tensorflow as tf\n",
        "from keras import layers\n",
        "model = Sequential()\n",
        "model.add(layers.Embedding(input_dim=len(vocabulary) + 1, output_dim=400,   input_length=X_pad2.shape[1]))  #len(vocabulary) + 1\n",
        "model.add(layers.Flatten())\n",
        "model.add(layers.Dense(500,activation='relu')) #500\n",
        "#model.add(Dropout(0.1)) #0.2\n",
        "model.add(layers.Dense(500,activation='relu')) #500\n",
        "model.add(layers.Dense(500,activation='relu')) #500\n",
        "#model.add(layers.Dense(300,activation='relu')) #500\n",
        "model.add(layers.Dense(24, activation='softmax'))\n",
        "metric = tf.keras.metrics.AUC(multi_label = True)\n",
        "model.compile(loss='binary_crossentropy', optimizer='adam', metrics=[metric])\n",
        "model.summary()"
      ],
      "execution_count": 120,
      "outputs": [
        {
          "output_type": "stream",
          "text": [
            "Model: \"sequential_24\"\n",
            "_________________________________________________________________\n",
            "Layer (type)                 Output Shape              Param #   \n",
            "=================================================================\n",
            "embedding_23 (Embedding)     (None, 500, 400)          4000400   \n",
            "_________________________________________________________________\n",
            "flatten_23 (Flatten)         (None, 200000)            0         \n",
            "_________________________________________________________________\n",
            "dense_50 (Dense)             (None, 500)               100000500 \n",
            "_________________________________________________________________\n",
            "dense_51 (Dense)             (None, 500)               250500    \n",
            "_________________________________________________________________\n",
            "dense_52 (Dense)             (None, 500)               250500    \n",
            "_________________________________________________________________\n",
            "dense_53 (Dense)             (None, 24)                12024     \n",
            "=================================================================\n",
            "Total params: 104,513,924\n",
            "Trainable params: 104,513,924\n",
            "Non-trainable params: 0\n",
            "_________________________________________________________________\n"
          ],
          "name": "stdout"
        }
      ]
    },
    {
      "cell_type": "code",
      "metadata": {
        "id": "hpcdTODKDdWO",
        "colab_type": "code",
        "colab": {
          "base_uri": "https://localhost:8080/",
          "height": 407
        },
        "outputId": "140f90b8-6c5b-488d-db93-aaf830b1e036"
      },
      "source": [
        "model.fit(X_train, y_train_genres,\n",
        "          validation_data = (X_test, y_test_genres),\n",
        "          epochs=10, verbose=2,  batch_size=20) #50"
      ],
      "execution_count": 87,
      "outputs": [
        {
          "output_type": "stream",
          "text": [
            "/usr/local/lib/python3.6/dist-packages/tensorflow/python/framework/indexed_slices.py:434: UserWarning: Converting sparse IndexedSlices to a dense Tensor of unknown shape. This may consume a large amount of memory.\n",
            "  \"Converting sparse IndexedSlices to a dense Tensor of unknown shape. \"\n"
          ],
          "name": "stderr"
        },
        {
          "output_type": "stream",
          "text": [
            "Train on 5289 samples, validate on 2606 samples\n",
            "Epoch 1/10\n",
            " - 32s - loss: 0.3461 - auc_8: 0.4990 - val_loss: 0.3306 - val_auc_8: 0.5681\n",
            "Epoch 2/10\n",
            " - 32s - loss: 0.2910 - auc_8: 0.6397 - val_loss: 0.3154 - val_auc_8: 0.6900\n",
            "Epoch 3/10\n",
            " - 32s - loss: 0.2256 - auc_8: 0.7350 - val_loss: 0.3000 - val_auc_8: 0.7679\n",
            "Epoch 4/10\n",
            " - 32s - loss: 0.1931 - auc_8: 0.7933 - val_loss: 0.3052 - val_auc_8: 0.8115\n",
            "Epoch 5/10\n",
            " - 32s - loss: 0.1704 - auc_8: 0.8277 - val_loss: 0.3314 - val_auc_8: 0.8399\n",
            "Epoch 6/10\n",
            " - 32s - loss: 0.1592 - auc_8: 0.8495 - val_loss: 0.3633 - val_auc_8: 0.8565\n",
            "Epoch 7/10\n",
            " - 32s - loss: 0.1509 - auc_8: 0.8622 - val_loss: 0.3405 - val_auc_8: 0.8681\n",
            "Epoch 8/10\n",
            " - 32s - loss: 0.1448 - auc_8: 0.8729 - val_loss: 0.3613 - val_auc_8: 0.8768\n",
            "Epoch 9/10\n",
            " - 32s - loss: 0.1403 - auc_8: 0.8803 - val_loss: 0.3645 - val_auc_8: 0.8832\n",
            "Epoch 10/10\n",
            " - 32s - loss: 0.1380 - auc_8: 0.8859 - val_loss: 0.3695 - val_auc_8: 0.8881\n"
          ],
          "name": "stdout"
        },
        {
          "output_type": "execute_result",
          "data": {
            "text/plain": [
              "<keras.callbacks.callbacks.History at 0x7f23067962e8>"
            ]
          },
          "metadata": {
            "tags": []
          },
          "execution_count": 87
        }
      ]
    },
    {
      "cell_type": "code",
      "metadata": {
        "id": "QRTGVdKnDeGl",
        "colab_type": "code",
        "colab": {
          "base_uri": "https://localhost:8080/",
          "height": 33
        },
        "outputId": "b7b99e0e-b141-4748-e8e5-d4b3c358233e"
      },
      "source": [
        "y_pred_genres = model.predict_proba(X_test)\n",
        "roc_auc_score(y_test_genres, y_pred_genres, average='macro') #82.8"
      ],
      "execution_count": 88,
      "outputs": [
        {
          "output_type": "execute_result",
          "data": {
            "text/plain": [
              "0.8153135420043781"
            ]
          },
          "metadata": {
            "tags": []
          },
          "execution_count": 88
        }
      ]
    },
    {
      "cell_type": "markdown",
      "metadata": {
        "id": "5KAI1DlfPgbk",
        "colab_type": "text"
      },
      "source": [
        "### Predict the testing dataset"
      ]
    },
    {
      "cell_type": "code",
      "metadata": {
        "id": "d6UrKgi1Bmbv",
        "colab_type": "code",
        "colab": {}
      },
      "source": [
        "X_test_dtm = vect.transform(dataTesting['plot'])\n",
        "\n",
        "cols = ['p_Action', 'p_Adventure', 'p_Animation', 'p_Biography', 'p_Comedy', 'p_Crime', 'p_Documentary', 'p_Drama', 'p_Family',\n",
        "        'p_Fantasy', 'p_Film-Noir', 'p_History', 'p_Horror', 'p_Music', 'p_Musical', 'p_Mystery', 'p_News', 'p_Romance',\n",
        "        'p_Sci-Fi', 'p_Short', 'p_Sport', 'p_Thriller', 'p_War', 'p_Western']\n",
        "\n",
        "y_pred_test_genres = clf.predict_proba(X_test_dtm)"
      ],
      "execution_count": null,
      "outputs": []
    },
    {
      "cell_type": "code",
      "metadata": {
        "colab_type": "code",
        "id": "QUaiUVQOPa8n",
        "colab": {}
      },
      "source": [
        "res = pd.DataFrame(y_pred_test_genres, index=dataTesting.index, columns=cols)"
      ],
      "execution_count": null,
      "outputs": []
    },
    {
      "cell_type": "code",
      "metadata": {
        "colab_type": "code",
        "id": "Fp6WQkpOPa8w",
        "colab": {},
        "outputId": "97d166fc-ecd5-4f44-814c-3a220ac43abd"
      },
      "source": [
        "res.head()"
      ],
      "execution_count": null,
      "outputs": [
        {
          "output_type": "execute_result",
          "data": {
            "text/html": [
              "<div>\n",
              "<style scoped>\n",
              "    .dataframe tbody tr th:only-of-type {\n",
              "        vertical-align: middle;\n",
              "    }\n",
              "\n",
              "    .dataframe tbody tr th {\n",
              "        vertical-align: top;\n",
              "    }\n",
              "\n",
              "    .dataframe thead th {\n",
              "        text-align: right;\n",
              "    }\n",
              "</style>\n",
              "<table border=\"1\" class=\"dataframe\">\n",
              "  <thead>\n",
              "    <tr style=\"text-align: right;\">\n",
              "      <th></th>\n",
              "      <th>p_Action</th>\n",
              "      <th>p_Adventure</th>\n",
              "      <th>p_Animation</th>\n",
              "      <th>p_Biography</th>\n",
              "      <th>p_Comedy</th>\n",
              "      <th>p_Crime</th>\n",
              "      <th>p_Documentary</th>\n",
              "      <th>p_Drama</th>\n",
              "      <th>p_Family</th>\n",
              "      <th>p_Fantasy</th>\n",
              "      <th>...</th>\n",
              "      <th>p_Musical</th>\n",
              "      <th>p_Mystery</th>\n",
              "      <th>p_News</th>\n",
              "      <th>p_Romance</th>\n",
              "      <th>p_Sci-Fi</th>\n",
              "      <th>p_Short</th>\n",
              "      <th>p_Sport</th>\n",
              "      <th>p_Thriller</th>\n",
              "      <th>p_War</th>\n",
              "      <th>p_Western</th>\n",
              "    </tr>\n",
              "  </thead>\n",
              "  <tbody>\n",
              "    <tr>\n",
              "      <td>1</td>\n",
              "      <td>0.096</td>\n",
              "      <td>0.077</td>\n",
              "      <td>0.017</td>\n",
              "      <td>0.020</td>\n",
              "      <td>0.391</td>\n",
              "      <td>0.077</td>\n",
              "      <td>0.013</td>\n",
              "      <td>0.504</td>\n",
              "      <td>0.046</td>\n",
              "      <td>0.133</td>\n",
              "      <td>...</td>\n",
              "      <td>0.076</td>\n",
              "      <td>0.063</td>\n",
              "      <td>0.000</td>\n",
              "      <td>0.477</td>\n",
              "      <td>0.023</td>\n",
              "      <td>0.036</td>\n",
              "      <td>0.014</td>\n",
              "      <td>0.210</td>\n",
              "      <td>0.029</td>\n",
              "      <td>0.017</td>\n",
              "    </tr>\n",
              "    <tr>\n",
              "      <td>4</td>\n",
              "      <td>0.149</td>\n",
              "      <td>0.035</td>\n",
              "      <td>0.020</td>\n",
              "      <td>0.126</td>\n",
              "      <td>0.320</td>\n",
              "      <td>0.346</td>\n",
              "      <td>0.123</td>\n",
              "      <td>0.499</td>\n",
              "      <td>0.038</td>\n",
              "      <td>0.034</td>\n",
              "      <td>...</td>\n",
              "      <td>0.019</td>\n",
              "      <td>0.034</td>\n",
              "      <td>0.000</td>\n",
              "      <td>0.106</td>\n",
              "      <td>0.012</td>\n",
              "      <td>0.008</td>\n",
              "      <td>0.005</td>\n",
              "      <td>0.190</td>\n",
              "      <td>0.086</td>\n",
              "      <td>0.015</td>\n",
              "    </tr>\n",
              "    <tr>\n",
              "      <td>5</td>\n",
              "      <td>0.100</td>\n",
              "      <td>0.037</td>\n",
              "      <td>0.003</td>\n",
              "      <td>0.020</td>\n",
              "      <td>0.170</td>\n",
              "      <td>0.532</td>\n",
              "      <td>0.006</td>\n",
              "      <td>0.677</td>\n",
              "      <td>0.029</td>\n",
              "      <td>0.039</td>\n",
              "      <td>...</td>\n",
              "      <td>0.001</td>\n",
              "      <td>0.258</td>\n",
              "      <td>0.000</td>\n",
              "      <td>0.210</td>\n",
              "      <td>0.046</td>\n",
              "      <td>0.000</td>\n",
              "      <td>0.007</td>\n",
              "      <td>0.430</td>\n",
              "      <td>0.020</td>\n",
              "      <td>0.039</td>\n",
              "    </tr>\n",
              "    <tr>\n",
              "      <td>6</td>\n",
              "      <td>0.162</td>\n",
              "      <td>0.084</td>\n",
              "      <td>0.009</td>\n",
              "      <td>0.025</td>\n",
              "      <td>0.280</td>\n",
              "      <td>0.074</td>\n",
              "      <td>0.017</td>\n",
              "      <td>0.603</td>\n",
              "      <td>0.062</td>\n",
              "      <td>0.034</td>\n",
              "      <td>...</td>\n",
              "      <td>0.057</td>\n",
              "      <td>0.099</td>\n",
              "      <td>0.001</td>\n",
              "      <td>0.232</td>\n",
              "      <td>0.120</td>\n",
              "      <td>0.001</td>\n",
              "      <td>0.031</td>\n",
              "      <td>0.319</td>\n",
              "      <td>0.069</td>\n",
              "      <td>0.012</td>\n",
              "    </tr>\n",
              "    <tr>\n",
              "      <td>7</td>\n",
              "      <td>0.105</td>\n",
              "      <td>0.094</td>\n",
              "      <td>0.010</td>\n",
              "      <td>0.022</td>\n",
              "      <td>0.209</td>\n",
              "      <td>0.271</td>\n",
              "      <td>0.010</td>\n",
              "      <td>0.389</td>\n",
              "      <td>0.040</td>\n",
              "      <td>0.098</td>\n",
              "      <td>...</td>\n",
              "      <td>0.022</td>\n",
              "      <td>0.106</td>\n",
              "      <td>0.000</td>\n",
              "      <td>0.134</td>\n",
              "      <td>0.324</td>\n",
              "      <td>0.000</td>\n",
              "      <td>0.007</td>\n",
              "      <td>0.217</td>\n",
              "      <td>0.012</td>\n",
              "      <td>0.006</td>\n",
              "    </tr>\n",
              "  </tbody>\n",
              "</table>\n",
              "<p>5 rows × 24 columns</p>\n",
              "</div>"
            ],
            "text/plain": [
              "   p_Action  p_Adventure  p_Animation  p_Biography  p_Comedy  p_Crime  \\\n",
              "1     0.096        0.077        0.017        0.020     0.391    0.077   \n",
              "4     0.149        0.035        0.020        0.126     0.320    0.346   \n",
              "5     0.100        0.037        0.003        0.020     0.170    0.532   \n",
              "6     0.162        0.084        0.009        0.025     0.280    0.074   \n",
              "7     0.105        0.094        0.010        0.022     0.209    0.271   \n",
              "\n",
              "   p_Documentary  p_Drama  p_Family  p_Fantasy  ...  p_Musical  p_Mystery  \\\n",
              "1          0.013    0.504     0.046      0.133  ...      0.076      0.063   \n",
              "4          0.123    0.499     0.038      0.034  ...      0.019      0.034   \n",
              "5          0.006    0.677     0.029      0.039  ...      0.001      0.258   \n",
              "6          0.017    0.603     0.062      0.034  ...      0.057      0.099   \n",
              "7          0.010    0.389     0.040      0.098  ...      0.022      0.106   \n",
              "\n",
              "   p_News  p_Romance  p_Sci-Fi  p_Short  p_Sport  p_Thriller  p_War  p_Western  \n",
              "1   0.000      0.477     0.023    0.036    0.014       0.210  0.029      0.017  \n",
              "4   0.000      0.106     0.012    0.008    0.005       0.190  0.086      0.015  \n",
              "5   0.000      0.210     0.046    0.000    0.007       0.430  0.020      0.039  \n",
              "6   0.001      0.232     0.120    0.001    0.031       0.319  0.069      0.012  \n",
              "7   0.000      0.134     0.324    0.000    0.007       0.217  0.012      0.006  \n",
              "\n",
              "[5 rows x 24 columns]"
            ]
          },
          "metadata": {
            "tags": []
          },
          "execution_count": 27
        }
      ]
    },
    {
      "cell_type": "code",
      "metadata": {
        "colab_type": "code",
        "id": "Ov3uligNPa8_",
        "colab": {}
      },
      "source": [
        "res.to_csv('pred_genres_text_RF.csv', index_label='ID')"
      ],
      "execution_count": null,
      "outputs": []
    },
    {
      "cell_type": "code",
      "metadata": {
        "id": "7jfyFC-cSydO",
        "colab_type": "code",
        "colab": {}
      },
      "source": [
        ""
      ],
      "execution_count": null,
      "outputs": []
    }
  ]
}